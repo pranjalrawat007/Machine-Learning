{
 "cells": [
  {
   "cell_type": "code",
   "execution_count": 1,
   "metadata": {
    "_cell_guid": "b1076dfc-b9ad-4769-8c92-a6c4dae69d19",
    "_uuid": "8f2839f25d086af736a60e9eeb907d3b93b6e0e5"
   },
   "outputs": [
    {
     "name": "stdout",
     "output_type": "stream",
     "text": [
      "Loading Handwritted Digits...\n",
      "Selecting only 1s and 0s...\n",
      "Shuffling...\n"
     ]
    }
   ],
   "source": [
    "print('Loading Handwritted Digits...')\n",
    "import numpy as np\n",
    "from sklearn.datasets import load_digits\n",
    "digits = load_digits()\n",
    "images = digits.data.reshape(-1, 8, 8)\n",
    "labels = digits.target\n",
    "\n",
    "print('Selecting only 1s and 0s...')\n",
    "whereOnes = np.where(labels == 1, 1, 0)\n",
    "images_ones = images[whereOnes==1]\n",
    "whereZeros = np.where(labels == 0, 1, 0)\n",
    "images_zeros = images[whereZeros==1]\n",
    "INPUT = np.r_[images_ones.ravel(), images_zeros.ravel()].reshape(-1, 8, 8)\n",
    "LABEL = np.r_[labels[whereOnes == 1], labels[whereZeros ==1]]\n",
    "\n",
    "print('Shuffling...')\n",
    "np.random.seed(1)\n",
    "randomize = np.arange(len(INPUT))\n",
    "np.random.shuffle(randomize)\n",
    "\n",
    "INPUT = INPUT[randomize]\n",
    "LABEL = LABEL[randomize]"
   ]
  },
  {
   "cell_type": "code",
   "execution_count": 2,
   "metadata": {
    "_cell_guid": "79c7e3d0-c299-4dcb-8224-4455121ee9b0",
    "_uuid": "d629ff2d2480ee46fbb7e2d37f6b5fab8052498a"
   },
   "outputs": [
    {
     "name": "stdout",
     "output_type": "stream",
     "text": [
      "Visualizing Labels & Raw Input...\n"
     ]
    },
    {
     "data": {
      "image/png": "[encoded data removed]",
      "text/plain": [
       "<Figure size 432x288 with 1 Axes>"
      ]
     },
     "metadata": {
      "needs_background": "light"
     },
     "output_type": "display_data"
    },
    {
     "data": {
      "image/png": "[encoded data removed]",
      "text/plain": [
       "<Figure size 432x288 with 1 Axes>"
      ]
     },
     "metadata": {
      "needs_background": "light"
     },
     "output_type": "display_data"
    }
   ],
   "source": [
    "%matplotlib inline\n",
    "print('Visualizing Labels & Raw Input...')\n",
    "import matplotlib.pyplot as plt\n",
    "img_no = 0\n",
    "plt.imshow(INPUT[img_no], cmap=\"gray\")\n",
    "plt.title(label = f'Label = {LABEL[img_no]}')\n",
    "plt.show()\n",
    "\n",
    "img_no = 10\n",
    "plt.imshow(INPUT[img_no], cmap=\"gray\", label = 'Y = {LABEL[1]}')\n",
    "plt.title(label = f'Label = {LABEL[img_no]}')\n",
    "plt.show()"
   ]
  },
  {
   "cell_type": "code",
   "execution_count": 3,
   "metadata": {},
   "outputs": [
    {
     "name": "stderr",
     "output_type": "stream",
     "text": [
      "Using TensorFlow backend.\n"
     ]
    }
   ],
   "source": [
    "import warnings\n",
    "warnings.filterwarnings(\"ignore\")\n",
    "from keras.layers import Input, Dense, Flatten, Conv2D\n",
    "from keras.models import Model"
   ]
  },
  {
   "cell_type": "code",
   "execution_count": 4,
   "metadata": {},
   "outputs": [
    {
     "name": "stdout",
     "output_type": "stream",
     "text": [
      "Preprocessing...\n",
      "(300, 8, 8, 1) (60, 8, 8, 1)\n",
      "(300, 1) (60, 1)\n"
     ]
    }
   ],
   "source": [
    "print('Preprocessing...')\n",
    "INPUT = INPUT.reshape(360, 8, 8, 1)\n",
    "LABEL = LABEL.reshape(-1, 1)\n",
    "X_train, X_test = INPUT[:300, :, :, :], INPUT[300:, :, :, :]\n",
    "y_train, y_test = LABEL[:300, :], LABEL[300:, :]\n",
    "\n",
    "print(X_train.shape, X_test.shape)\n",
    "print(y_train.shape, y_test.shape)"
   ]
  },
  {
   "cell_type": "code",
   "execution_count": 5,
   "metadata": {},
   "outputs": [],
   "source": [
    "def CNN(input_shape):\n",
    "    X_input = Input(input_shape, name = 'Layer_0')\n",
    "    X = Conv2D(1, (3, 3), strides = (1, 1), name = 'Layer_1')(X_input)\n",
    "    X = Flatten(name = 'Layer_2_1')(X)\n",
    "    X = Dense(1, activation='sigmoid', name = 'Layer_2_2')(X)\n",
    "    model = Model(inputs = X_input, outputs = X, name='MNIST-CNN')\n",
    "    return model"
   ]
  },
  {
   "cell_type": "code",
   "execution_count": 6,
   "metadata": {},
   "outputs": [
    {
     "name": "stdout",
     "output_type": "stream",
     "text": [
      "Epoch 1/10\n",
      "300/300 [==============================] - 0s 2ms/step - loss: 0.4118 - acc: 0.9200\n",
      "Epoch 2/10\n",
      "300/300 [==============================] - 0s 60us/step - loss: 0.1480 - acc: 0.9700\n",
      "Epoch 3/10\n",
      "300/300 [==============================] - 0s 59us/step - loss: 0.1300 - acc: 0.9700\n",
      "Epoch 4/10\n",
      "300/300 [==============================] - 0s 61us/step - loss: 0.1140 - acc: 0.9767\n",
      "Epoch 5/10\n",
      "300/300 [==============================] - 0s 63us/step - loss: 0.1017 - acc: 0.9800\n",
      "Epoch 6/10\n",
      "300/300 [==============================] - 0s 64us/step - loss: 0.0925 - acc: 0.9833\n",
      "Epoch 7/10\n",
      "300/300 [==============================] - 0s 61us/step - loss: 0.0865 - acc: 0.9833\n",
      "Epoch 8/10\n",
      "300/300 [==============================] - 0s 63us/step - loss: 0.0792 - acc: 0.9800\n",
      "Epoch 9/10\n",
      "300/300 [==============================] - 0s 61us/step - loss: 0.0696 - acc: 0.9833\n",
      "Epoch 10/10\n",
      "300/300 [==============================] - 0s 61us/step - loss: 0.0656 - acc: 0.9833\n"
     ]
    },
    {
     "data": {
      "text/plain": [
       "<keras.callbacks.History at 0x7fc231d02908>"
      ]
     },
     "execution_count": 6,
     "metadata": {},
     "output_type": "execute_result"
    }
   ],
   "source": [
    "shape = X_train[0, :, :, :].shape\n",
    "MNIST_CNN = CNN(shape)\n",
    "MNIST_CNN.compile(optimizer='SGD', loss='binary_crossentropy',  metrics = [\"accuracy\"])\n",
    "MNIST_CNN.fit(x = X_train, y = y_train, epochs = 10, batch_size = 32)"
   ]
  },
  {
   "cell_type": "code",
   "execution_count": 7,
   "metadata": {},
   "outputs": [
    {
     "name": "stdout",
     "output_type": "stream",
     "text": [
      "60/60 [==============================] - 0s 667us/step\n",
      "Test Loss = 0.09569, Test Accuracy = 0.95\n"
     ]
    }
   ],
   "source": [
    "preds = MNIST_CNN.evaluate(x = X_test, y = y_test)\n",
    "print(f\"Test Loss = {preds[0]:0.4}, Test Accuracy = {preds[1]:0.4}\")"
   ]
  },
  {
   "cell_type": "code",
   "execution_count": 8,
   "metadata": {},
   "outputs": [
    {
     "name": "stdout",
     "output_type": "stream",
     "text": [
      "_________________________________________________________________\n",
      "Layer (type)                 Output Shape              Param #   \n",
      "=================================================================\n",
      "Layer_0 (InputLayer)         (None, 8, 8, 1)           0         \n",
      "_________________________________________________________________\n",
      "Layer_1 (Conv2D)             (None, 6, 6, 1)           10        \n",
      "_________________________________________________________________\n",
      "Layer_2_1 (Flatten)          (None, 36)                0         \n",
      "_________________________________________________________________\n",
      "Layer_2_2 (Dense)            (None, 1)                 37        \n",
      "=================================================================\n",
      "Total params: 47\n",
      "Trainable params: 47\n",
      "Non-trainable params: 0\n",
      "_________________________________________________________________\n"
     ]
    }
   ],
   "source": [
    "MNIST_CNN.summary()"
   ]
  },
  {
   "cell_type": "code",
   "execution_count": 9,
   "metadata": {},
   "outputs": [
    {
     "data": {
      "image/svg+xml": [
       "<svg height=\"264pt\" viewBox=\"0.00 0.00 137.00 264.00\" width=\"137pt\" xmlns=\"http://www.w3.org/2000/svg\" xmlns:xlink=\"http://www.w3.org/1999/xlink\">\n",
       "<g class=\"graph\" id=\"graph0\" transform=\"scale(1 1) rotate(0) translate(4 260)\">\n",
       "<title>G</title>\n",
       "<polygon fill=\"white\" points=\"-4,4 -4,-260 133,-260 133,4 -4,4\" stroke=\"none\"/>\n",
       "<!-- 140471901415240 -->\n",
       "<g class=\"node\" id=\"node1\"><title>140471901415240</title>\n",
       "<polygon fill=\"none\" points=\"0,-219.5 0,-255.5 129,-255.5 129,-219.5 0,-219.5\" stroke=\"black\"/>\n",
       "<text font-family=\"Times,serif\" font-size=\"14.00\" text-anchor=\"middle\" x=\"64.5\" y=\"-233.8\">Layer_0: InputLayer</text>\n",
       "</g>\n",
       "<!-- 140471901415072 -->\n",
       "<g class=\"node\" id=\"node2\"><title>140471901415072</title>\n",
       "<polygon fill=\"none\" points=\"7,-146.5 7,-182.5 122,-182.5 122,-146.5 7,-146.5\" stroke=\"black\"/>\n",
       "<text font-family=\"Times,serif\" font-size=\"14.00\" text-anchor=\"middle\" x=\"64.5\" y=\"-160.8\">Layer_1: Conv2D</text>\n",
       "</g>\n",
       "<!-- 140471901415240&#45;&gt;140471901415072 -->\n",
       "<g class=\"edge\" id=\"edge1\"><title>140471901415240-&gt;140471901415072</title>\n",
       "<path d=\"M64.5,-219.313C64.5,-211.289 64.5,-201.547 64.5,-192.569\" fill=\"none\" stroke=\"black\"/>\n",
       "<polygon fill=\"black\" points=\"68.0001,-192.529 64.5,-182.529 61.0001,-192.529 68.0001,-192.529\" stroke=\"black\"/>\n",
       "</g>\n",
       "<!-- 140471901415912 -->\n",
       "<g class=\"node\" id=\"node3\"><title>140471901415912</title>\n",
       "<polygon fill=\"none\" points=\"4.5,-73.5 4.5,-109.5 124.5,-109.5 124.5,-73.5 4.5,-73.5\" stroke=\"black\"/>\n",
       "<text font-family=\"Times,serif\" font-size=\"14.00\" text-anchor=\"middle\" x=\"64.5\" y=\"-87.8\">Layer_2_1: Flatten</text>\n",
       "</g>\n",
       "<!-- 140471901415072&#45;&gt;140471901415912 -->\n",
       "<g class=\"edge\" id=\"edge2\"><title>140471901415072-&gt;140471901415912</title>\n",
       "<path d=\"M64.5,-146.313C64.5,-138.289 64.5,-128.547 64.5,-119.569\" fill=\"none\" stroke=\"black\"/>\n",
       "<polygon fill=\"black\" points=\"68.0001,-119.529 64.5,-109.529 61.0001,-119.529 68.0001,-119.529\" stroke=\"black\"/>\n",
       "</g>\n",
       "<!-- 140471901416136 -->\n",
       "<g class=\"node\" id=\"node4\"><title>140471901416136</title>\n",
       "<polygon fill=\"none\" points=\"6.5,-0.5 6.5,-36.5 122.5,-36.5 122.5,-0.5 6.5,-0.5\" stroke=\"black\"/>\n",
       "<text font-family=\"Times,serif\" font-size=\"14.00\" text-anchor=\"middle\" x=\"64.5\" y=\"-14.8\">Layer_2_2: Dense</text>\n",
       "</g>\n",
       "<!-- 140471901415912&#45;&gt;140471901416136 -->\n",
       "<g class=\"edge\" id=\"edge3\"><title>140471901415912-&gt;140471901416136</title>\n",
       "<path d=\"M64.5,-73.3129C64.5,-65.2895 64.5,-55.5475 64.5,-46.5691\" fill=\"none\" stroke=\"black\"/>\n",
       "<polygon fill=\"black\" points=\"68.0001,-46.5288 64.5,-36.5288 61.0001,-46.5289 68.0001,-46.5288\" stroke=\"black\"/>\n",
       "</g>\n",
       "</g>\n",
       "</svg>"
      ],
      "text/plain": [
       "<IPython.core.display.SVG object>"
      ]
     },
     "execution_count": 9,
     "metadata": {},
     "output_type": "execute_result"
    }
   ],
   "source": [
    "from keras.utils import plot_model\n",
    "from keras.utils.vis_utils import model_to_dot\n",
    "import pydot\n",
    "from IPython.display import SVG\n",
    "plot_model(MNIST_CNN, to_file='MNIST-CNN.png')\n",
    "SVG(model_to_dot(MNIST_CNN).create(prog='dot', format='svg'))"
   ]
  },
  {
   "cell_type": "code",
   "execution_count": null,
   "metadata": {},
   "outputs": [],
   "source": []
  }
 ],
 "metadata": {
  "kernelspec": {
   "display_name": "Python 3",
   "language": "python",
   "name": "python3"
  },
  "language_info": {
   "codemirror_mode": {
    "name": "ipython",
    "version": 3
   },
   "file_extension": ".py",
   "mimetype": "text/x-python",
   "name": "python",
   "nbconvert_exporter": "python",
   "pygments_lexer": "ipython3",
   "version": "3.6.6"
  }
 },
 "nbformat": 4,
 "nbformat_minor": 1
}
