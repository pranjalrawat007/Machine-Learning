{
 "cells": [
  {
   "cell_type": "code",
   "execution_count": 1,
   "id": "6c31583d-28e5-4cd4-9832-52340c364077",
   "metadata": {},
   "outputs": [
    {
     "name": "stdout",
     "output_type": "stream",
     "text": [
      "(CVXPY) Nov 16 01:46:51 PM: Encountered unexpected exception importing solver GLOP:\n",
      "RuntimeError('Unrecognized new version of ortools (9.11.4210). Expected < 9.10.0. Please open a feature request on cvxpy to enable support for this version.')\n",
      "(CVXPY) Nov 16 01:46:51 PM: Encountered unexpected exception importing solver PDLP:\n",
      "RuntimeError('Unrecognized new version of ortools (9.11.4210). Expected < 9.10.0. Please open a feature request on cvxpy to enable support for this version.')\n",
      "Optimal allocation: [0.23287671 0.42465753 0.34246575]\n",
      "Minimum risk: 0.021027397260273972\n"
     ]
    }
   ],
   "source": [
    "import numpy as np\n",
    "import cvxpy as cp\n",
    "N = 3\n",
    "Q = np.array([[0.1, 0.02, 0.03], [0.02, 0.08, 0.01], [0.03, 0.01, 0.09]])\n",
    "mu = np.array([0.1, 0.2, 0.15])\n",
    "R = 0.15\n",
    "e = np.ones(N)\n",
    "x = cp.Variable(N)\n",
    "objective = cp.Minimize(0.5 * cp.quad_form(x, Q))\n",
    "constraints = [\n",
    "    mu @ x >= R,\n",
    "    e @ x == 1,\n",
    "    x >= 0\n",
    "]\n",
    "problem = cp.Problem(objective, constraints)\n",
    "problem.solve()\n",
    "print(x.value)\n",
    "print(problem.value)"
   ]
  },
  {
   "cell_type": "code",
   "execution_count": 9,
   "id": "f7653066-0abd-47a1-b00f-325b2f89c28d",
   "metadata": {},
   "outputs": [
    {
     "name": "stdout",
     "output_type": "stream",
     "text": [
      "[0.18 0.39 0.3  0.14] 0.04 0.16\n"
     ]
    }
   ],
   "source": [
    "import cvxpy as cp\n",
    "import numpy as np\n",
    "N = 4\n",
    "Q = np.array([[0.1, 0.02, 0.03, 0.04], \n",
    "              [0.02, 0.08, 0.01, 0.02], \n",
    "              [0.03, 0.01, 0.09, 0.03], \n",
    "              [0.04, 0.02, 0.03, 0.12]])  \n",
    "mu = np.array([0.12, 0.18, 0.15, 0.2])  \n",
    "R = 0.16  \n",
    "e = np.ones(N)  \n",
    "x = cp.Variable(N)\n",
    "objective = cp.Minimize(0.5 * cp.quad_form(x, Q))\n",
    "constraints = [mu @ x >= R, e @ x == 1, x >= 0]\n",
    "problem = cp.Problem(objective, constraints)\n",
    "problem.solve()\n",
    "print(np.round(x.value, 2), np.round(problem.value * 2, 2), np.round(mu @ x.value, 2))"
   ]
  },
  {
   "cell_type": "code",
   "execution_count": 10,
   "id": "2e4981b8-1f79-424f-810a-e42d593bdfc6",
   "metadata": {},
   "outputs": [
    {
     "name": "stdout",
     "output_type": "stream",
     "text": [
      "Optimal solution: [0.142 0.716 1.142]\n"
     ]
    }
   ],
   "source": [
    "import cvxpy as cp\n",
    "import numpy as np\n",
    "\n",
    "# Example data (A matrix and b vector)\n",
    "A = np.array([[1, 2, 3],\n",
    "              [4, 5, 6],\n",
    "              [7, 8, 9],\n",
    "              [10, 11, 12],\n",
    "              [13, 14, 15]])\n",
    "\n",
    "b = np.array([5, 11, 17, 23, 29])\n",
    "\n",
    "# Define the variable to solve for\n",
    "x = cp.Variable(3)\n",
    "\n",
    "# Define the least squares objective (minimize ||Ax - b||^2)\n",
    "objective = cp.Minimize(cp.norm(A @ x - b, 'fro')**2)\n",
    "\n",
    "# Define the problem\n",
    "problem = cp.Problem(objective)\n",
    "\n",
    "# Solve the problem\n",
    "problem.solve()\n",
    "\n",
    "# Results\n",
    "x_value = np.round(x.value, 3)  # Round the solution to 3 decimal places\n",
    "print(\"Optimal solution:\", x_value)\n"
   ]
  },
  {
   "cell_type": "code",
   "execution_count": 14,
   "id": "cfee68a8-cb6f-4dbc-888a-94f66e6fc960",
   "metadata": {},
   "outputs": [
    {
     "name": "stdout",
     "output_type": "stream",
     "text": [
      "QP Solution (first 5 values): [-0.01850432  0.01357419  0.03624068 -0.04609446 -0.02115402]\n",
      "Sklearn Solution (first 5 values): [-0.01850432  0.01357419  0.03624068 -0.04609446 -0.02115402]\n",
      "Difference (Norm): 3.7734928846729334e-16\n"
     ]
    }
   ],
   "source": [
    "import numpy as np\n",
    "import cvxpy as cp\n",
    "from sklearn.linear_model import LinearRegression\n",
    "\n",
    "# Generate larger synthetic data\n",
    "np.random.seed(42)\n",
    "A = np.random.randn(1000, 50)  # 1000 samples, 50 features\n",
    "b = np.random.randn(1000)     # 1000 target values\n",
    "\n",
    "# Quadratic Programming Solution\n",
    "x_qp = cp.Variable(A.shape[1])\n",
    "Q = 2 * A.T @ A\n",
    "c = -2 * A.T @ b\n",
    "objective = cp.Minimize(0.5 * cp.quad_form(x_qp, Q) + c.T @ x_qp)\n",
    "problem = cp.Problem(objective)\n",
    "problem.solve()\n",
    "\n",
    "x_qp_solution = x_qp.value\n",
    "\n",
    "# sklearn Linear Regression Solution\n",
    "lr = LinearRegression(fit_intercept=False)  # No intercept for direct comparison\n",
    "lr.fit(A, b)\n",
    "x_sklearn_solution = lr.coef_\n",
    "\n",
    "# Compare results\n",
    "print(\"QP Solution (first 5 values):\", x_qp_solution[:5])\n",
    "print(\"Sklearn Solution (first 5 values):\", x_sklearn_solution[:5])\n",
    "print(\"Difference (Norm):\", np.linalg.norm(x_qp_solution - x_sklearn_solution))\n"
   ]
  },
  {
   "cell_type": "code",
   "execution_count": null,
   "id": "f3be14b0-4dc9-49bb-9935-cb50abec3583",
   "metadata": {},
   "outputs": [],
   "source": []
  }
 ],
 "metadata": {
  "kernelspec": {
   "display_name": "Python 3 (ipykernel)",
   "language": "python",
   "name": "python3"
  },
  "language_info": {
   "codemirror_mode": {
    "name": "ipython",
    "version": 3
   },
   "file_extension": ".py",
   "mimetype": "text/x-python",
   "name": "python",
   "nbconvert_exporter": "python",
   "pygments_lexer": "ipython3",
   "version": "3.11.5"
  }
 },
 "nbformat": 4,
 "nbformat_minor": 5
}
