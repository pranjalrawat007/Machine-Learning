{
 "cells": [
  {
   "cell_type": "code",
   "execution_count": 5,
   "id": "59525e44-c7fb-48ff-91b2-ef2154ebd06f",
   "metadata": {},
   "outputs": [
    {
     "name": "stdout",
     "output_type": "stream",
     "text": [
      "Minimum cost: 84.0\n",
      "Optimal order quantities: [4, 6, 8]\n"
     ]
    }
   ],
   "source": [
    "import numpy as np\n",
    "T=3\n",
    "D=[4,6,8]\n",
    "h=2\n",
    "K=10\n",
    "k=3\n",
    "max_order=15\n",
    "C=np.full((T+1,max_order+1),float('inf'))\n",
    "C[T,:]=0\n",
    "for t in range(T-1,-1,-1):\n",
    "    for I_t in range(max_order+1):\n",
    "        for O_t in range(max_order+1-I_t):\n",
    "            I_t_plus_1=I_t+O_t-D[t]\n",
    "            if I_t_plus_1>=0:\n",
    "                cost=K+k*O_t+h*I_t_plus_1+C[t+1,I_t_plus_1]\n",
    "                C[t,I_t]=min(C[t,I_t],cost)\n",
    "I_t=0\n",
    "optimal_orders=[]\n",
    "for t in range(T):\n",
    "    for O_t in range(max_order+1-I_t):\n",
    "        I_t_plus_1=I_t+O_t-D[t]\n",
    "        if I_t_plus_1>=0 and C[t,I_t]==K+k*O_t+h*I_t_plus_1+C[t+1,I_t_plus_1]:\n",
    "            optimal_orders.append(O_t)\n",
    "            I_t=I_t_plus_1\n",
    "            break\n",
    "print(\"Minimum cost:\",C[0,0])\n",
    "print(\"Optimal order quantities:\",optimal_orders)"
   ]
  },
  {
   "cell_type": "code",
   "execution_count": null,
   "id": "dbda53de-1ab3-4db7-95c3-df1f8db9640b",
   "metadata": {},
   "outputs": [],
   "source": []
  }
 ],
 "metadata": {
  "kernelspec": {
   "display_name": "Python 3 (ipykernel)",
   "language": "python",
   "name": "python3"
  },
  "language_info": {
   "codemirror_mode": {
    "name": "ipython",
    "version": 3
   },
   "file_extension": ".py",
   "mimetype": "text/x-python",
   "name": "python",
   "nbconvert_exporter": "python",
   "pygments_lexer": "ipython3",
   "version": "3.11.5"
  }
 },
 "nbformat": 4,
 "nbformat_minor": 5
}
