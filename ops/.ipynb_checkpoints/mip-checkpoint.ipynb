{
 "cells": [
  {
   "cell_type": "markdown",
   "id": "de5900e7-a1b3-439e-8a07-d6233f9f2a15",
   "metadata": {},
   "source": [
    "# Mixed Integer Programming\n",
    "- Type of linear programming where some variables can be integer.\n",
    "\n",
    "Maximize x + 10y subject to the following constraints:\n",
    "- x + 7y ≤ 17.5\n",
    "- 0 ≤ x ≤ 3.5\n",
    "- 0 ≤ y\n",
    "- x, y integers\n",
    "\n",
    "Solvers: \n",
    "- MPSolver: Pure MIP\n",
    "- CP-SAT: ILP with continuous vars\n",
    "- SCIP: MIP with integer and continuous (SCIP)"
   ]
  },
  {
   "cell_type": "markdown",
   "id": "346ab862-9187-4b09-90a2-284888feed13",
   "metadata": {},
   "source": [
    "### Integer Vars "
   ]
  },
  {
   "cell_type": "code",
   "execution_count": 22,
   "id": "fa6cd44b-88c3-45e2-8e62-22794b192ca6",
   "metadata": {},
   "outputs": [
    {
     "name": "stdout",
     "output_type": "stream",
     "text": [
      "23.0\n",
      "3.0\n",
      "2.0\n",
      "4\n",
      "0\n",
      "0\n",
      "2\n"
     ]
    }
   ],
   "source": [
    "from ortools.linear_solver import pywraplp\n",
    "solver = pywraplp.Solver.CreateSolver(\"SAT\") # CP-SAT\n",
    "infinity = solver.infinity()\n",
    "x = solver.IntVar(0.0, infinity, \"x\")\n",
    "y = solver.IntVar(0.0, infinity, \"x\")\n",
    "solver.Add(x + 7 * y <= 17.5)\n",
    "solver.Add(x <= 3.5)\n",
    "solver.Maximize(x + 10 * y)\n",
    "status = solver.Solve()\n",
    "if status == pywraplp.Solver.OPTIMAL:\n",
    "    print(solver.Objective().Value())\n",
    "    print(x.solution_value())\n",
    "    print(y.solution_value())\n",
    "    print(solver.wall_time()) # milliseconds\n",
    "    print(solver.iterations())\n",
    "    print(solver.nodes())\n",
    "    print(solver.NumConstraints())"
   ]
  },
  {
   "cell_type": "markdown",
   "id": "ff253ca8-4ea9-4312-979e-30361894f9f7",
   "metadata": {},
   "source": [
    "### Continous Vars "
   ]
  },
  {
   "cell_type": "code",
   "execution_count": 31,
   "id": "f4fc676b-a533-481a-850f-861d0d813322",
   "metadata": {},
   "outputs": [
    {
     "name": "stdout",
     "output_type": "stream",
     "text": [
      "25.0\n",
      "0.0\n",
      "2.5\n",
      "1\n",
      "0\n",
      "-1\n",
      "2\n"
     ]
    },
    {
     "name": "stderr",
     "output_type": "stream",
     "text": [
      "E0000 00:00:1733016706.653485  237721 glop_interface.cc:257] Number of nodes only available for discrete problems\n"
     ]
    }
   ],
   "source": [
    "from ortools.linear_solver import pywraplp\n",
    "solver = pywraplp.Solver.CreateSolver(\"GLOP\") # CP-SAT\n",
    "infinity = solver.infinity()\n",
    "x = solver.NumVar(0.0, infinity, \"x\")\n",
    "y = solver.NumVar(0.0, infinity, \"x\")\n",
    "solver.Add(x + 7 * y <= 17.5)\n",
    "solver.Add(x <= 3.5)\n",
    "solver.Maximize(x + 10 * y)\n",
    "status = solver.Solve()\n",
    "if status == pywraplp.Solver.OPTIMAL:\n",
    "    print(solver.Objective().Value())\n",
    "    print(x.solution_value())\n",
    "    print(y.solution_value())\n",
    "    print(solver.wall_time()) # milliseconds\n",
    "    print(solver.iterations())\n",
    "    print(solver.nodes())\n",
    "    print(solver.NumConstraints())"
   ]
  },
  {
   "cell_type": "markdown",
   "id": "14dee40e-950c-4b63-977a-e8ff828563ec",
   "metadata": {},
   "source": [
    "### Mixed"
   ]
  },
  {
   "cell_type": "code",
   "execution_count": 34,
   "id": "e57a95af-3277-415e-85d2-4e6f8d1cce95",
   "metadata": {},
   "outputs": [
    {
     "name": "stdout",
     "output_type": "stream",
     "text": [
      "25.0\n",
      "-0.0\n",
      "2.5\n",
      "4\n",
      "0\n",
      "0\n",
      "2\n"
     ]
    }
   ],
   "source": [
    "from ortools.linear_solver import pywraplp\n",
    "solver = pywraplp.Solver.CreateSolver(\"SAT\") # CP-SAT\n",
    "infinity = solver.infinity()\n",
    "x = solver.IntVar(0.0, infinity, \"x\")\n",
    "y = solver.NumVar(0.0, infinity, \"x\")\n",
    "solver.Add(x + 7 * y <= 17.5)\n",
    "solver.Add(x <= 3.5)\n",
    "solver.Maximize(x + 10 * y)\n",
    "status = solver.Solve()\n",
    "if status == pywraplp.Solver.OPTIMAL:\n",
    "    print(solver.Objective().Value())\n",
    "    print(x.solution_value())\n",
    "    print(y.solution_value())\n",
    "    print(solver.wall_time()) # milliseconds\n",
    "    print(solver.iterations())\n",
    "    print(solver.nodes())\n",
    "    print(solver.NumConstraints())"
   ]
  },
  {
   "cell_type": "markdown",
   "id": "323ec0c3-49dc-45cc-ad3d-04320feb1da9",
   "metadata": {},
   "source": [
    "### Large"
   ]
  },
  {
   "cell_type": "markdown",
   "id": "e4ab7c9b-f2a6-4636-adb6-60c020a3901c",
   "metadata": {},
   "source": [
    "Maximize 7x1 + 8x2 + 2x3 + 9x4 + 6x5 subject to the following constraints:\n",
    "\n",
    "5 x1 + 7 x2 + 9 x3 + 2 x4 + 1 x5 ≤ 250\n",
    "\n",
    "18 x1 + 4 x2 - 9 x3 + 10 x4 + 12 x5 ≤ 285\n",
    "\n",
    "4 x1 + 7 x2 + 3 x3 + 8 x4 + 5 x5 ≤ 211\n",
    "\n",
    "5 x1 + 13 x2 + 16 x3 + 3 x4 - 7 x5 ≤ 315\n",
    "\n",
    "where x1, x2, ..., x5 are non-negative integers.\n",
    "\n"
   ]
  },
  {
   "cell_type": "code",
   "execution_count": 45,
   "id": "db1fbf78-adec-48bb-b612-1d88eea10021",
   "metadata": {},
   "outputs": [
    {
     "name": "stdout",
     "output_type": "stream",
     "text": [
      "Number of variables =  5\n",
      "Number of constraints 4\n",
      "260.00000000000006\n",
      "x[0]  =  8.0\n",
      "x[1]  =  21.0\n",
      "x[2]  =  0.0\n",
      "x[3]  =  2.0\n",
      "x[4]  =  3.0\n",
      "9\n",
      "42\n",
      "1\n"
     ]
    }
   ],
   "source": [
    "from ortools.linear_solver import pywraplp\n",
    "solver = pywraplp.Solver.CreateSolver(\"SAT\")\n",
    "\n",
    "def create_data_model():\n",
    "    data = {}\n",
    "    data[\"constraint_coeffs\"] = [\n",
    "        [5, 7, 9, 2, 1], \n",
    "        [18, 4, -9, 10, 12],\n",
    "        [4, 7, 3, 8, 5],\n",
    "        [5, 13, 16, 3, -5]\n",
    "    ]\n",
    "    data[\"bounds\"] = [250, 285, 211, 315]\n",
    "    data[\"obj_coeffs\"] = [7, 8, 2, 9, 6]\n",
    "    data[\"num_vars\"] = 5\n",
    "    data[\"num_constraints\"] = 4\n",
    "    return data\n",
    "\n",
    "data = create_data_model()\n",
    "solver = pywraplp.Solver.CreateSolver(\"SCIP\")\n",
    "infinity = solver.infinity()\n",
    "x = {}\n",
    "for j in range(data[\"num_vars\"]):\n",
    "    x[j] = solver.IntVar(0, infinity, \"x[%i]\" % j)\n",
    "print(\"Number of variables = \", solver.NumVariables())\n",
    "\n",
    "for i in range(data[\"num_constraints\"]):\n",
    "    constraint = solver.RowConstraint(0, data[\"bounds\"][i], \"\")\n",
    "    for j in range(data[\"num_vars\"]):\n",
    "        constraint.SetCoefficient(x[j], data[\"constraint_coeffs\"][i][j])\n",
    "print(\"Number of constraints\", solver.NumConstraints())\n",
    "\n",
    "objective = solver.Objective()\n",
    "for j in range(data[\"num_vars\"]):\n",
    "    objective.SetCoefficient(x[j], data[\"obj_coeffs\"][j])\n",
    "objective.SetMaximization()\n",
    "\n",
    "status = solver.Solve()\n",
    "\n",
    "if status == pywraplp.Solver.OPTIMAL:\n",
    "    print(solver.Objective().Value())\n",
    "    for j in range(data[\"num_vars\"]):\n",
    "        print(x[j].name(), \" = \", x[j].solution_value())\n",
    "    print(solver.wall_time()) # milliseconds\n",
    "    print(solver.iterations())\n",
    "    print(solver.nodes())"
   ]
  },
  {
   "cell_type": "code",
   "execution_count": 46,
   "id": "1e475558-4673-4707-bad6-79009cb82afb",
   "metadata": {},
   "outputs": [
    {
     "name": "stdout",
     "output_type": "stream",
     "text": [
      "(CVXPY) Dec 01 07:45:30 AM: Encountered unexpected exception importing solver GLOP:\n",
      "RuntimeError('Unrecognized new version of ortools (9.11.4210). Expected < 9.10.0. Please open a feature request on cvxpy to enable support for this version.')\n",
      "(CVXPY) Dec 01 07:45:30 AM: Encountered unexpected exception importing solver PDLP:\n",
      "RuntimeError('Unrecognized new version of ortools (9.11.4210). Expected < 9.10.0. Please open a feature request on cvxpy to enable support for this version.')\n"
     ]
    },
    {
     "data": {
      "image/png": "[encoded data removed]",
      "text/plain": [
       "<Figure size 800x600 with 1 Axes>"
      ]
     },
     "metadata": {},
     "output_type": "display_data"
    },
    {
     "name": "stdout",
     "output_type": "stream",
     "text": [
      "Primal (CVXPY):\n",
      "w: [-0.66668299 -0.66665035], b: 4.3333170365472204\n",
      "\n",
      "Sklearn (SVC):\n",
      "w: [-0.66666667 -0.66666667], b: 4.333333333333333\n",
      "\n",
      "Difference:\n",
      "w_diff: 2.30740903758951e-05\n",
      "b_diff: 1.6296786112590667e-05\n"
     ]
    }
   ],
   "source": [
    "import numpy as np\n",
    "import cvxpy as cp\n",
    "import matplotlib.pyplot as plt\n",
    "from sklearn.svm import SVC\n",
    "\n",
    "# Generate synthetic data that requires a soft margin (overlapping classes)\n",
    "np.random.seed(42)\n",
    "X = np.array([[1, 2], [2, 3], [3, 3], [4, 5], [2.5, 2.5], [3.5, 4.5]])  # Some overlap\n",
    "y = np.array([1, 1, -1, -1, 1, -1])  # Binary labels with overlap\n",
    "\n",
    "# Primal Soft-Margin SVM Formulation using CVXPY\n",
    "w = cp.Variable(2)\n",
    "b = cp.Variable()\n",
    "slack = cp.Variable(len(y))  # Slack variables for soft margin\n",
    "C = 1  # Regularization parameter\n",
    "\n",
    "# Constraints: Include slack variables to allow margin violations\n",
    "constraints = [\n",
    "    y[i] * (w @ X[i] + b) >= 1 - slack[i] for i in range(len(y))\n",
    "] + [slack >= 0]  # Slack variables must be non-negative\n",
    "\n",
    "# Objective: Minimize ||w||^2 with penalty for slack variables\n",
    "objective = cp.Minimize(0.5 * cp.norm(w)**2 + C * cp.sum(slack))\n",
    "problem = cp.Problem(objective, constraints)\n",
    "problem.solve()\n",
    "\n",
    "# Extract primal solution\n",
    "w_primal = w.value\n",
    "b_primal = b.value\n",
    "\n",
    "# Solve using sklearn's SVC for comparison\n",
    "svm = SVC(kernel='linear', C=C)  # Soft margin SVM with regularization\n",
    "svm.fit(X, y)\n",
    "w_sklearn = svm.coef_[0]  # SVC provides w\n",
    "b_sklearn = svm.intercept_[0]\n",
    "\n",
    "# Visualization\n",
    "plt.figure(figsize=(8, 6))\n",
    "\n",
    "# Scatter plot of data points\n",
    "plt.scatter(X[y == 1, 0], X[y == 1, 1], color='blue', label='Class +1')\n",
    "plt.scatter(X[y == -1, 0], X[y == -1, 1], color='red', label='Class -1')\n",
    "\n",
    "# Plot decision boundary from primal solution\n",
    "x1_vals = np.linspace(X[:, 0].min(), X[:, 0].max(), 100)\n",
    "x2_vals_primal = (-w_primal[0] * x1_vals - b_primal) / w_primal[1]\n",
    "plt.plot(x1_vals, x2_vals_primal, 'k--', label='Primal Boundary (CVXPY)')\n",
    "\n",
    "# Plot decision boundary from sklearn's SVC\n",
    "x2_vals_sklearn = (-w_sklearn[0] * x1_vals - b_sklearn) / w_sklearn[1]\n",
    "plt.plot(x1_vals, x2_vals_sklearn, 'g-', label='Sklearn Boundary (SVC)')\n",
    "\n",
    "# Labels, legend, and grid\n",
    "plt.xlabel('Feature 1')\n",
    "plt.ylabel('Feature 2')\n",
    "plt.title('Soft Margin SVM Decision Boundaries (2D with Overlap)')\n",
    "plt.legend()\n",
    "plt.grid(True)\n",
    "plt.show()\n",
    "\n",
    "# Print results\n",
    "print(\"Primal (CVXPY):\")\n",
    "print(f\"w: {w_primal}, b: {b_primal}\")\n",
    "\n",
    "print(\"\\nSklearn (SVC):\")\n",
    "print(f\"w: {w_sklearn}, b: {b_sklearn}\")\n",
    "\n",
    "print(\"\\nDifference:\")\n",
    "print(f\"w_diff: {np.linalg.norm(w_primal - w_sklearn)}\")\n",
    "print(f\"b_diff: {np.abs(b_primal - b_sklearn)}\")\n"
   ]
  },
  {
   "cell_type": "code",
   "execution_count": null,
   "id": "950024a5-8a3e-4aed-a0e3-e73e0fa0a9b9",
   "metadata": {},
   "outputs": [],
   "source": []
  }
 ],
 "metadata": {
  "kernelspec": {
   "display_name": "Python 3 (ipykernel)",
   "language": "python",
   "name": "python3"
  },
  "language_info": {
   "codemirror_mode": {
    "name": "ipython",
    "version": 3
   },
   "file_extension": ".py",
   "mimetype": "text/x-python",
   "name": "python",
   "nbconvert_exporter": "python",
   "pygments_lexer": "ipython3",
   "version": "3.11.10"
  }
 },
 "nbformat": 4,
 "nbformat_minor": 5
}
