{
 "cells": [
  {
   "cell_type": "code",
   "execution_count": 1,
   "metadata": {
    "_uuid": "c238c5e67171ff8f18322f589f5c44609cc57845",
    "colab": {},
    "colab_type": "code",
    "id": "4MIOl-vrNAGz"
   },
   "outputs": [],
   "source": [
    "# PRELIMINARIES"
   ]
  },
  {
   "cell_type": "code",
   "execution_count": 2,
   "metadata": {
    "_uuid": "d7cf39fb93d59ed12bd7409adf26c9947317342d",
    "colab": {
     "base_uri": "https://localhost:8080/",
     "height": 54
    },
    "colab_type": "code",
    "executionInfo": {
     "elapsed": 1347,
     "status": "ok",
     "timestamp": 1547327188580,
     "user": {
      "displayName": "kjgh known",
      "photoUrl": "",
      "userId": "09371675389476978286"
     },
     "user_tz": -330
    },
    "id": "6puL81jF9Onn",
    "outputId": "8977a8cc-a09f-4be7-a491-bf5b9b3df0a7"
   },
   "outputs": [
    {
     "data": {
      "text/plain": [
       "\"\\n\\nlink: https://www.kaggle.com/sid321axn/amazon-alexa-reviews/home\\n\\nThis dataset consists of a nearly 3000 Amazon customer reviews \\n(input text), star ratings, date of review, variant and feedback\\nof various amazon Alexa products like Alexa Echo, Echo dots, \\nAlexa Firesticks etc. for learning how to train Machine for \\nsentiment analysis.\\n\\nYou can use this data to analyze Amazon’s Alexa product;\\ndiscover insights into consumer reviews and assist with machine learning\\nmodels.You can also train your machine models for sentiment analysis and\\nanalyze customer reviews how many positive reviews ? \\nand how many negative reviews ?\\n\\nExtracted from Amazon's website\\n\""
      ]
     },
     "execution_count": 2,
     "metadata": {},
     "output_type": "execute_result"
    }
   ],
   "source": [
    "'''\n",
    "\n",
    "link: https://www.kaggle.com/sid321axn/amazon-alexa-reviews/home\n",
    "\n",
    "This dataset consists of a nearly 3000 Amazon customer reviews \n",
    "(input text), star ratings, date of review, variant and feedback\n",
    "of various amazon Alexa products like Alexa Echo, Echo dots, \n",
    "Alexa Firesticks etc. for learning how to train Machine for \n",
    "sentiment analysis.\n",
    "\n",
    "You can use this data to analyze Amazon’s Alexa product;\n",
    "discover insights into consumer reviews and assist with machine learning\n",
    "models.You can also train your machine models for sentiment analysis and\n",
    "analyze customer reviews how many positive reviews ? \n",
    "and how many negative reviews ?\n",
    "\n",
    "Extracted from Amazon's website\n",
    "'''"
   ]
  },
  {
   "cell_type": "code",
   "execution_count": 3,
   "metadata": {
    "_uuid": "e604962090409fc5014e5575292975aa5a1d9b6c",
    "colab": {},
    "colab_type": "code",
    "id": "vrNixEqOvo_1"
   },
   "outputs": [],
   "source": [
    "import pandas as pd, numpy as np\n",
    "PATH = \"../input/amazon_alexa.tsv\"\n",
    "raw_data = pd.read_csv(PATH, sep = '\\t')"
   ]
  },
  {
   "cell_type": "code",
   "execution_count": 4,
   "metadata": {
    "_uuid": "ad8b13deb3d85537332b9c0e97d8dd999dcfb720",
    "colab": {},
    "colab_type": "code",
    "id": "bWGK1-S5f0m0"
   },
   "outputs": [
    {
     "data": {
      "text/html": [
       "<div>\n",
       "<style scoped>\n",
       "    .dataframe tbody tr th:only-of-type {\n",
       "        vertical-align: middle;\n",
       "    }\n",
       "\n",
       "    .dataframe tbody tr th {\n",
       "        vertical-align: top;\n",
       "    }\n",
       "\n",
       "    .dataframe thead th {\n",
       "        text-align: right;\n",
       "    }\n",
       "</style>\n",
       "<table border=\"1\" class=\"dataframe\">\n",
       "  <thead>\n",
       "    <tr style=\"text-align: right;\">\n",
       "      <th></th>\n",
       "      <th>rating</th>\n",
       "      <th>date</th>\n",
       "      <th>variation</th>\n",
       "      <th>verified_reviews</th>\n",
       "      <th>feedback</th>\n",
       "    </tr>\n",
       "  </thead>\n",
       "  <tbody>\n",
       "    <tr>\n",
       "      <th>0</th>\n",
       "      <td>5</td>\n",
       "      <td>31-Jul-18</td>\n",
       "      <td>Charcoal Fabric</td>\n",
       "      <td>Love my Echo!</td>\n",
       "      <td>1</td>\n",
       "    </tr>\n",
       "    <tr>\n",
       "      <th>1</th>\n",
       "      <td>5</td>\n",
       "      <td>31-Jul-18</td>\n",
       "      <td>Charcoal Fabric</td>\n",
       "      <td>Loved it!</td>\n",
       "      <td>1</td>\n",
       "    </tr>\n",
       "    <tr>\n",
       "      <th>2</th>\n",
       "      <td>4</td>\n",
       "      <td>31-Jul-18</td>\n",
       "      <td>Walnut Finish</td>\n",
       "      <td>Sometimes while playing a game, you can answer a question correctly but Alexa says you got it wrong and answers the same as you.  I like being able to turn lights on and off while away from home.</td>\n",
       "      <td>1</td>\n",
       "    </tr>\n",
       "    <tr>\n",
       "      <th>3</th>\n",
       "      <td>5</td>\n",
       "      <td>31-Jul-18</td>\n",
       "      <td>Charcoal Fabric</td>\n",
       "      <td>I have had a lot of fun with this thing. My 4 yr old learns about dinosaurs, i control the lights and play games like categories. Has nice sound when playing music as well.</td>\n",
       "      <td>1</td>\n",
       "    </tr>\n",
       "    <tr>\n",
       "      <th>4</th>\n",
       "      <td>5</td>\n",
       "      <td>31-Jul-18</td>\n",
       "      <td>Charcoal Fabric</td>\n",
       "      <td>Music</td>\n",
       "      <td>1</td>\n",
       "    </tr>\n",
       "  </tbody>\n",
       "</table>\n",
       "</div>"
      ],
      "text/plain": [
       "   rating   ...    feedback\n",
       "0  5        ...     1      \n",
       "1  5        ...     1      \n",
       "2  4        ...     1      \n",
       "3  5        ...     1      \n",
       "4  5        ...     1      \n",
       "\n",
       "[5 rows x 5 columns]"
      ]
     },
     "execution_count": 4,
     "metadata": {},
     "output_type": "execute_result"
    }
   ],
   "source": [
    "pd.set_option('display.max_colwidth', -1)\n",
    "raw_data.head()"
   ]
  },
  {
   "cell_type": "code",
   "execution_count": 5,
   "metadata": {
    "_uuid": "09391715e35f8f8deee0c42cc0df331d64cf4949"
   },
   "outputs": [
    {
     "data": {
      "text/plain": [
       "5    2286\n",
       "4    455 \n",
       "1    161 \n",
       "3    152 \n",
       "2    96  \n",
       "Name: rating, dtype: int64"
      ]
     },
     "execution_count": 5,
     "metadata": {},
     "output_type": "execute_result"
    }
   ],
   "source": [
    "raw_data.rating.value_counts()"
   ]
  },
  {
   "cell_type": "code",
   "execution_count": 6,
   "metadata": {
    "_uuid": "d46d89be9180e7fcd7d60c3729f56d4382ba4dc4",
    "colab": {},
    "colab_type": "code",
    "id": "zw6dYgQCLJP1"
   },
   "outputs": [],
   "source": [
    "# Remove Rating = 3 categories as they are likely to confuse the model. \n",
    "raw_data['response'] = 0\n",
    "raw_data.loc[raw_data['rating'].isin([4,5]), 'response'] = 1\n",
    "raw_data.loc[raw_data['rating'] == 3, 'response'] = 2\n",
    "bad_reviews = raw_data[raw_data['response'] == 0]\n",
    "good_reviews = raw_data[raw_data['response'] == 1]\n",
    "all_reviews = good_reviews.append(bad_reviews)"
   ]
  },
  {
   "cell_type": "code",
   "execution_count": 7,
   "metadata": {
    "_uuid": "180d41976b8f4460e9fe3ab518b0b7bbb45e0829",
    "colab": {},
    "colab_type": "code",
    "id": "-lvOpK4U8-53"
   },
   "outputs": [],
   "source": [
    "data = all_reviews[['response', 'verified_reviews']]\n",
    "data.columns = ['response', 'text']"
   ]
  },
  {
   "cell_type": "code",
   "execution_count": 8,
   "metadata": {
    "_uuid": "4d5115e6f9e617657dcf1e1bc71fb54a765b20e5",
    "colab": {},
    "colab_type": "code",
    "id": "cH6bIyqq_fdI"
   },
   "outputs": [],
   "source": [
    "# EXPLORATORY DATA ANALYSIS"
   ]
  },
  {
   "cell_type": "code",
   "execution_count": 9,
   "metadata": {
    "_uuid": "60c6e5881ea8e628a7d2ffcd1342f95b8f051b5e",
    "colab": {
     "base_uri": "https://localhost:8080/",
     "height": 238
    },
    "colab_type": "code",
    "executionInfo": {
     "elapsed": 999,
     "status": "ok",
     "timestamp": 1547327233725,
     "user": {
      "displayName": "kjgh known",
      "photoUrl": "",
      "userId": "09371675389476978286"
     },
     "user_tz": -330
    },
    "id": "Aj-Aqbed-wgW",
    "outputId": "a97ad844-4095-4da6-f901-1e4770948834"
   },
   "outputs": [
    {
     "data": {
      "text/html": [
       "<div>\n",
       "<style scoped>\n",
       "    .dataframe tbody tr th:only-of-type {\n",
       "        vertical-align: middle;\n",
       "    }\n",
       "\n",
       "    .dataframe tbody tr th {\n",
       "        vertical-align: top;\n",
       "    }\n",
       "\n",
       "    .dataframe thead th {\n",
       "        text-align: right;\n",
       "    }\n",
       "</style>\n",
       "<table border=\"1\" class=\"dataframe\">\n",
       "  <thead>\n",
       "    <tr style=\"text-align: right;\">\n",
       "      <th></th>\n",
       "      <th>response</th>\n",
       "      <th>text</th>\n",
       "    </tr>\n",
       "  </thead>\n",
       "  <tbody>\n",
       "    <tr>\n",
       "      <th>0</th>\n",
       "      <td>1</td>\n",
       "      <td>Love my Echo!</td>\n",
       "    </tr>\n",
       "    <tr>\n",
       "      <th>1</th>\n",
       "      <td>1</td>\n",
       "      <td>Loved it!</td>\n",
       "    </tr>\n",
       "    <tr>\n",
       "      <th>2</th>\n",
       "      <td>1</td>\n",
       "      <td>Sometimes while playing a game, you can answer a question correctly but Alexa says you got it wrong and answers the same as you.  I like being able to turn lights on and off while away from home.</td>\n",
       "    </tr>\n",
       "    <tr>\n",
       "      <th>3</th>\n",
       "      <td>1</td>\n",
       "      <td>I have had a lot of fun with this thing. My 4 yr old learns about dinosaurs, i control the lights and play games like categories. Has nice sound when playing music as well.</td>\n",
       "    </tr>\n",
       "    <tr>\n",
       "      <th>4</th>\n",
       "      <td>1</td>\n",
       "      <td>Music</td>\n",
       "    </tr>\n",
       "  </tbody>\n",
       "</table>\n",
       "</div>"
      ],
      "text/plain": [
       "   response                                                                                                                                                                                                 text\n",
       "0  1         Love my Echo!                                                                                                                                                                                      \n",
       "1  1         Loved it!                                                                                                                                                                                          \n",
       "2  1         Sometimes while playing a game, you can answer a question correctly but Alexa says you got it wrong and answers the same as you.  I like being able to turn lights on and off while away from home.\n",
       "3  1         I have had a lot of fun with this thing. My 4 yr old learns about dinosaurs, i control the lights and play games like categories. Has nice sound when playing music as well.                       \n",
       "4  1         Music                                                                                                                                                                                              "
      ]
     },
     "execution_count": 9,
     "metadata": {},
     "output_type": "execute_result"
    }
   ],
   "source": [
    "pd.set_option('display.max_colwidth', -1)\n",
    "data.head()"
   ]
  },
  {
   "cell_type": "code",
   "execution_count": 10,
   "metadata": {
    "_uuid": "402b1f06ccfee30bb255296ec7c3ce8efff626f7",
    "colab": {
     "base_uri": "https://localhost:8080/",
     "height": 34
    },
    "colab_type": "code",
    "executionInfo": {
     "elapsed": 1089,
     "status": "ok",
     "timestamp": 1547327242785,
     "user": {
      "displayName": "kjgh known",
      "photoUrl": "",
      "userId": "09371675389476978286"
     },
     "user_tz": -330
    },
    "id": "jVLcfmTNgtGT",
    "outputId": "2c60797b-32bf-48d7-f811-a98afcbf8d4d"
   },
   "outputs": [
    {
     "data": {
      "text/plain": [
       "(2998, 2)"
      ]
     },
     "execution_count": 10,
     "metadata": {},
     "output_type": "execute_result"
    }
   ],
   "source": [
    "data.shape"
   ]
  },
  {
   "cell_type": "code",
   "execution_count": 11,
   "metadata": {
    "_uuid": "b2d24c5a482c80cefd41c9cbd98546d545b7c727",
    "colab": {
     "base_uri": "https://localhost:8080/",
     "height": 68
    },
    "colab_type": "code",
    "executionInfo": {
     "elapsed": 1017,
     "status": "ok",
     "timestamp": 1547327243202,
     "user": {
      "displayName": "kjgh known",
      "photoUrl": "",
      "userId": "09371675389476978286"
     },
     "user_tz": -330
    },
    "id": "NmzIODVZ7y4u",
    "outputId": "df4632c5-0eb0-4a55-e181-dd319f7008d6"
   },
   "outputs": [
    {
     "data": {
      "text/plain": [
       "1    2741\n",
       "0    257 \n",
       "Name: response, dtype: int64"
      ]
     },
     "execution_count": 11,
     "metadata": {},
     "output_type": "execute_result"
    }
   ],
   "source": [
    "# Event Rate\n",
    "data.response.value_counts()"
   ]
  },
  {
   "cell_type": "code",
   "execution_count": 12,
   "metadata": {
    "_uuid": "660254db7fdb1c288fc0a5ae2f4a2d89916a6f67",
    "colab": {
     "base_uri": "https://localhost:8080/",
     "height": 68
    },
    "colab_type": "code",
    "executionInfo": {
     "elapsed": 1078,
     "status": "ok",
     "timestamp": 1547327251262,
     "user": {
      "displayName": "kjgh known",
      "photoUrl": "",
      "userId": "09371675389476978286"
     },
     "user_tz": -330
    },
    "id": "P6Eb3_ad8bcu",
    "outputId": "e321dabb-8b32-4711-f8a4-cba09d4290a6"
   },
   "outputs": [
    {
     "data": {
      "text/plain": [
       "response    0\n",
       "text        0\n",
       "dtype: int64"
      ]
     },
     "execution_count": 12,
     "metadata": {},
     "output_type": "execute_result"
    }
   ],
   "source": [
    "# Check for Nulls\n",
    "data.isnull().sum()"
   ]
  },
  {
   "cell_type": "code",
   "execution_count": 13,
   "metadata": {
    "_uuid": "a40222ff82640d8690d6bec70ef3b1320bdd5778",
    "colab": {
     "base_uri": "https://localhost:8080/",
     "height": 68
    },
    "colab_type": "code",
    "executionInfo": {
     "elapsed": 1120,
     "status": "ok",
     "timestamp": 1547327253383,
     "user": {
      "displayName": "kjgh known",
      "photoUrl": "",
      "userId": "09371675389476978286"
     },
     "user_tz": -330
    },
    "id": "9yY8a2cPAKxx",
    "outputId": "1c03d835-22a3-49c8-c030-273e9d71e4bc"
   },
   "outputs": [
    {
     "data": {
      "text/plain": [
       "response    int64 \n",
       "text        object\n",
       "dtype: object"
      ]
     },
     "execution_count": 13,
     "metadata": {},
     "output_type": "execute_result"
    }
   ],
   "source": [
    "# Check Data Types\n",
    "data['text'].astype('str')\n",
    "data.dtypes"
   ]
  },
  {
   "cell_type": "code",
   "execution_count": 14,
   "metadata": {
    "_uuid": "e716a160b4ceb02c08e5520af5eb53153b7c4d38"
   },
   "outputs": [],
   "source": [
    "import warnings\n",
    "warnings.filterwarnings(\"ignore\")"
   ]
  },
  {
   "cell_type": "code",
   "execution_count": 15,
   "metadata": {
    "_uuid": "bf18a862d86b048a03a03fc5592cd99df1754b26",
    "colab": {},
    "colab_type": "code",
    "id": "fb7DK04p8jlv"
   },
   "outputs": [],
   "source": [
    "# SYNTACTICAL FEATURES (PHYSICAL DESCRIPTIONS)"
   ]
  },
  {
   "cell_type": "code",
   "execution_count": 16,
   "metadata": {
    "_uuid": "8db5fa1f056d252e09604c4e765e95a1d2d2db54",
    "colab": {
     "base_uri": "https://localhost:8080/",
     "height": 544
    },
    "colab_type": "code",
    "executionInfo": {
     "elapsed": 1145,
     "status": "ok",
     "timestamp": 1547327256751,
     "user": {
      "displayName": "kjgh known",
      "photoUrl": "",
      "userId": "09371675389476978286"
     },
     "user_tz": -330
    },
    "id": "JqnwdkP38qwB",
    "outputId": "2906a3c1-f5c9-4e79-9309-059939978be1"
   },
   "outputs": [
    {
     "data": {
      "text/html": [
       "<div>\n",
       "<style scoped>\n",
       "    .dataframe tbody tr th:only-of-type {\n",
       "        vertical-align: middle;\n",
       "    }\n",
       "\n",
       "    .dataframe tbody tr th {\n",
       "        vertical-align: top;\n",
       "    }\n",
       "\n",
       "    .dataframe thead th {\n",
       "        text-align: right;\n",
       "    }\n",
       "</style>\n",
       "<table border=\"1\" class=\"dataframe\">\n",
       "  <thead>\n",
       "    <tr style=\"text-align: right;\">\n",
       "      <th></th>\n",
       "      <th>text</th>\n",
       "      <th>char_cnt</th>\n",
       "      <th>word_cnt</th>\n",
       "      <th>sentence_cnt</th>\n",
       "    </tr>\n",
       "  </thead>\n",
       "  <tbody>\n",
       "    <tr>\n",
       "      <th>0</th>\n",
       "      <td>Love my Echo!</td>\n",
       "      <td>13</td>\n",
       "      <td>3</td>\n",
       "      <td>1</td>\n",
       "    </tr>\n",
       "    <tr>\n",
       "      <th>1</th>\n",
       "      <td>Loved it!</td>\n",
       "      <td>9</td>\n",
       "      <td>2</td>\n",
       "      <td>1</td>\n",
       "    </tr>\n",
       "    <tr>\n",
       "      <th>2</th>\n",
       "      <td>Sometimes while playing a game, you can answer a question correctly but Alexa says you got it wrong and answers the same as you.  I like being able to turn lights on and off while away from home.</td>\n",
       "      <td>195</td>\n",
       "      <td>38</td>\n",
       "      <td>2</td>\n",
       "    </tr>\n",
       "    <tr>\n",
       "      <th>3</th>\n",
       "      <td>I have had a lot of fun with this thing. My 4 yr old learns about dinosaurs, i control the lights and play games like categories. Has nice sound when playing music as well.</td>\n",
       "      <td>172</td>\n",
       "      <td>34</td>\n",
       "      <td>3</td>\n",
       "    </tr>\n",
       "    <tr>\n",
       "      <th>4</th>\n",
       "      <td>Music</td>\n",
       "      <td>5</td>\n",
       "      <td>1</td>\n",
       "      <td>1</td>\n",
       "    </tr>\n",
       "  </tbody>\n",
       "</table>\n",
       "</div>"
      ],
      "text/plain": [
       "                                                                                                                                                                                                  text      ...       sentence_cnt\n",
       "0  Love my Echo!                                                                                                                                                                                            ...       1           \n",
       "1  Loved it!                                                                                                                                                                                                ...       1           \n",
       "2  Sometimes while playing a game, you can answer a question correctly but Alexa says you got it wrong and answers the same as you.  I like being able to turn lights on and off while away from home.      ...       2           \n",
       "3  I have had a lot of fun with this thing. My 4 yr old learns about dinosaurs, i control the lights and play games like categories. Has nice sound when playing music as well.                             ...       3           \n",
       "4  Music                                                                                                                                                                                                    ...       1           \n",
       "\n",
       "[5 rows x 4 columns]"
      ]
     },
     "execution_count": 16,
     "metadata": {},
     "output_type": "execute_result"
    }
   ],
   "source": [
    "# 1. Size Measurements\n",
    "\n",
    "# no. of characters (also text size)\n",
    "data['char_cnt'] = data['text'].str.len()\n",
    "\n",
    "# no. of words\n",
    "data['word_cnt'] = data['text'].apply(lambda x: len(str(x).split()))\n",
    "\n",
    "# no. of sentences\n",
    "data['sentence_cnt'] = data['text'].apply(lambda x: len(str(x).split(\". \")))\n",
    "\n",
    "data[['text', 'char_cnt', 'word_cnt', 'sentence_cnt']].head()"
   ]
  },
  {
   "cell_type": "code",
   "execution_count": 17,
   "metadata": {
    "_uuid": "30c010c3a86e25b6e41f1b94a78a1e6c0059b3b1",
    "colab": {
     "base_uri": "https://localhost:8080/",
     "height": 238
    },
    "colab_type": "code",
    "executionInfo": {
     "elapsed": 10708,
     "status": "ok",
     "timestamp": 1547331060480,
     "user": {
      "displayName": "kjgh known",
      "photoUrl": "",
      "userId": "09371675389476978286"
     },
     "user_tz": -330
    },
    "id": "72hLUS7xgLX1",
    "outputId": "4e39d56e-498e-4f4c-e5d1-878790726b08"
   },
   "outputs": [
    {
     "data": {
      "text/html": [
       "<div>\n",
       "<style scoped>\n",
       "    .dataframe tbody tr th:only-of-type {\n",
       "        vertical-align: middle;\n",
       "    }\n",
       "\n",
       "    .dataframe tbody tr th {\n",
       "        vertical-align: top;\n",
       "    }\n",
       "\n",
       "    .dataframe thead th {\n",
       "        text-align: right;\n",
       "    }\n",
       "</style>\n",
       "<table border=\"1\" class=\"dataframe\">\n",
       "  <thead>\n",
       "    <tr style=\"text-align: right;\">\n",
       "      <th></th>\n",
       "      <th>text</th>\n",
       "      <th>avg_word_size</th>\n",
       "      <th>avg_char_per_sent</th>\n",
       "      <th>avg_word_per_sent</th>\n",
       "    </tr>\n",
       "  </thead>\n",
       "  <tbody>\n",
       "    <tr>\n",
       "      <th>0</th>\n",
       "      <td>Love my Echo!</td>\n",
       "      <td>4.333333</td>\n",
       "      <td>13.000000</td>\n",
       "      <td>3.000000</td>\n",
       "    </tr>\n",
       "    <tr>\n",
       "      <th>1</th>\n",
       "      <td>Loved it!</td>\n",
       "      <td>4.500000</td>\n",
       "      <td>9.000000</td>\n",
       "      <td>2.000000</td>\n",
       "    </tr>\n",
       "    <tr>\n",
       "      <th>2</th>\n",
       "      <td>Sometimes while playing a game, you can answer a question correctly but Alexa says you got it wrong and answers the same as you.  I like being able to turn lights on and off while away from home.</td>\n",
       "      <td>5.131579</td>\n",
       "      <td>97.500000</td>\n",
       "      <td>19.000000</td>\n",
       "    </tr>\n",
       "    <tr>\n",
       "      <th>3</th>\n",
       "      <td>I have had a lot of fun with this thing. My 4 yr old learns about dinosaurs, i control the lights and play games like categories. Has nice sound when playing music as well.</td>\n",
       "      <td>5.058824</td>\n",
       "      <td>57.333333</td>\n",
       "      <td>11.333333</td>\n",
       "    </tr>\n",
       "    <tr>\n",
       "      <th>4</th>\n",
       "      <td>Music</td>\n",
       "      <td>5.000000</td>\n",
       "      <td>5.000000</td>\n",
       "      <td>1.000000</td>\n",
       "    </tr>\n",
       "  </tbody>\n",
       "</table>\n",
       "</div>"
      ],
      "text/plain": [
       "                                                                                                                                                                                                  text        ...          avg_word_per_sent\n",
       "0  Love my Echo!                                                                                                                                                                                              ...          3.000000         \n",
       "1  Loved it!                                                                                                                                                                                                  ...          2.000000         \n",
       "2  Sometimes while playing a game, you can answer a question correctly but Alexa says you got it wrong and answers the same as you.  I like being able to turn lights on and off while away from home.        ...          19.000000        \n",
       "3  I have had a lot of fun with this thing. My 4 yr old learns about dinosaurs, i control the lights and play games like categories. Has nice sound when playing music as well.                               ...          11.333333        \n",
       "4  Music                                                                                                                                                                                                      ...          1.000000         \n",
       "\n",
       "[5 rows x 4 columns]"
      ]
     },
     "execution_count": 17,
     "metadata": {},
     "output_type": "execute_result"
    }
   ],
   "source": [
    "# 2. Derived Ratios\n",
    "\n",
    "# avg. word size\n",
    "data['avg_word_size'] = data['char_cnt']/data['word_cnt']\n",
    "\n",
    "# avg. sentence size\n",
    "data['avg_char_per_sent'] = data['char_cnt']/data['sentence_cnt']\n",
    "\n",
    "# avg. words per sentence\n",
    "data['avg_word_per_sent'] = data['word_cnt']/data['sentence_cnt']\n",
    "\n",
    "data[['text','avg_word_size','avg_char_per_sent', 'avg_word_per_sent']].head()"
   ]
  },
  {
   "cell_type": "code",
   "execution_count": 18,
   "metadata": {
    "_uuid": "20ce3059d81051276b271a54c756f11f70d4996a",
    "colab": {
     "base_uri": "https://localhost:8080/",
     "height": 272
    },
    "colab_type": "code",
    "executionInfo": {
     "elapsed": 2610,
     "status": "ok",
     "timestamp": 1547327265694,
     "user": {
      "displayName": "kjgh known",
      "photoUrl": "",
      "userId": "09371675389476978286"
     },
     "user_tz": -330
    },
    "id": "9U6yr2FrdTY_",
    "outputId": "4231d35e-3abb-4d1c-8cc8-49ab1d25067e"
   },
   "outputs": [
    {
     "name": "stdout",
     "output_type": "stream",
     "text": [
      "[nltk_data] Error loading stopwords: <urlopen error [Errno -3]\n",
      "[nltk_data]     Temporary failure in name resolution>\n"
     ]
    },
    {
     "data": {
      "text/html": [
       "<div>\n",
       "<style scoped>\n",
       "    .dataframe tbody tr th:only-of-type {\n",
       "        vertical-align: middle;\n",
       "    }\n",
       "\n",
       "    .dataframe tbody tr th {\n",
       "        vertical-align: top;\n",
       "    }\n",
       "\n",
       "    .dataframe thead th {\n",
       "        text-align: right;\n",
       "    }\n",
       "</style>\n",
       "<table border=\"1\" class=\"dataframe\">\n",
       "  <thead>\n",
       "    <tr style=\"text-align: right;\">\n",
       "      <th></th>\n",
       "      <th>text</th>\n",
       "      <th>stop_cnt</th>\n",
       "      <th>avg_stop_per_sent</th>\n",
       "      <th>avg_stop_per_word</th>\n",
       "    </tr>\n",
       "  </thead>\n",
       "  <tbody>\n",
       "    <tr>\n",
       "      <th>0</th>\n",
       "      <td>Love my Echo!</td>\n",
       "      <td>1</td>\n",
       "      <td>1.0</td>\n",
       "      <td>0.333333</td>\n",
       "    </tr>\n",
       "    <tr>\n",
       "      <th>1</th>\n",
       "      <td>Loved it!</td>\n",
       "      <td>0</td>\n",
       "      <td>0.0</td>\n",
       "      <td>0.000000</td>\n",
       "    </tr>\n",
       "    <tr>\n",
       "      <th>2</th>\n",
       "      <td>Sometimes while playing a game, you can answer a question correctly but Alexa says you got it wrong and answers the same as you.  I like being able to turn lights on and off while away from home.</td>\n",
       "      <td>19</td>\n",
       "      <td>9.5</td>\n",
       "      <td>0.500000</td>\n",
       "    </tr>\n",
       "    <tr>\n",
       "      <th>3</th>\n",
       "      <td>I have had a lot of fun with this thing. My 4 yr old learns about dinosaurs, i control the lights and play games like categories. Has nice sound when playing music as well.</td>\n",
       "      <td>12</td>\n",
       "      <td>4.0</td>\n",
       "      <td>0.352941</td>\n",
       "    </tr>\n",
       "    <tr>\n",
       "      <th>4</th>\n",
       "      <td>Music</td>\n",
       "      <td>0</td>\n",
       "      <td>0.0</td>\n",
       "      <td>0.000000</td>\n",
       "    </tr>\n",
       "  </tbody>\n",
       "</table>\n",
       "</div>"
      ],
      "text/plain": [
       "                                                                                                                                                                                                  text        ...          avg_stop_per_word\n",
       "0  Love my Echo!                                                                                                                                                                                              ...          0.333333         \n",
       "1  Loved it!                                                                                                                                                                                                  ...          0.000000         \n",
       "2  Sometimes while playing a game, you can answer a question correctly but Alexa says you got it wrong and answers the same as you.  I like being able to turn lights on and off while away from home.        ...          0.500000         \n",
       "3  I have had a lot of fun with this thing. My 4 yr old learns about dinosaurs, i control the lights and play games like categories. Has nice sound when playing music as well.                               ...          0.352941         \n",
       "4  Music                                                                                                                                                                                                      ...          0.000000         \n",
       "\n",
       "[5 rows x 4 columns]"
      ]
     },
     "execution_count": 18,
     "metadata": {},
     "output_type": "execute_result"
    }
   ],
   "source": [
    "# 3. Stopwords/filler Words\n",
    "\n",
    "import nltk\n",
    "nltk.download('stopwords')\n",
    "from nltk.corpus import stopwords\n",
    "stop = stopwords.words('english')\n",
    "\n",
    "# no. of stopwords\n",
    "data['stop_cnt'] = data['text'].apply(lambda x: len([x for x in x.split() if x in stop]))\n",
    "\n",
    "# no. of stopwords in every sentence\n",
    "data['avg_stop_per_sent'] = data['stop_cnt']/data['sentence_cnt']\n",
    "\n",
    "# no. of stopwords to total words\n",
    "data['avg_stop_per_word'] = data['stop_cnt']/data['word_cnt']\n",
    "\n",
    "data[['text','stop_cnt', 'avg_stop_per_sent', 'avg_stop_per_word']].head()"
   ]
  },
  {
   "cell_type": "code",
   "execution_count": 19,
   "metadata": {
    "_uuid": "785eca5dfa2bee558457397c4e9ecfbf1bbda6a9",
    "colab": {
     "base_uri": "https://localhost:8080/",
     "height": 238
    },
    "colab_type": "code",
    "executionInfo": {
     "elapsed": 7028,
     "status": "ok",
     "timestamp": 1547331060481,
     "user": {
      "displayName": "kjgh known",
      "photoUrl": "",
      "userId": "09371675389476978286"
     },
     "user_tz": -330
    },
    "id": "Qlf0iAfQlnl9",
    "outputId": "8899174d-a902-4ba4-e278-256032ff203e"
   },
   "outputs": [
    {
     "data": {
      "text/html": [
       "<div>\n",
       "<style scoped>\n",
       "    .dataframe tbody tr th:only-of-type {\n",
       "        vertical-align: middle;\n",
       "    }\n",
       "\n",
       "    .dataframe tbody tr th {\n",
       "        vertical-align: top;\n",
       "    }\n",
       "\n",
       "    .dataframe thead th {\n",
       "        text-align: right;\n",
       "    }\n",
       "</style>\n",
       "<table border=\"1\" class=\"dataframe\">\n",
       "  <thead>\n",
       "    <tr style=\"text-align: right;\">\n",
       "      <th></th>\n",
       "      <th>text</th>\n",
       "      <th>hash_cnt</th>\n",
       "      <th>tag_cnt</th>\n",
       "      <th>excl_cnt</th>\n",
       "      <th>ques_cnt</th>\n",
       "      <th>num_cnt</th>\n",
       "      <th>upper_cnt</th>\n",
       "    </tr>\n",
       "  </thead>\n",
       "  <tbody>\n",
       "    <tr>\n",
       "      <th>0</th>\n",
       "      <td>Love my Echo!</td>\n",
       "      <td>0</td>\n",
       "      <td>0</td>\n",
       "      <td>1</td>\n",
       "      <td>0</td>\n",
       "      <td>0</td>\n",
       "      <td>0</td>\n",
       "    </tr>\n",
       "    <tr>\n",
       "      <th>1</th>\n",
       "      <td>Loved it!</td>\n",
       "      <td>0</td>\n",
       "      <td>0</td>\n",
       "      <td>1</td>\n",
       "      <td>0</td>\n",
       "      <td>0</td>\n",
       "      <td>0</td>\n",
       "    </tr>\n",
       "    <tr>\n",
       "      <th>2</th>\n",
       "      <td>Sometimes while playing a game, you can answer a question correctly but Alexa says you got it wrong and answers the same as you.  I like being able to turn lights on and off while away from home.</td>\n",
       "      <td>0</td>\n",
       "      <td>0</td>\n",
       "      <td>0</td>\n",
       "      <td>0</td>\n",
       "      <td>0</td>\n",
       "      <td>1</td>\n",
       "    </tr>\n",
       "    <tr>\n",
       "      <th>3</th>\n",
       "      <td>I have had a lot of fun with this thing. My 4 yr old learns about dinosaurs, i control the lights and play games like categories. Has nice sound when playing music as well.</td>\n",
       "      <td>0</td>\n",
       "      <td>0</td>\n",
       "      <td>0</td>\n",
       "      <td>0</td>\n",
       "      <td>1</td>\n",
       "      <td>1</td>\n",
       "    </tr>\n",
       "    <tr>\n",
       "      <th>4</th>\n",
       "      <td>Music</td>\n",
       "      <td>0</td>\n",
       "      <td>0</td>\n",
       "      <td>0</td>\n",
       "      <td>0</td>\n",
       "      <td>0</td>\n",
       "      <td>0</td>\n",
       "    </tr>\n",
       "  </tbody>\n",
       "</table>\n",
       "</div>"
      ],
      "text/plain": [
       "                                                                                                                                                                                                  text    ...      upper_cnt\n",
       "0  Love my Echo!                                                                                                                                                                                          ...      0        \n",
       "1  Loved it!                                                                                                                                                                                              ...      0        \n",
       "2  Sometimes while playing a game, you can answer a question correctly but Alexa says you got it wrong and answers the same as you.  I like being able to turn lights on and off while away from home.    ...      1        \n",
       "3  I have had a lot of fun with this thing. My 4 yr old learns about dinosaurs, i control the lights and play games like categories. Has nice sound when playing music as well.                           ...      1        \n",
       "4  Music                                                                                                                                                                                                  ...      0        \n",
       "\n",
       "[5 rows x 7 columns]"
      ]
     },
     "execution_count": 19,
     "metadata": {},
     "output_type": "execute_result"
    }
   ],
   "source": [
    "# 4. Counts of Key Characters/Words\n",
    "\n",
    "# no. of hashtags\n",
    "data['hash_cnt'] = data['text'].apply(lambda x: len([x for x in x.split() if x.startswith('#')]))\n",
    "\n",
    "# no. of @tags\n",
    "data['tag_cnt'] = data['text'].apply(lambda x: len([x for x in x.split() if x.startswith('@')]))\n",
    "\n",
    "# no. of exclamations!\n",
    "data['excl_cnt'] = data['text'].apply(lambda x: len([x for x in x.split() if x.endswith('!')]))\n",
    "\n",
    "# no. of questions? \n",
    "data['ques_cnt'] = data['text'].apply(lambda x: len([x for x in x.split() if x.endswith('?')]))\n",
    "\n",
    "# no. of numeric chars\n",
    "data['num_cnt'] = data['text'].apply(lambda x: sum(i.isdigit() for i in x))\n",
    "\n",
    "# no. of uppercase words (SHOUTING?)\n",
    "data['upper_cnt'] = data['text'].apply(lambda x: len([x for x in x.split() if x.isupper()]))\n",
    "\n",
    "data[['text','hash_cnt', 'tag_cnt', 'excl_cnt','ques_cnt', 'num_cnt', 'upper_cnt']].head()"
   ]
  },
  {
   "cell_type": "code",
   "execution_count": 20,
   "metadata": {
    "_uuid": "024b8a72bd99de8b997554a4a6327f6eb53a071b",
    "colab": {
     "base_uri": "https://localhost:8080/",
     "height": 989
    },
    "colab_type": "code",
    "executionInfo": {
     "elapsed": 70767,
     "status": "ok",
     "timestamp": 1547331127738,
     "user": {
      "displayName": "kjgh known",
      "photoUrl": "",
      "userId": "09371675389476978286"
     },
     "user_tz": -330
    },
    "id": "_vOiY70MK9cq",
    "outputId": "900d3998-1d76-4ccc-931e-0d9c88a50659"
   },
   "outputs": [
    {
     "name": "stdout",
     "output_type": "stream",
     "text": [
      "[nltk_data] Error loading punkt: <urlopen error [Errno -3] Temporary\n",
      "[nltk_data]     failure in name resolution>\n",
      "[nltk_data] Error loading averaged_perceptron_tagger: <urlopen error\n",
      "[nltk_data]     [Errno -3] Temporary failure in name resolution>\n"
     ]
    },
    {
     "data": {
      "text/html": [
       "<div>\n",
       "<style scoped>\n",
       "    .dataframe tbody tr th:only-of-type {\n",
       "        vertical-align: middle;\n",
       "    }\n",
       "\n",
       "    .dataframe tbody tr th {\n",
       "        vertical-align: top;\n",
       "    }\n",
       "\n",
       "    .dataframe thead th {\n",
       "        text-align: right;\n",
       "    }\n",
       "</style>\n",
       "<table border=\"1\" class=\"dataframe\">\n",
       "  <thead>\n",
       "    <tr style=\"text-align: right;\">\n",
       "      <th></th>\n",
       "      <th>text</th>\n",
       "      <th>noun_cnt</th>\n",
       "      <th>proper_noun_cnt</th>\n",
       "      <th>pronoun_cnt</th>\n",
       "      <th>wh_pronoun_cnt</th>\n",
       "      <th>pronoun_tot_cnt</th>\n",
       "      <th>adj_cnt</th>\n",
       "      <th>adverb_cnt</th>\n",
       "      <th>foreign_cnt</th>\n",
       "      <th>det_cnt</th>\n",
       "      <th>modal_cnt</th>\n",
       "      <th>verb_cnt</th>\n",
       "      <th>verb_past_cnt</th>\n",
       "      <th>verb_present_cnt</th>\n",
       "      <th>verb_tot_cnt</th>\n",
       "      <th>cc_cnt</th>\n",
       "      <th>in_cnt</th>\n",
       "      <th>ccin_cnt</th>\n",
       "    </tr>\n",
       "  </thead>\n",
       "  <tbody>\n",
       "    <tr>\n",
       "      <th>0</th>\n",
       "      <td>Love my Echo!</td>\n",
       "      <td>1</td>\n",
       "      <td>0</td>\n",
       "      <td>1</td>\n",
       "      <td>0</td>\n",
       "      <td>1</td>\n",
       "      <td>0</td>\n",
       "      <td>0</td>\n",
       "      <td>0</td>\n",
       "      <td>0</td>\n",
       "      <td>0</td>\n",
       "      <td>1</td>\n",
       "      <td>0</td>\n",
       "      <td>0</td>\n",
       "      <td>1</td>\n",
       "      <td>0</td>\n",
       "      <td>0</td>\n",
       "      <td>0</td>\n",
       "    </tr>\n",
       "    <tr>\n",
       "      <th>1</th>\n",
       "      <td>Loved it!</td>\n",
       "      <td>0</td>\n",
       "      <td>0</td>\n",
       "      <td>1</td>\n",
       "      <td>0</td>\n",
       "      <td>1</td>\n",
       "      <td>0</td>\n",
       "      <td>0</td>\n",
       "      <td>0</td>\n",
       "      <td>0</td>\n",
       "      <td>0</td>\n",
       "      <td>0</td>\n",
       "      <td>0</td>\n",
       "      <td>1</td>\n",
       "      <td>1</td>\n",
       "      <td>0</td>\n",
       "      <td>0</td>\n",
       "      <td>0</td>\n",
       "    </tr>\n",
       "    <tr>\n",
       "      <th>2</th>\n",
       "      <td>Sometimes while playing a game, you can answer a question correctly but Alexa says you got it wrong and answers the same as you.  I like being able to turn lights on and off while away from home.</td>\n",
       "      <td>5</td>\n",
       "      <td>1</td>\n",
       "      <td>5</td>\n",
       "      <td>0</td>\n",
       "      <td>5</td>\n",
       "      <td>3</td>\n",
       "      <td>3</td>\n",
       "      <td>0</td>\n",
       "      <td>0</td>\n",
       "      <td>1</td>\n",
       "      <td>2</td>\n",
       "      <td>4</td>\n",
       "      <td>1</td>\n",
       "      <td>7</td>\n",
       "      <td>3</td>\n",
       "      <td>7</td>\n",
       "      <td>10</td>\n",
       "    </tr>\n",
       "    <tr>\n",
       "      <th>3</th>\n",
       "      <td>I have had a lot of fun with this thing. My 4 yr old learns about dinosaurs, i control the lights and play games like categories. Has nice sound when playing music as well.</td>\n",
       "      <td>12</td>\n",
       "      <td>1</td>\n",
       "      <td>2</td>\n",
       "      <td>0</td>\n",
       "      <td>2</td>\n",
       "      <td>2</td>\n",
       "      <td>3</td>\n",
       "      <td>0</td>\n",
       "      <td>0</td>\n",
       "      <td>0</td>\n",
       "      <td>1</td>\n",
       "      <td>3</td>\n",
       "      <td>1</td>\n",
       "      <td>5</td>\n",
       "      <td>1</td>\n",
       "      <td>4</td>\n",
       "      <td>5</td>\n",
       "    </tr>\n",
       "    <tr>\n",
       "      <th>4</th>\n",
       "      <td>Music</td>\n",
       "      <td>0</td>\n",
       "      <td>0</td>\n",
       "      <td>0</td>\n",
       "      <td>0</td>\n",
       "      <td>0</td>\n",
       "      <td>1</td>\n",
       "      <td>0</td>\n",
       "      <td>0</td>\n",
       "      <td>0</td>\n",
       "      <td>0</td>\n",
       "      <td>0</td>\n",
       "      <td>0</td>\n",
       "      <td>0</td>\n",
       "      <td>0</td>\n",
       "      <td>0</td>\n",
       "      <td>0</td>\n",
       "      <td>0</td>\n",
       "    </tr>\n",
       "  </tbody>\n",
       "</table>\n",
       "</div>"
      ],
      "text/plain": [
       "                                                                                                                                                                                                  text    ...     ccin_cnt\n",
       "0  Love my Echo!                                                                                                                                                                                          ...     0       \n",
       "1  Loved it!                                                                                                                                                                                              ...     0       \n",
       "2  Sometimes while playing a game, you can answer a question correctly but Alexa says you got it wrong and answers the same as you.  I like being able to turn lights on and off while away from home.    ...     10      \n",
       "3  I have had a lot of fun with this thing. My 4 yr old learns about dinosaurs, i control the lights and play games like categories. Has nice sound when playing music as well.                           ...     5       \n",
       "4  Music                                                                                                                                                                                                  ...     0       \n",
       "\n",
       "[5 rows x 18 columns]"
      ]
     },
     "execution_count": 20,
     "metadata": {},
     "output_type": "execute_result"
    }
   ],
   "source": [
    "# 5. Counts of Parts of Speech (POS Counts)\n",
    "\n",
    "# tokenize\n",
    "nltk.download('punkt')\n",
    "nltk.download('averaged_perceptron_tagger')\n",
    "from nltk import word_tokenize, pos_tag\n",
    "data['word_tokens'] = data['text'].apply(word_tokenize)\n",
    "\n",
    "# number of nouns\n",
    "data['noun_cnt'] = data['word_tokens'].apply(lambda x: len([i for i in pos_tag(x) if i[1] in (\"NN\", \"NNS\", \"NNP\", \"NNPS\")]))\n",
    "data['proper_noun_cnt'] = data['word_tokens'].apply(lambda x: len([i for i in pos_tag(x) if i[1] in (\"NNP\", \"NNPS\")]))\n",
    "\n",
    "# number of pronouns\n",
    "data['pronoun_cnt'] = data['word_tokens'].apply(lambda x: len([i for i in pos_tag(x) if i[1] in (\"PRP\", \"PRP$\")]))\n",
    "data['wh_pronoun_cnt'] = data['word_tokens'].apply(lambda x: len([i for i in pos_tag(x) if i[1] in (\"WP\", \"WP$\")]))\n",
    "data['pronoun_tot_cnt'] = data['pronoun_cnt'] + data['wh_pronoun_cnt']\n",
    "\n",
    "# number of adjectives\n",
    "data['adj_cnt'] = data['word_tokens'].apply(lambda x: len([i for i in pos_tag(x) if i[1] in (\"JJ\",\"JJR\", \"JJS\")]))\n",
    "\n",
    "# number of verbs\n",
    "data['verb_past_cnt'] = data['word_tokens'].apply(lambda x: len([i for i in pos_tag(x) if i[1] in (\"VBP\", \"VBZ\",\"VBG\")]))\n",
    "data['verb_present_cnt'] = data['word_tokens'].apply(lambda x: len([i for i in pos_tag(x) if i[1] in (\"VBD\", \"VBN\")]))\n",
    "data['verb_cnt'] = data['word_tokens'].apply(lambda x: len([i for i in pos_tag(x) if i[1] in (\"VB\")]))\n",
    "data['verb_tot_cnt'] =  data['verb_past_cnt'] + data['verb_present_cnt'] + data['verb_cnt']\n",
    "\n",
    "# number of adverbs\n",
    "data['adverb_cnt'] = data['word_tokens'].apply(lambda x: len([i for i in pos_tag(x) if i[1] in (\"RB\", \"RBR\", \"RBS\")]))\n",
    "\n",
    "# number of modals\n",
    "data['modal_cnt'] = data['word_tokens'].apply(lambda x: len([i for i in pos_tag(x) if i[1] in (\"MD\")]))\n",
    "\n",
    "# number of foreign words\n",
    "data['foreign_cnt'] = data['word_tokens'].apply(lambda x: len([i for i in pos_tag(x) if i[1] in (\"FW\")]))\n",
    "\n",
    "# number of determiners\n",
    "data['det_cnt'] = data['word_tokens'].apply(lambda x: len([i for i in pos_tag(x) if i[1] in (\"DET\")]))\n",
    "\n",
    "# number of conjunctions\n",
    "data['cc_cnt'] = data['word_tokens'].apply(lambda x: len([i for i in pos_tag(x) if i[1] in (\"CC\")]))\n",
    "data['in_cnt'] = data['word_tokens'].apply(lambda x: len([i for i in pos_tag(x) if i[1] in (\"IN\")]))\n",
    "data['ccin_cnt'] = data['cc_cnt'] + data['in_cnt']\n",
    "\n",
    "data[['text','noun_cnt', 'proper_noun_cnt', \n",
    "                'pronoun_cnt','wh_pronoun_cnt','pronoun_tot_cnt',\n",
    "                'adj_cnt', 'adverb_cnt','foreign_cnt','det_cnt', 'modal_cnt',\n",
    "                'verb_cnt', 'verb_past_cnt', 'verb_present_cnt','verb_tot_cnt'\n",
    "                ,'cc_cnt', 'in_cnt', 'ccin_cnt']].head()"
   ]
  },
  {
   "cell_type": "code",
   "execution_count": 21,
   "metadata": {
    "_uuid": "feae7c01ee61c922397decbbec67e889091e8033",
    "colab": {
     "base_uri": "https://localhost:8080/",
     "height": 253
    },
    "colab_type": "code",
    "executionInfo": {
     "elapsed": 60044,
     "status": "ok",
     "timestamp": 1547327349750,
     "user": {
      "displayName": "kjgh known",
      "photoUrl": "",
      "userId": "09371675389476978286"
     },
     "user_tz": -330
    },
    "id": "O0XjuqOe3QoI",
    "outputId": "8caa4b4f-e1b0-4b2a-c547-4e197e587646"
   },
   "outputs": [
    {
     "data": {
      "text/html": [
       "<div>\n",
       "<style scoped>\n",
       "    .dataframe tbody tr th:only-of-type {\n",
       "        vertical-align: middle;\n",
       "    }\n",
       "\n",
       "    .dataframe tbody tr th {\n",
       "        vertical-align: top;\n",
       "    }\n",
       "\n",
       "    .dataframe thead th {\n",
       "        text-align: right;\n",
       "    }\n",
       "</style>\n",
       "<table border=\"1\" class=\"dataframe\">\n",
       "  <thead>\n",
       "    <tr style=\"text-align: right;\">\n",
       "      <th></th>\n",
       "      <th>response</th>\n",
       "      <th>char_cnt</th>\n",
       "      <th>word_cnt</th>\n",
       "      <th>sentence_cnt</th>\n",
       "      <th>avg_word_size</th>\n",
       "      <th>avg_char_per_sent</th>\n",
       "      <th>avg_word_per_sent</th>\n",
       "      <th>stop_cnt</th>\n",
       "      <th>avg_stop_per_sent</th>\n",
       "      <th>avg_stop_per_word</th>\n",
       "      <th>hash_cnt</th>\n",
       "      <th>tag_cnt</th>\n",
       "      <th>excl_cnt</th>\n",
       "      <th>ques_cnt</th>\n",
       "      <th>num_cnt</th>\n",
       "      <th>upper_cnt</th>\n",
       "      <th>noun_cnt</th>\n",
       "      <th>proper_noun_cnt</th>\n",
       "      <th>pronoun_cnt</th>\n",
       "      <th>wh_pronoun_cnt</th>\n",
       "      <th>pronoun_tot_cnt</th>\n",
       "      <th>adj_cnt</th>\n",
       "      <th>adverb_cnt</th>\n",
       "      <th>foreign_cnt</th>\n",
       "      <th>det_cnt</th>\n",
       "      <th>modal_cnt</th>\n",
       "      <th>verb_cnt</th>\n",
       "      <th>verb_past_cnt</th>\n",
       "      <th>verb_present_cnt</th>\n",
       "      <th>verb_tot_cnt</th>\n",
       "      <th>cc_cnt</th>\n",
       "      <th>in_cnt</th>\n",
       "      <th>ccin_cnt</th>\n",
       "    </tr>\n",
       "  </thead>\n",
       "  <tbody>\n",
       "    <tr>\n",
       "      <th>0</th>\n",
       "      <td>1</td>\n",
       "      <td>13</td>\n",
       "      <td>3</td>\n",
       "      <td>1</td>\n",
       "      <td>4.333333</td>\n",
       "      <td>13.000000</td>\n",
       "      <td>3.000000</td>\n",
       "      <td>1</td>\n",
       "      <td>1.0</td>\n",
       "      <td>0.333333</td>\n",
       "      <td>0</td>\n",
       "      <td>0</td>\n",
       "      <td>1</td>\n",
       "      <td>0</td>\n",
       "      <td>0</td>\n",
       "      <td>0</td>\n",
       "      <td>1</td>\n",
       "      <td>0</td>\n",
       "      <td>1</td>\n",
       "      <td>0</td>\n",
       "      <td>1</td>\n",
       "      <td>0</td>\n",
       "      <td>0</td>\n",
       "      <td>0</td>\n",
       "      <td>0</td>\n",
       "      <td>0</td>\n",
       "      <td>1</td>\n",
       "      <td>0</td>\n",
       "      <td>0</td>\n",
       "      <td>1</td>\n",
       "      <td>0</td>\n",
       "      <td>0</td>\n",
       "      <td>0</td>\n",
       "    </tr>\n",
       "    <tr>\n",
       "      <th>1</th>\n",
       "      <td>1</td>\n",
       "      <td>9</td>\n",
       "      <td>2</td>\n",
       "      <td>1</td>\n",
       "      <td>4.500000</td>\n",
       "      <td>9.000000</td>\n",
       "      <td>2.000000</td>\n",
       "      <td>0</td>\n",
       "      <td>0.0</td>\n",
       "      <td>0.000000</td>\n",
       "      <td>0</td>\n",
       "      <td>0</td>\n",
       "      <td>1</td>\n",
       "      <td>0</td>\n",
       "      <td>0</td>\n",
       "      <td>0</td>\n",
       "      <td>0</td>\n",
       "      <td>0</td>\n",
       "      <td>1</td>\n",
       "      <td>0</td>\n",
       "      <td>1</td>\n",
       "      <td>0</td>\n",
       "      <td>0</td>\n",
       "      <td>0</td>\n",
       "      <td>0</td>\n",
       "      <td>0</td>\n",
       "      <td>0</td>\n",
       "      <td>0</td>\n",
       "      <td>1</td>\n",
       "      <td>1</td>\n",
       "      <td>0</td>\n",
       "      <td>0</td>\n",
       "      <td>0</td>\n",
       "    </tr>\n",
       "    <tr>\n",
       "      <th>2</th>\n",
       "      <td>1</td>\n",
       "      <td>195</td>\n",
       "      <td>38</td>\n",
       "      <td>2</td>\n",
       "      <td>5.131579</td>\n",
       "      <td>97.500000</td>\n",
       "      <td>19.000000</td>\n",
       "      <td>19</td>\n",
       "      <td>9.5</td>\n",
       "      <td>0.500000</td>\n",
       "      <td>0</td>\n",
       "      <td>0</td>\n",
       "      <td>0</td>\n",
       "      <td>0</td>\n",
       "      <td>0</td>\n",
       "      <td>1</td>\n",
       "      <td>5</td>\n",
       "      <td>1</td>\n",
       "      <td>5</td>\n",
       "      <td>0</td>\n",
       "      <td>5</td>\n",
       "      <td>3</td>\n",
       "      <td>3</td>\n",
       "      <td>0</td>\n",
       "      <td>0</td>\n",
       "      <td>1</td>\n",
       "      <td>2</td>\n",
       "      <td>4</td>\n",
       "      <td>1</td>\n",
       "      <td>7</td>\n",
       "      <td>3</td>\n",
       "      <td>7</td>\n",
       "      <td>10</td>\n",
       "    </tr>\n",
       "    <tr>\n",
       "      <th>3</th>\n",
       "      <td>1</td>\n",
       "      <td>172</td>\n",
       "      <td>34</td>\n",
       "      <td>3</td>\n",
       "      <td>5.058824</td>\n",
       "      <td>57.333333</td>\n",
       "      <td>11.333333</td>\n",
       "      <td>12</td>\n",
       "      <td>4.0</td>\n",
       "      <td>0.352941</td>\n",
       "      <td>0</td>\n",
       "      <td>0</td>\n",
       "      <td>0</td>\n",
       "      <td>0</td>\n",
       "      <td>1</td>\n",
       "      <td>1</td>\n",
       "      <td>12</td>\n",
       "      <td>1</td>\n",
       "      <td>2</td>\n",
       "      <td>0</td>\n",
       "      <td>2</td>\n",
       "      <td>2</td>\n",
       "      <td>3</td>\n",
       "      <td>0</td>\n",
       "      <td>0</td>\n",
       "      <td>0</td>\n",
       "      <td>1</td>\n",
       "      <td>3</td>\n",
       "      <td>1</td>\n",
       "      <td>5</td>\n",
       "      <td>1</td>\n",
       "      <td>4</td>\n",
       "      <td>5</td>\n",
       "    </tr>\n",
       "    <tr>\n",
       "      <th>4</th>\n",
       "      <td>1</td>\n",
       "      <td>5</td>\n",
       "      <td>1</td>\n",
       "      <td>1</td>\n",
       "      <td>5.000000</td>\n",
       "      <td>5.000000</td>\n",
       "      <td>1.000000</td>\n",
       "      <td>0</td>\n",
       "      <td>0.0</td>\n",
       "      <td>0.000000</td>\n",
       "      <td>0</td>\n",
       "      <td>0</td>\n",
       "      <td>0</td>\n",
       "      <td>0</td>\n",
       "      <td>0</td>\n",
       "      <td>0</td>\n",
       "      <td>0</td>\n",
       "      <td>0</td>\n",
       "      <td>0</td>\n",
       "      <td>0</td>\n",
       "      <td>0</td>\n",
       "      <td>1</td>\n",
       "      <td>0</td>\n",
       "      <td>0</td>\n",
       "      <td>0</td>\n",
       "      <td>0</td>\n",
       "      <td>0</td>\n",
       "      <td>0</td>\n",
       "      <td>0</td>\n",
       "      <td>0</td>\n",
       "      <td>0</td>\n",
       "      <td>0</td>\n",
       "      <td>0</td>\n",
       "    </tr>\n",
       "  </tbody>\n",
       "</table>\n",
       "</div>"
      ],
      "text/plain": [
       "   response  char_cnt  word_cnt    ...     cc_cnt  in_cnt  ccin_cnt\n",
       "0  1         13        3           ...     0       0       0       \n",
       "1  1         9         2           ...     0       0       0       \n",
       "2  1         195       38          ...     3       7       10      \n",
       "3  1         172       34          ...     1       4       5       \n",
       "4  1         5         1           ...     0       0       0       \n",
       "\n",
       "[5 rows x 33 columns]"
      ]
     },
     "execution_count": 21,
     "metadata": {},
     "output_type": "execute_result"
    }
   ],
   "source": [
    "# Prepare the Data\n",
    "\n",
    "features = ['response','char_cnt', 'word_cnt', 'sentence_cnt', 'avg_word_size','avg_char_per_sent',\n",
    "                  'avg_word_per_sent', 'stop_cnt', 'avg_stop_per_sent', 'avg_stop_per_word',\n",
    "                  'hash_cnt', 'tag_cnt', 'excl_cnt','ques_cnt', 'num_cnt', 'upper_cnt',\n",
    "           'noun_cnt', 'proper_noun_cnt', \n",
    "                'pronoun_cnt','wh_pronoun_cnt','pronoun_tot_cnt',\n",
    "                'adj_cnt', 'adverb_cnt','foreign_cnt','det_cnt', 'modal_cnt',\n",
    "                'verb_cnt', 'verb_past_cnt', 'verb_present_cnt','verb_tot_cnt'\n",
    "                ,'cc_cnt', 'in_cnt', 'ccin_cnt']\n",
    "data_temp = data[features]\n",
    "data_temp = data_temp.dropna()\n",
    "data_temp.head()"
   ]
  },
  {
   "cell_type": "code",
   "execution_count": 22,
   "metadata": {
    "_uuid": "22dd657a8ee85bb97a248f9b9baea00750aca72b",
    "colab": {
     "base_uri": "https://localhost:8080/",
     "height": 34
    },
    "colab_type": "code",
    "executionInfo": {
     "elapsed": 59007,
     "status": "ok",
     "timestamp": 1547327349751,
     "user": {
      "displayName": "kjgh known",
      "photoUrl": "",
      "userId": "09371675389476978286"
     },
     "user_tz": -330
    },
    "id": "y78-7zZA3mqx",
    "outputId": "0f38c070-c736-4cf1-ff52-8a34f2c65a25"
   },
   "outputs": [
    {
     "data": {
      "text/plain": [
       "(2931, 33)"
      ]
     },
     "execution_count": 22,
     "metadata": {},
     "output_type": "execute_result"
    }
   ],
   "source": [
    "data_temp.shape"
   ]
  },
  {
   "cell_type": "code",
   "execution_count": 23,
   "metadata": {
    "_uuid": "5eda1d7598c95d80e0ff940dc7624b7f21d4d705",
    "colab": {
     "base_uri": "https://localhost:8080/",
     "height": 71
    },
    "colab_type": "code",
    "executionInfo": {
     "elapsed": 58390,
     "status": "ok",
     "timestamp": 1547327349753,
     "user": {
      "displayName": "kjgh known",
      "photoUrl": "",
      "userId": "09371675389476978286"
     },
     "user_tz": -330
    },
    "id": "tYArGWABoI5C",
    "outputId": "a44c0aea-b5cd-4e1a-965f-2af9c9ca2ed0"
   },
   "outputs": [],
   "source": [
    "# Train Test Split\n",
    "\n",
    "X = data_temp.drop('response', axis = 1)\n",
    "y = data_temp['response'].astype('int')\n",
    "\n",
    "from sklearn.model_selection import train_test_split \n",
    "X_train, X_test, y_train, y_test = train_test_split(X, y, train_size = 0.7, random_state=19)"
   ]
  },
  {
   "cell_type": "code",
   "execution_count": 24,
   "metadata": {
    "_uuid": "436107602329d2fc18b82799397c30902a140d2e",
    "colab": {
     "base_uri": "https://localhost:8080/",
     "height": 241
    },
    "colab_type": "code",
    "executionInfo": {
     "elapsed": 68396,
     "status": "ok",
     "timestamp": 1547327361980,
     "user": {
      "displayName": "kjgh known",
      "photoUrl": "",
      "userId": "09371675389476978286"
     },
     "user_tz": -330
    },
    "id": "1cFtmdgormZk",
    "outputId": "242a869f-3a25-4b55-a318-2c7ba178baaf"
   },
   "outputs": [
    {
     "name": "stdout",
     "output_type": "stream",
     "text": [
      "Requirement already satisfied: catboost in /opt/conda/lib/python3.6/site-packages (0.12.1.1)\r\n",
      "Requirement already satisfied: six in /opt/conda/lib/python3.6/site-packages (from catboost) (1.12.0)\r\n",
      "Requirement already satisfied: enum34 in /opt/conda/lib/python3.6/site-packages (from catboost) (1.1.6)\r\n",
      "Requirement already satisfied: pandas>=0.19.1 in /opt/conda/lib/python3.6/site-packages (from catboost) (0.23.4)\r\n",
      "Requirement already satisfied: numpy>=1.11.1 in /opt/conda/lib/python3.6/site-packages (from catboost) (1.16.0)\r\n",
      "Requirement already satisfied: python-dateutil>=2.5.0 in /opt/conda/lib/python3.6/site-packages (from pandas>=0.19.1->catboost) (2.6.0)\r\n",
      "Requirement already satisfied: pytz>=2011k in /opt/conda/lib/python3.6/site-packages (from pandas>=0.19.1->catboost) (2018.4)\r\n"
     ]
    }
   ],
   "source": [
    "!pip install catboost"
   ]
  },
  {
   "cell_type": "code",
   "execution_count": 25,
   "metadata": {
    "_uuid": "bb9e474b03c4c91d280a37a0b39a7c05651cd1c1",
    "colab": {
     "base_uri": "https://localhost:8080/",
     "height": 238
    },
    "colab_type": "code",
    "executionInfo": {
     "elapsed": 98299,
     "status": "ok",
     "timestamp": 1547327392856,
     "user": {
      "displayName": "kjgh known",
      "photoUrl": "",
      "userId": "09371675389476978286"
     },
     "user_tz": -330
    },
    "id": "LzOcuEY1rY-K",
    "outputId": "84701f02-bd22-4742-aa09-e0576e6e5ba9"
   },
   "outputs": [
    {
     "name": "stdout",
     "output_type": "stream",
     "text": [
      "Learning rate set to 0.084141\n",
      "0:\ttest: 0.5352481\tbest: 0.5352481 (0)\ttotal: 62.1ms\tremaining: 1m 2s\n",
      "200:\ttest: 0.7567008\tbest: 0.7581606 (198)\ttotal: 2.47s\tremaining: 9.84s\n",
      "400:\ttest: 0.7483322\tbest: 0.7615725 (297)\ttotal: 5.1s\tremaining: 7.62s\n",
      "600:\ttest: 0.7474495\tbest: 0.7615725 (297)\ttotal: 7.75s\tremaining: 5.15s\n",
      "800:\ttest: 0.7406936\tbest: 0.7615725 (297)\ttotal: 10.4s\tremaining: 2.58s\n",
      "999:\ttest: 0.7442583\tbest: 0.7615725 (297)\ttotal: 13s\tremaining: 0us\n",
      "\n",
      "bestTest = 0.7615725416\n",
      "bestIteration = 297\n",
      "\n",
      "Shrink model to first 298 iterations.\n"
     ]
    },
    {
     "data": {
      "text/plain": [
       "<catboost.core.CatBoostClassifier at 0x7f2439018be0>"
      ]
     },
     "execution_count": 25,
     "metadata": {},
     "output_type": "execute_result"
    }
   ],
   "source": [
    "from catboost import CatBoostClassifier, Pool\n",
    "\n",
    "train_pool = Pool(X_train, y_train, cat_features = np.where(X.dtypes == 'object')[0])\n",
    "test_pool = Pool(X_test, y_test, cat_features = np.where(X.dtypes == 'object')[0])\n",
    "model = CatBoostClassifier(random_state = 1, eval_metric='AUC', use_best_model = True, verbose = 200)\n",
    "model.fit(train_pool, eval_set = test_pool)"
   ]
  },
  {
   "cell_type": "code",
   "execution_count": 26,
   "metadata": {
    "_uuid": "29c2c5b4f05979147b4588b469c4f191f8a00343",
    "colab": {
     "base_uri": "https://localhost:8080/",
     "height": 359
    },
    "colab_type": "code",
    "executionInfo": {
     "elapsed": 68396,
     "status": "ok",
     "timestamp": 1547327392859,
     "user": {
      "displayName": "kjgh known",
      "photoUrl": "",
      "userId": "09371675389476978286"
     },
     "user_tz": -330
    },
    "id": "8Bdf2IoSFnbB",
    "outputId": "650d0093-1274-4d77-fb27-77eea3005b3b"
   },
   "outputs": [
    {
     "data": {
      "text/html": [
       "<div>\n",
       "<style scoped>\n",
       "    .dataframe tbody tr th:only-of-type {\n",
       "        vertical-align: middle;\n",
       "    }\n",
       "\n",
       "    .dataframe tbody tr th {\n",
       "        vertical-align: top;\n",
       "    }\n",
       "\n",
       "    .dataframe thead th {\n",
       "        text-align: right;\n",
       "    }\n",
       "</style>\n",
       "<table border=\"1\" class=\"dataframe\">\n",
       "  <thead>\n",
       "    <tr style=\"text-align: right;\">\n",
       "      <th></th>\n",
       "      <th>0</th>\n",
       "      <th>1</th>\n",
       "    </tr>\n",
       "  </thead>\n",
       "  <tbody>\n",
       "    <tr>\n",
       "      <th>11</th>\n",
       "      <td>excl_cnt</td>\n",
       "      <td>13.1978</td>\n",
       "    </tr>\n",
       "    <tr>\n",
       "      <th>0</th>\n",
       "      <td>char_cnt</td>\n",
       "      <td>6.38445</td>\n",
       "    </tr>\n",
       "    <tr>\n",
       "      <th>3</th>\n",
       "      <td>avg_word_size</td>\n",
       "      <td>6.23426</td>\n",
       "    </tr>\n",
       "    <tr>\n",
       "      <th>28</th>\n",
       "      <td>verb_tot_cnt</td>\n",
       "      <td>6.12428</td>\n",
       "    </tr>\n",
       "    <tr>\n",
       "      <th>21</th>\n",
       "      <td>adverb_cnt</td>\n",
       "      <td>5.95411</td>\n",
       "    </tr>\n",
       "    <tr>\n",
       "      <th>8</th>\n",
       "      <td>avg_stop_per_word</td>\n",
       "      <td>5.25004</td>\n",
       "    </tr>\n",
       "    <tr>\n",
       "      <th>4</th>\n",
       "      <td>avg_char_per_sent</td>\n",
       "      <td>5.22336</td>\n",
       "    </tr>\n",
       "    <tr>\n",
       "      <th>25</th>\n",
       "      <td>verb_cnt</td>\n",
       "      <td>4.63917</td>\n",
       "    </tr>\n",
       "    <tr>\n",
       "      <th>7</th>\n",
       "      <td>avg_stop_per_sent</td>\n",
       "      <td>4.25478</td>\n",
       "    </tr>\n",
       "    <tr>\n",
       "      <th>27</th>\n",
       "      <td>verb_present_cnt</td>\n",
       "      <td>4.0184</td>\n",
       "    </tr>\n",
       "  </tbody>\n",
       "</table>\n",
       "</div>"
      ],
      "text/plain": [
       "                    0        1\n",
       "11  excl_cnt           13.1978\n",
       "0   char_cnt           6.38445\n",
       "3   avg_word_size      6.23426\n",
       "28  verb_tot_cnt       6.12428\n",
       "21  adverb_cnt         5.95411\n",
       "8   avg_stop_per_word  5.25004\n",
       "4   avg_char_per_sent  5.22336\n",
       "25  verb_cnt           4.63917\n",
       "7   avg_stop_per_sent  4.25478\n",
       "27  verb_present_cnt   4.0184 "
      ]
     },
     "execution_count": 26,
     "metadata": {},
     "output_type": "execute_result"
    }
   ],
   "source": [
    "#CAT FEATURE IMPORTANCE\n",
    "\n",
    "feature_importance = model.get_feature_importance(train_pool)\n",
    "feature_names = X_train.columns\n",
    "feature_imp = pd.DataFrame([feature_names, feature_importance])\n",
    "final = feature_imp.transpose()\n",
    "final.sort_values(by = 1, ascending = False, inplace = True)\n",
    "pd.set_option('display.max_colwidth', -1)\n",
    "final.head(10)"
   ]
  },
  {
   "cell_type": "code",
   "execution_count": 27,
   "metadata": {
    "_uuid": "f9c98ba3b90a4d73eb908404f1752a7b1d667e2f",
    "colab": {
     "base_uri": "https://localhost:8080/",
     "height": 459
    },
    "colab_type": "code",
    "executionInfo": {
     "elapsed": 58303,
     "status": "ok",
     "timestamp": 1547327392861,
     "user": {
      "displayName": "kjgh known",
      "photoUrl": "",
      "userId": "09371675389476978286"
     },
     "user_tz": -330
    },
    "id": "k9i9fWOhoIzs",
    "outputId": "40b69fd9-a5bf-492c-c3fd-23f6bfaa1474"
   },
   "outputs": [
    {
     "name": "stdout",
     "output_type": "stream",
     "text": [
      "Predicted Class and Probabilities: \n",
      "\n",
      "[1 1 1 1 1]\n",
      "[[0.00231324 0.99768676]\n",
      " [0.03048511 0.96951489]\n",
      " [0.04260398 0.95739602]\n",
      " [0.07536381 0.92463619]\n",
      " [0.06293744 0.93706256]]\n",
      "\n",
      "Accuracy:  0.8102272727272727\n",
      "Precision:  0.9507042253521126\n",
      "Recall:  0.8364312267657993\n",
      "F1:  0.8899143045484509\n",
      "Area under ROC Curve:  0.7615725416305952\n",
      "GINI:  0.5231450832611904\n",
      "\n",
      "True Negatives:  38\n",
      "True Positives:  675\n",
      "False Negatives:  132\n",
      "False Positives:  35\n",
      "\n",
      "Total Reviews:  880\n",
      "Reviews Predicted as Negative:  170\n",
      "Total Negative Reviews in Actuality:  73\n",
      "Negative Reviews that were Correctly Predicted:  38\n",
      "NOT GOOD ENOUGH! HIGH TRADEOFF INVOLVED IN CATCHING NEGATIVE REVIEWS\n"
     ]
    }
   ],
   "source": [
    "# RESULTS\n",
    "probs = model.predict_proba(test_pool)\n",
    "pred = np.where(probs[:,1] > 0.9, 1, 0)\n",
    "\n",
    "print('Predicted Class and Probabilities: \\n')\n",
    "print(pred[:5]) # predicted class\n",
    "print(probs[:5]) # probability scores\n",
    "\n",
    "from sklearn.metrics import accuracy_score, precision_score, recall_score, f1_score, roc_auc_score, confusion_matrix, roc_curve, auc\n",
    "print('\\nAccuracy: ', str(accuracy_score(y_test, pred)))\n",
    "print('Precision: ', str(precision_score(y_test, pred)))\n",
    "print('Recall: ', str(recall_score(y_test, pred)))\n",
    "print('F1: ', str(f1_score(y_test, pred)))\n",
    "print('Area under ROC Curve: ', str(roc_auc_score(y_test, probs[:,1])))\n",
    "print('GINI: ', str(-1 + 2*roc_auc_score(y_test, probs[:,1])))\n",
    "\n",
    "tn, fp, fn, tp = confusion_matrix(y_test, pred).ravel()\n",
    "\n",
    "print('\\nTrue Negatives: ', str(tn))\n",
    "print('True Positives: ', str(tp))\n",
    "print('False Negatives: ', str(fn))\n",
    "print('False Positives: ', str(fp))\n",
    "\n",
    "print('\\nTotal Reviews: ', str(tn+fp+fn+tp))\n",
    "print('Reviews Predicted as Negative: ', str(fn+tn))\n",
    "print('Total Negative Reviews in Actuality: ', str(fp+tn))\n",
    "print('Negative Reviews that were Correctly Predicted: ', str(tn))\n",
    "\n",
    "print(\"NOT GOOD ENOUGH! HIGH TRADEOFF INVOLVED IN CATCHING NEGATIVE REVIEWS\")"
   ]
  },
  {
   "cell_type": "code",
   "execution_count": 28,
   "metadata": {
    "_uuid": "e1bf90d3639dc33525978b31f78f148d4a488ff7",
    "colab": {},
    "colab_type": "code",
    "id": "Yr8Hh0yyGmsB"
   },
   "outputs": [],
   "source": [
    "# PRE PROCESSING FOR ADVANCED FEATURES"
   ]
  },
  {
   "cell_type": "code",
   "execution_count": 29,
   "metadata": {
    "_uuid": "279ed8e070f370dd5b7af312242c3ddbd37a6297",
    "colab": {
     "base_uri": "https://localhost:8080/",
     "height": 255
    },
    "colab_type": "code",
    "executionInfo": {
     "elapsed": 56506,
     "status": "ok",
     "timestamp": 1547327392865,
     "user": {
      "displayName": "kjgh known",
      "photoUrl": "",
      "userId": "09371675389476978286"
     },
     "user_tz": -330
    },
    "id": "yrtquDmb53ft",
    "outputId": "944a174b-929e-4cb4-eb49-2a73f9e62dfb"
   },
   "outputs": [
    {
     "data": {
      "text/html": [
       "<div>\n",
       "<style scoped>\n",
       "    .dataframe tbody tr th:only-of-type {\n",
       "        vertical-align: middle;\n",
       "    }\n",
       "\n",
       "    .dataframe tbody tr th {\n",
       "        vertical-align: top;\n",
       "    }\n",
       "\n",
       "    .dataframe thead th {\n",
       "        text-align: right;\n",
       "    }\n",
       "</style>\n",
       "<table border=\"1\" class=\"dataframe\">\n",
       "  <thead>\n",
       "    <tr style=\"text-align: right;\">\n",
       "      <th></th>\n",
       "      <th>text</th>\n",
       "      <th>text_clean_v1</th>\n",
       "    </tr>\n",
       "  </thead>\n",
       "  <tbody>\n",
       "    <tr>\n",
       "      <th>0</th>\n",
       "      <td>Love my Echo!</td>\n",
       "      <td>love my echo!</td>\n",
       "    </tr>\n",
       "    <tr>\n",
       "      <th>1</th>\n",
       "      <td>Loved it!</td>\n",
       "      <td>loved it!</td>\n",
       "    </tr>\n",
       "    <tr>\n",
       "      <th>2</th>\n",
       "      <td>Sometimes while playing a game, you can answer a question correctly but Alexa says you got it wrong and answers the same as you.  I like being able to turn lights on and off while away from home.</td>\n",
       "      <td>sometimes while playing a game, you can answer a question correctly but alexa says you got it wrong and answers the same as you. i like being able to turn lights on and off while away from home.</td>\n",
       "    </tr>\n",
       "    <tr>\n",
       "      <th>3</th>\n",
       "      <td>I have had a lot of fun with this thing. My 4 yr old learns about dinosaurs, i control the lights and play games like categories. Has nice sound when playing music as well.</td>\n",
       "      <td>i have had a lot of fun with this thing. my 4 yr old learns about dinosaurs, i control the lights and play games like categories. has nice sound when playing music as well.</td>\n",
       "    </tr>\n",
       "    <tr>\n",
       "      <th>4</th>\n",
       "      <td>Music</td>\n",
       "      <td>music</td>\n",
       "    </tr>\n",
       "  </tbody>\n",
       "</table>\n",
       "</div>"
      ],
      "text/plain": [
       "                                                                                                                                                                                                  text                                                                                                                                                                                       text_clean_v1\n",
       "0  Love my Echo!                                                                                                                                                                                        love my echo!                                                                                                                                                                                     \n",
       "1  Loved it!                                                                                                                                                                                            loved it!                                                                                                                                                                                         \n",
       "2  Sometimes while playing a game, you can answer a question correctly but Alexa says you got it wrong and answers the same as you.  I like being able to turn lights on and off while away from home.  sometimes while playing a game, you can answer a question correctly but alexa says you got it wrong and answers the same as you. i like being able to turn lights on and off while away from home.\n",
       "3  I have had a lot of fun with this thing. My 4 yr old learns about dinosaurs, i control the lights and play games like categories. Has nice sound when playing music as well.                         i have had a lot of fun with this thing. my 4 yr old learns about dinosaurs, i control the lights and play games like categories. has nice sound when playing music as well.                      \n",
       "4  Music                                                                                                                                                                                                music                                                                                                                                                                                             "
      ]
     },
     "execution_count": 29,
     "metadata": {},
     "output_type": "execute_result"
    }
   ],
   "source": [
    "# lowercase all\n",
    "data['text_clean_v1'] = data['text'].apply(lambda x: \" \".join(x.lower() for x in x.split()))\n",
    "data[['text', 'text_clean_v1']].head()"
   ]
  },
  {
   "cell_type": "code",
   "execution_count": 30,
   "metadata": {
    "_uuid": "080688cea6bef1726592bf800697a04138056cea",
    "colab": {},
    "colab_type": "code",
    "id": "akHzfm5Y6jG0"
   },
   "outputs": [
    {
     "data": {
      "text/html": [
       "<div>\n",
       "<style scoped>\n",
       "    .dataframe tbody tr th:only-of-type {\n",
       "        vertical-align: middle;\n",
       "    }\n",
       "\n",
       "    .dataframe tbody tr th {\n",
       "        vertical-align: top;\n",
       "    }\n",
       "\n",
       "    .dataframe thead th {\n",
       "        text-align: right;\n",
       "    }\n",
       "</style>\n",
       "<table border=\"1\" class=\"dataframe\">\n",
       "  <thead>\n",
       "    <tr style=\"text-align: right;\">\n",
       "      <th></th>\n",
       "      <th>text</th>\n",
       "      <th>text_clean_v1</th>\n",
       "      <th>text_clean_v2</th>\n",
       "    </tr>\n",
       "  </thead>\n",
       "  <tbody>\n",
       "    <tr>\n",
       "      <th>0</th>\n",
       "      <td>Love my Echo!</td>\n",
       "      <td>love my echo!</td>\n",
       "      <td>love my echo</td>\n",
       "    </tr>\n",
       "    <tr>\n",
       "      <th>1</th>\n",
       "      <td>Loved it!</td>\n",
       "      <td>loved it!</td>\n",
       "      <td>loved it</td>\n",
       "    </tr>\n",
       "    <tr>\n",
       "      <th>2</th>\n",
       "      <td>Sometimes while playing a game, you can answer a question correctly but Alexa says you got it wrong and answers the same as you.  I like being able to turn lights on and off while away from home.</td>\n",
       "      <td>sometimes while playing a game, you can answer a question correctly but alexa says you got it wrong and answers the same as you. i like being able to turn lights on and off while away from home.</td>\n",
       "      <td>sometimes while playing a game you can answer a question correctly but alexa says you got it wrong and answers the same as you i like being able to turn lights on and off while away from home</td>\n",
       "    </tr>\n",
       "    <tr>\n",
       "      <th>3</th>\n",
       "      <td>I have had a lot of fun with this thing. My 4 yr old learns about dinosaurs, i control the lights and play games like categories. Has nice sound when playing music as well.</td>\n",
       "      <td>i have had a lot of fun with this thing. my 4 yr old learns about dinosaurs, i control the lights and play games like categories. has nice sound when playing music as well.</td>\n",
       "      <td>i have had a lot of fun with this thing my 4 yr old learns about dinosaurs i control the lights and play games like categories has nice sound when playing music as well</td>\n",
       "    </tr>\n",
       "    <tr>\n",
       "      <th>4</th>\n",
       "      <td>Music</td>\n",
       "      <td>music</td>\n",
       "      <td>music</td>\n",
       "    </tr>\n",
       "  </tbody>\n",
       "</table>\n",
       "</div>"
      ],
      "text/plain": [
       "                                                                                                                                                                                                  text                                                                                               ...                                                                                                                                                                                                                                                                                   text_clean_v2\n",
       "0  Love my Echo!                                                                                                                                                                                                                                                                                     ...                                                                                                 love my echo                                                                                                                                                                                   \n",
       "1  Loved it!                                                                                                                                                                                                                                                                                         ...                                                                                                 loved it                                                                                                                                                                                       \n",
       "2  Sometimes while playing a game, you can answer a question correctly but Alexa says you got it wrong and answers the same as you.  I like being able to turn lights on and off while away from home.                                                                                               ...                                                                                                 sometimes while playing a game you can answer a question correctly but alexa says you got it wrong and answers the same as you i like being able to turn lights on and off while away from home\n",
       "3  I have had a lot of fun with this thing. My 4 yr old learns about dinosaurs, i control the lights and play games like categories. Has nice sound when playing music as well.                                                                                                                      ...                                                                                                 i have had a lot of fun with this thing my 4 yr old learns about dinosaurs i control the lights and play games like categories has nice sound when playing music as well                       \n",
       "4  Music                                                                                                                                                                                                                                                                                             ...                                                                                                 music                                                                                                                                                                                          \n",
       "\n",
       "[5 rows x 3 columns]"
      ]
     },
     "execution_count": 30,
     "metadata": {},
     "output_type": "execute_result"
    }
   ],
   "source": [
    "# remove punctuation\n",
    "data['text_clean_v2'] = data['text_clean_v1'].str.replace('[^\\w\\s]','')\n",
    "data[['text', 'text_clean_v1', 'text_clean_v2']].head()"
   ]
  },
  {
   "cell_type": "code",
   "execution_count": 31,
   "metadata": {
    "_uuid": "ca2e3933383dd6e8a3d3c07eaa13ed3407c1ecd2",
    "colab": {
     "base_uri": "https://localhost:8080/",
     "height": 374
    },
    "colab_type": "code",
    "executionInfo": {
     "elapsed": 997,
     "status": "ok",
     "timestamp": 1547330932090,
     "user": {
      "displayName": "kjgh known",
      "photoUrl": "",
      "userId": "09371675389476978286"
     },
     "user_tz": -330
    },
    "id": "LseIcpaq6idv",
    "outputId": "b4b0cedf-cb2b-486a-9777-e5e59474aae8"
   },
   "outputs": [
    {
     "name": "stdout",
     "output_type": "stream",
     "text": [
      "[nltk_data] Error loading stopwords: <urlopen error [Errno -3]\n",
      "[nltk_data]     Temporary failure in name resolution>\n"
     ]
    },
    {
     "data": {
      "text/html": [
       "<div>\n",
       "<style scoped>\n",
       "    .dataframe tbody tr th:only-of-type {\n",
       "        vertical-align: middle;\n",
       "    }\n",
       "\n",
       "    .dataframe tbody tr th {\n",
       "        vertical-align: top;\n",
       "    }\n",
       "\n",
       "    .dataframe thead th {\n",
       "        text-align: right;\n",
       "    }\n",
       "</style>\n",
       "<table border=\"1\" class=\"dataframe\">\n",
       "  <thead>\n",
       "    <tr style=\"text-align: right;\">\n",
       "      <th></th>\n",
       "      <th>text</th>\n",
       "      <th>text_clean_v3</th>\n",
       "    </tr>\n",
       "  </thead>\n",
       "  <tbody>\n",
       "    <tr>\n",
       "      <th>0</th>\n",
       "      <td>Love my Echo!</td>\n",
       "      <td>Love Echo!</td>\n",
       "    </tr>\n",
       "    <tr>\n",
       "      <th>1</th>\n",
       "      <td>Loved it!</td>\n",
       "      <td>Loved it!</td>\n",
       "    </tr>\n",
       "    <tr>\n",
       "      <th>2</th>\n",
       "      <td>Sometimes while playing a game, you can answer a question correctly but Alexa says you got it wrong and answers the same as you.  I like being able to turn lights on and off while away from home.</td>\n",
       "      <td>Sometimes playing game, answer question correctly Alexa says got wrong answers you. I like able turn lights away home.</td>\n",
       "    </tr>\n",
       "    <tr>\n",
       "      <th>3</th>\n",
       "      <td>I have had a lot of fun with this thing. My 4 yr old learns about dinosaurs, i control the lights and play games like categories. Has nice sound when playing music as well.</td>\n",
       "      <td>I lot fun thing. My 4 yr old learns dinosaurs, control lights play games like categories. Has nice sound playing music well.</td>\n",
       "    </tr>\n",
       "    <tr>\n",
       "      <th>4</th>\n",
       "      <td>Music</td>\n",
       "      <td>Music</td>\n",
       "    </tr>\n",
       "  </tbody>\n",
       "</table>\n",
       "</div>"
      ],
      "text/plain": [
       "                                                                                                                                                                                                  text                                                                                                                 text_clean_v3\n",
       "0  Love my Echo!                                                                                                                                                                                        Love Echo!                                                                                                                  \n",
       "1  Loved it!                                                                                                                                                                                            Loved it!                                                                                                                   \n",
       "2  Sometimes while playing a game, you can answer a question correctly but Alexa says you got it wrong and answers the same as you.  I like being able to turn lights on and off while away from home.  Sometimes playing game, answer question correctly Alexa says got wrong answers you. I like able turn lights away home.      \n",
       "3  I have had a lot of fun with this thing. My 4 yr old learns about dinosaurs, i control the lights and play games like categories. Has nice sound when playing music as well.                         I lot fun thing. My 4 yr old learns dinosaurs, control lights play games like categories. Has nice sound playing music well.\n",
       "4  Music                                                                                                                                                                                                Music                                                                                                                       "
      ]
     },
     "execution_count": 31,
     "metadata": {},
     "output_type": "execute_result"
    }
   ],
   "source": [
    "# remove stopwords\n",
    "import nltk\n",
    "nltk.download('stopwords')\n",
    "from nltk.corpus import stopwords\n",
    "stop = stopwords.words('english')\n",
    "\n",
    "data['text_clean_v3'] = data['text'].apply(lambda x: \" \".join(x for x in x.split() if x not in stop))\n",
    "data[['text','text_clean_v3']].head()"
   ]
  },
  {
   "cell_type": "code",
   "execution_count": 32,
   "metadata": {
    "_uuid": "61a8c59a3a0bd2f25b6e0c61d8bd212c4ea41409",
    "colab": {
     "base_uri": "https://localhost:8080/",
     "height": 238
    },
    "colab_type": "code",
    "executionInfo": {
     "elapsed": 631041,
     "status": "ok",
     "timestamp": 1547328205715,
     "user": {
      "displayName": "kjgh known",
      "photoUrl": "",
      "userId": "09371675389476978286"
     },
     "user_tz": -330
    },
    "id": "MNVVLN6U-Bs5",
    "outputId": "289ca1c9-a0fe-4ed8-8033-c624585aa7ca"
   },
   "outputs": [
    {
     "data": {
      "text/plain": [
       "\"\\n# correct spelling (takes time)\\nfrom textblob import TextBlob\\ndata['text_clean_v4'] = data['text_clean_v3'].apply(lambda x: str(TextBlob(x).correct()))\\ndata[['text_clean_v3', 'text_clean_v4']].head()\\n\""
      ]
     },
     "execution_count": 32,
     "metadata": {},
     "output_type": "execute_result"
    }
   ],
   "source": [
    "'''\n",
    "# correct spelling (takes time)\n",
    "from textblob import TextBlob\n",
    "data['text_clean_v4'] = data['text_clean_v3'].apply(lambda x: str(TextBlob(x).correct()))\n",
    "data[['text_clean_v3', 'text_clean_v4']].head()\n",
    "'''"
   ]
  },
  {
   "cell_type": "code",
   "execution_count": 33,
   "metadata": {
    "_uuid": "605d937aeadab3bb3a8a1b09b99462622bdb9d0c",
    "colab": {},
    "colab_type": "code",
    "id": "FDx2fDsd9c1F"
   },
   "outputs": [],
   "source": [
    "# remove rare words\n",
    "rare_words = pd.Series(' '.join(data['text_clean_v3']).split()).value_counts()[-2500:]\n",
    "rare_words.head() \n",
    "rare_words_list = list(rare_words.index)\n",
    "data['text_clean_v5'] = data['text_clean_v3'].apply(lambda x: \" \".join(x for x in x.split() if x not in rare_words_list))"
   ]
  },
  {
   "cell_type": "code",
   "execution_count": 34,
   "metadata": {
    "_uuid": "2f3f10a9b88b66028cf9d53111154e704f5a253e",
    "colab": {
     "base_uri": "https://localhost:8080/",
     "height": 238
    },
    "colab_type": "code",
    "executionInfo": {
     "elapsed": 2474,
     "status": "ok",
     "timestamp": 1547328375593,
     "user": {
      "displayName": "kjgh known",
      "photoUrl": "",
      "userId": "09371675389476978286"
     },
     "user_tz": -330
    },
    "id": "ZdRGTUwx5lhg",
    "outputId": "44edb887-e8f3-42aa-8bcf-6f6337ea5377"
   },
   "outputs": [
    {
     "name": "stdout",
     "output_type": "stream",
     "text": [
      "[nltk_data] Error loading stem: <urlopen error [Errno -3] Temporary\n",
      "[nltk_data]     failure in name resolution>\n"
     ]
    },
    {
     "data": {
      "text/html": [
       "<div>\n",
       "<style scoped>\n",
       "    .dataframe tbody tr th:only-of-type {\n",
       "        vertical-align: middle;\n",
       "    }\n",
       "\n",
       "    .dataframe tbody tr th {\n",
       "        vertical-align: top;\n",
       "    }\n",
       "\n",
       "    .dataframe thead th {\n",
       "        text-align: right;\n",
       "    }\n",
       "</style>\n",
       "<table border=\"1\" class=\"dataframe\">\n",
       "  <thead>\n",
       "    <tr style=\"text-align: right;\">\n",
       "      <th></th>\n",
       "      <th>text</th>\n",
       "      <th>text_clean_v6</th>\n",
       "    </tr>\n",
       "  </thead>\n",
       "  <tbody>\n",
       "    <tr>\n",
       "      <th>0</th>\n",
       "      <td>Love my Echo!</td>\n",
       "      <td>love echo!</td>\n",
       "    </tr>\n",
       "    <tr>\n",
       "      <th>1</th>\n",
       "      <td>Loved it!</td>\n",
       "      <td>love it!</td>\n",
       "    </tr>\n",
       "    <tr>\n",
       "      <th>2</th>\n",
       "      <td>Sometimes while playing a game, you can answer a question correctly but Alexa says you got it wrong and answers the same as you.  I like being able to turn lights on and off while away from home.</td>\n",
       "      <td>sometim play answer question correctli alexa say got wrong answer you. I like abl turn light away home.</td>\n",
       "    </tr>\n",
       "    <tr>\n",
       "      <th>3</th>\n",
       "      <td>I have had a lot of fun with this thing. My 4 yr old learns about dinosaurs, i control the lights and play games like categories. Has nice sound when playing music as well.</td>\n",
       "      <td>I lot fun thing. My 4 yr old learn dinosaurs, control light play game like categories. ha nice sound play music well.</td>\n",
       "    </tr>\n",
       "    <tr>\n",
       "      <th>4</th>\n",
       "      <td>Music</td>\n",
       "      <td>music</td>\n",
       "    </tr>\n",
       "  </tbody>\n",
       "</table>\n",
       "</div>"
      ],
      "text/plain": [
       "                                                                                                                                                                                                  text                                                                                                          text_clean_v6\n",
       "0  Love my Echo!                                                                                                                                                                                        love echo!                                                                                                           \n",
       "1  Loved it!                                                                                                                                                                                            love it!                                                                                                             \n",
       "2  Sometimes while playing a game, you can answer a question correctly but Alexa says you got it wrong and answers the same as you.  I like being able to turn lights on and off while away from home.  sometim play answer question correctli alexa say got wrong answer you. I like abl turn light away home.              \n",
       "3  I have had a lot of fun with this thing. My 4 yr old learns about dinosaurs, i control the lights and play games like categories. Has nice sound when playing music as well.                         I lot fun thing. My 4 yr old learn dinosaurs, control light play game like categories. ha nice sound play music well.\n",
       "4  Music                                                                                                                                                                                                music                                                                                                                "
      ]
     },
     "execution_count": 34,
     "metadata": {},
     "output_type": "execute_result"
    }
   ],
   "source": [
    "# stemming\n",
    "#import nltk\n",
    "nltk.download('stem')\n",
    "from nltk.stem import PorterStemmer\n",
    "from textblob import Word\n",
    "data['text_clean_v6'] = data['text_clean_v5'].apply(lambda x: \" \".join([PorterStemmer().stem(word) for word in x.split()]))\n",
    "data[['text', 'text_clean_v6']].head()"
   ]
  },
  {
   "cell_type": "code",
   "execution_count": 35,
   "metadata": {
    "_uuid": "e098c4d1f0852fbac52829588ac13653c694649e",
    "colab": {
     "base_uri": "https://localhost:8080/",
     "height": 374
    },
    "colab_type": "code",
    "executionInfo": {
     "elapsed": 1382,
     "status": "ok",
     "timestamp": 1547330960723,
     "user": {
      "displayName": "kjgh known",
      "photoUrl": "",
      "userId": "09371675389476978286"
     },
     "user_tz": -330
    },
    "id": "bq2zLm8wg6m6",
    "outputId": "9c1b3003-5776-463f-cc67-6d19b49a8849"
   },
   "outputs": [
    {
     "name": "stdout",
     "output_type": "stream",
     "text": [
      "[nltk_data] Error loading wordnet: <urlopen error [Errno -3] Temporary\n",
      "[nltk_data]     failure in name resolution>\n"
     ]
    },
    {
     "data": {
      "text/html": [
       "<div>\n",
       "<style scoped>\n",
       "    .dataframe tbody tr th:only-of-type {\n",
       "        vertical-align: middle;\n",
       "    }\n",
       "\n",
       "    .dataframe tbody tr th {\n",
       "        vertical-align: top;\n",
       "    }\n",
       "\n",
       "    .dataframe thead th {\n",
       "        text-align: right;\n",
       "    }\n",
       "</style>\n",
       "<table border=\"1\" class=\"dataframe\">\n",
       "  <thead>\n",
       "    <tr style=\"text-align: right;\">\n",
       "      <th></th>\n",
       "      <th>text</th>\n",
       "      <th>text_clean_v6</th>\n",
       "    </tr>\n",
       "  </thead>\n",
       "  <tbody>\n",
       "    <tr>\n",
       "      <th>0</th>\n",
       "      <td>Love my Echo!</td>\n",
       "      <td>Love Echo!</td>\n",
       "    </tr>\n",
       "    <tr>\n",
       "      <th>1</th>\n",
       "      <td>Loved it!</td>\n",
       "      <td>Loved it!</td>\n",
       "    </tr>\n",
       "    <tr>\n",
       "      <th>2</th>\n",
       "      <td>Sometimes while playing a game, you can answer a question correctly but Alexa says you got it wrong and answers the same as you.  I like being able to turn lights on and off while away from home.</td>\n",
       "      <td>Sometimes playing game, answer question correctly Alexa say got wrong answer you. I like able turn light away home.</td>\n",
       "    </tr>\n",
       "    <tr>\n",
       "      <th>3</th>\n",
       "      <td>I have had a lot of fun with this thing. My 4 yr old learns about dinosaurs, i control the lights and play games like categories. Has nice sound when playing music as well.</td>\n",
       "      <td>I lot fun thing. My 4 yr old learns dinosaurs, control light play game like categories. Has nice sound playing music well.</td>\n",
       "    </tr>\n",
       "    <tr>\n",
       "      <th>4</th>\n",
       "      <td>Music</td>\n",
       "      <td>Music</td>\n",
       "    </tr>\n",
       "  </tbody>\n",
       "</table>\n",
       "</div>"
      ],
      "text/plain": [
       "                                                                                                                                                                                                  text                                                                                                               text_clean_v6\n",
       "0  Love my Echo!                                                                                                                                                                                        Love Echo!                                                                                                                \n",
       "1  Loved it!                                                                                                                                                                                            Loved it!                                                                                                                 \n",
       "2  Sometimes while playing a game, you can answer a question correctly but Alexa says you got it wrong and answers the same as you.  I like being able to turn lights on and off while away from home.  Sometimes playing game, answer question correctly Alexa say got wrong answer you. I like able turn light away home.       \n",
       "3  I have had a lot of fun with this thing. My 4 yr old learns about dinosaurs, i control the lights and play games like categories. Has nice sound when playing music as well.                         I lot fun thing. My 4 yr old learns dinosaurs, control light play game like categories. Has nice sound playing music well.\n",
       "4  Music                                                                                                                                                                                                Music                                                                                                                     "
      ]
     },
     "execution_count": 35,
     "metadata": {},
     "output_type": "execute_result"
    }
   ],
   "source": [
    "# lemmatization\n",
    "import nltk\n",
    "nltk.download('wordnet')\n",
    "from textblob import Word\n",
    "data['text_clean_v6'] = data['text_clean_v3'].apply(lambda x: \" \".join([Word(word).lemmatize() for word in x.split()]))\n",
    "data[['text', 'text_clean_v6']].head()"
   ]
  },
  {
   "cell_type": "code",
   "execution_count": 36,
   "metadata": {
    "_uuid": "44600dd5426b70da67d3534fdee4f7caaf0ab1d7",
    "colab": {},
    "colab_type": "code",
    "id": "uvXVA-rZ_RDi"
   },
   "outputs": [],
   "source": [
    "# to check the effects of text processing just undo it and proceed, then compare result\n",
    "# TLDR: it doesn't help much!\n",
    "data['text_clean_v6'] = data['text']"
   ]
  },
  {
   "cell_type": "code",
   "execution_count": 37,
   "metadata": {
    "_uuid": "ea702748619026ee7e6fda1ed8e807dcd4ff6359",
    "colab": {},
    "colab_type": "code",
    "id": "4el1L72p6Xsl"
   },
   "outputs": [],
   "source": [
    "# ADVANCED FEATURE ENGINEERING"
   ]
  },
  {
   "cell_type": "code",
   "execution_count": 38,
   "metadata": {
    "_uuid": "f886752a865bbaa7304dd6a6ccab4575a71696f0",
    "colab": {
     "base_uri": "https://localhost:8080/",
     "height": 119
    },
    "colab_type": "code",
    "executionInfo": {
     "elapsed": 1166,
     "status": "ok",
     "timestamp": 1547330980818,
     "user": {
      "displayName": "kjgh known",
      "photoUrl": "",
      "userId": "09371675389476978286"
     },
     "user_tz": -330
    },
    "id": "fmMpEr9_TPWQ",
    "outputId": "1e50cb17-323f-4b7f-f12a-f6441e62d910"
   },
   "outputs": [],
   "source": [
    "# Physical Features\n",
    "\n",
    "# no. of characters (also text size)\n",
    "data['char_cnt'] = data['text_clean_v6'].str.len()\n",
    "\n",
    "# no. of words\n",
    "data['word_cnt'] = data['text_clean_v6'].apply(lambda x: len(str(x).split()))\n",
    "\n",
    "# no. of sentences\n",
    "data['sentence_cnt'] = data['text_clean_v6'].apply(lambda x: len(str(x).split(\". \")))\n",
    "\n",
    "# avg. word size\n",
    "data['avg_word_size'] = data['char_cnt']/data['word_cnt']\n",
    "\n",
    "# avg. sentence size\n",
    "data['avg_char_per_sent'] = data['char_cnt']/data['sentence_cnt']\n",
    "\n",
    "# avg. words per sentence\n",
    "data['avg_word_per_sent'] = data['word_cnt']/data['sentence_cnt']"
   ]
  },
  {
   "cell_type": "code",
   "execution_count": 39,
   "metadata": {
    "_uuid": "af1f38a7889bead718794ba95659b21074c3494a",
    "colab": {},
    "colab_type": "code",
    "id": "jW7vgw2JMpN6"
   },
   "outputs": [],
   "source": [
    "# TERM FREQUENCY/WORD COUNTS"
   ]
  },
  {
   "cell_type": "code",
   "execution_count": 40,
   "metadata": {
    "_uuid": "7db55142d4b6bef63f0ce5797aa4910833b7c4a7",
    "colab": {
     "base_uri": "https://localhost:8080/",
     "height": 204
    },
    "colab_type": "code",
    "executionInfo": {
     "elapsed": 1079,
     "status": "ok",
     "timestamp": 1547330982724,
     "user": {
      "displayName": "kjgh known",
      "photoUrl": "",
      "userId": "09371675389476978286"
     },
     "user_tz": -330
    },
    "id": "aqFsaS977ayc",
    "outputId": "e7d781ca-2ac0-4b7c-8e9f-0b5b2a2b6ff4"
   },
   "outputs": [
    {
     "data": {
      "text/plain": [
       "I       2637\n",
       "the     2629\n",
       "to      2554\n",
       "and     2069\n",
       "it      1548\n",
       "a       1323\n",
       "my      1199\n",
       "is      1078\n",
       "for     937 \n",
       "with    717 \n",
       "dtype: int64"
      ]
     },
     "execution_count": 40,
     "metadata": {},
     "output_type": "execute_result"
    }
   ],
   "source": [
    "# find common words\n",
    "common_words = pd.Series(' '.join(data['text_clean_v6']).split()).value_counts()[0:100]\n",
    "common_words.head(10)"
   ]
  },
  {
   "cell_type": "code",
   "execution_count": 41,
   "metadata": {
    "_uuid": "b28c0dca35841b061e598ca3dd769538c5c0e073",
    "colab": {
     "base_uri": "https://localhost:8080/",
     "height": 340
    },
    "colab_type": "code",
    "executionInfo": {
     "elapsed": 1336,
     "status": "ok",
     "timestamp": 1547330986444,
     "user": {
      "displayName": "kjgh known",
      "photoUrl": "",
      "userId": "09371675389476978286"
     },
     "user_tz": -330
    },
    "id": "z29mHo9BLbqM",
    "outputId": "9c8c1aa6-e7e7-4e91-86ac-bf378e586773"
   },
   "outputs": [
    {
     "data": {
      "text/html": [
       "<div>\n",
       "<style scoped>\n",
       "    .dataframe tbody tr th:only-of-type {\n",
       "        vertical-align: middle;\n",
       "    }\n",
       "\n",
       "    .dataframe tbody tr th {\n",
       "        vertical-align: top;\n",
       "    }\n",
       "\n",
       "    .dataframe thead th {\n",
       "        text-align: right;\n",
       "    }\n",
       "</style>\n",
       "<table border=\"1\" class=\"dataframe\">\n",
       "  <thead>\n",
       "    <tr style=\"text-align: right;\">\n",
       "      <th></th>\n",
       "      <th>text_clean_v6</th>\n",
       "      <th>neg_word_cnt</th>\n",
       "      <th>pos_word_cnt</th>\n",
       "      <th>neg_word_cnt_ratio1</th>\n",
       "      <th>neg_word_cnt_ratio2</th>\n",
       "      <th>pos_word_cnt_ratio1</th>\n",
       "      <th>pos_word_cnt_ratio2</th>\n",
       "    </tr>\n",
       "  </thead>\n",
       "  <tbody>\n",
       "    <tr>\n",
       "      <th>0</th>\n",
       "      <td>Love my Echo!</td>\n",
       "      <td>0</td>\n",
       "      <td>1</td>\n",
       "      <td>0.000000</td>\n",
       "      <td>0.0</td>\n",
       "      <td>0.333333</td>\n",
       "      <td>1.0</td>\n",
       "    </tr>\n",
       "    <tr>\n",
       "      <th>1</th>\n",
       "      <td>Loved it!</td>\n",
       "      <td>0</td>\n",
       "      <td>0</td>\n",
       "      <td>0.000000</td>\n",
       "      <td>0.0</td>\n",
       "      <td>0.000000</td>\n",
       "      <td>0.0</td>\n",
       "    </tr>\n",
       "    <tr>\n",
       "      <th>2</th>\n",
       "      <td>Sometimes while playing a game, you can answer a question correctly but Alexa says you got it wrong and answers the same as you.  I like being able to turn lights on and off while away from home.</td>\n",
       "      <td>1</td>\n",
       "      <td>1</td>\n",
       "      <td>0.026316</td>\n",
       "      <td>0.5</td>\n",
       "      <td>0.026316</td>\n",
       "      <td>0.5</td>\n",
       "    </tr>\n",
       "    <tr>\n",
       "      <th>3</th>\n",
       "      <td>I have had a lot of fun with this thing. My 4 yr old learns about dinosaurs, i control the lights and play games like categories. Has nice sound when playing music as well.</td>\n",
       "      <td>0</td>\n",
       "      <td>3</td>\n",
       "      <td>0.000000</td>\n",
       "      <td>0.0</td>\n",
       "      <td>0.088235</td>\n",
       "      <td>1.0</td>\n",
       "    </tr>\n",
       "    <tr>\n",
       "      <th>4</th>\n",
       "      <td>Music</td>\n",
       "      <td>0</td>\n",
       "      <td>0</td>\n",
       "      <td>0.000000</td>\n",
       "      <td>0.0</td>\n",
       "      <td>0.000000</td>\n",
       "      <td>0.0</td>\n",
       "    </tr>\n",
       "  </tbody>\n",
       "</table>\n",
       "</div>"
      ],
      "text/plain": [
       "                                                                                                                                                                                         text_clean_v6         ...           pos_word_cnt_ratio2\n",
       "0  Love my Echo!                                                                                                                                                                                               ...           1.0                \n",
       "1  Loved it!                                                                                                                                                                                                   ...           0.0                \n",
       "2  Sometimes while playing a game, you can answer a question correctly but Alexa says you got it wrong and answers the same as you.  I like being able to turn lights on and off while away from home.         ...           0.5                \n",
       "3  I have had a lot of fun with this thing. My 4 yr old learns about dinosaurs, i control the lights and play games like categories. Has nice sound when playing music as well.                                ...           1.0                \n",
       "4  Music                                                                                                                                                                                                       ...           0.0                \n",
       "\n",
       "[5 rows x 7 columns]"
      ]
     },
     "execution_count": 41,
     "metadata": {},
     "output_type": "execute_result"
    }
   ],
   "source": [
    "# Counts of Negative/Positive Words\n",
    "\n",
    "negative_words = ['bad', 'horrible', 'sad','wrong','no','worst','worse',\n",
    "                  'not', 'terrible', 'okay', 'sorrow', 'kill', 'negative', 'empty',\n",
    "                 'hollow', 'poor', 'upset', 'why', 'unfair', 'eliminate','not',\n",
    "                  'never', 'hate', 'dislike'] \n",
    "\n",
    "positive_words = ['good', 'great', 'awesome', 'happy', 'joy', 'enjoy', 'use', 'useful',\n",
    "                  'wonder', 'wonderful', 'love', 'like', 'amazing',\n",
    "                  'thanks', 'thank','hey', 'haha','nice', 'cool', 'lol',\n",
    "                 'right', 'yeah', 'fun', 'well', 'enjoyable', 'crazy', 'super', 'kickass']\n",
    "\n",
    "data['neg_word_cnt'] = data['text_clean_v6'].apply(lambda x: len([x for x in x.split() if x.lower() in negative_words]))\n",
    "data['pos_word_cnt'] = data['text_clean_v6'].apply(lambda x: len([x for x in x.split() if x.lower() in positive_words]))\n",
    "\n",
    "# derived ratios\n",
    "data['neg_word_cnt_ratio1'] = data['neg_word_cnt']/data['word_cnt']\n",
    "data['neg_word_cnt_ratio2'] = data['neg_word_cnt']/data['sentence_cnt']\n",
    "data['pos_word_cnt_ratio1'] = data['pos_word_cnt']/data['word_cnt']\n",
    "data['pos_word_cnt_ratio2'] = data['pos_word_cnt']/data['sentence_cnt']\n",
    "\n",
    "new_features_2 = ['neg_word_cnt', 'pos_word_cnt','neg_word_cnt_ratio1','neg_word_cnt_ratio2','pos_word_cnt_ratio1','pos_word_cnt_ratio2']\n",
    "\n",
    "data[['text_clean_v6'] + new_features_2].head()"
   ]
  },
  {
   "cell_type": "code",
   "execution_count": 42,
   "metadata": {
    "_uuid": "2b3ecb4815636fa2656980100f63c7686cb8540d",
    "colab": {},
    "colab_type": "code",
    "id": "ZZyjNWwpa_-3"
   },
   "outputs": [],
   "source": [
    "# Count Vectors (Single Word)\n",
    "\n",
    "from sklearn.feature_extraction.text import CountVectorizer\n",
    "num_features = 50\n",
    "vectorizer = CountVectorizer(ngram_range=(1,1), \n",
    "                            max_features = num_features,\n",
    "                            max_df=1.0, min_df=0.0)\n",
    "count_vectors = vectorizer.fit_transform(list(data['text_clean_v6']))\n",
    "\n",
    "\n",
    "# reshape to pandas\n",
    "from scipy import sparse\n",
    "count_vectors_pd = pd.DataFrame(count_vectors.todense())\n",
    "count_vectors_pd.columns = vectorizer.get_feature_names()\n",
    "count_vector_features = vectorizer.get_feature_names()\n",
    "data = pd.concat([data.reset_index(drop=True),count_vectors_pd.reset_index(drop=True)], axis=1)\n",
    "  "
   ]
  },
  {
   "cell_type": "code",
   "execution_count": 43,
   "metadata": {
    "_uuid": "0074781bda73fd6de5a55c327a6e9339c15ad901",
    "colab": {},
    "colab_type": "code",
    "id": "WAVOBuF7grUB"
   },
   "outputs": [],
   "source": [
    "# Count Vectors (2-Gram)\n",
    "\n",
    "from sklearn.feature_extraction.text import CountVectorizer\n",
    "num_features = 25\n",
    "vectorizer = CountVectorizer(ngram_range=(2,2), \n",
    "                            max_features = num_features,\n",
    "                            max_df=1.0, min_df=0.0)\n",
    "count_vectors = vectorizer.fit_transform(list(data['text_clean_v6']))\n",
    "\n",
    "# reshape to pandas\n",
    "from scipy import sparse\n",
    "count_vectors_pd = pd.DataFrame(count_vectors.todense())\n",
    "count_vectors_pd.columns = vectorizer.get_feature_names()\n",
    "count_vector_2gram_features = vectorizer.get_feature_names()\n",
    "data = pd.concat([data.reset_index(drop=True),count_vectors_pd.reset_index(drop=True)], axis=1)\n",
    "  "
   ]
  },
  {
   "cell_type": "code",
   "execution_count": 44,
   "metadata": {
    "_uuid": "28fd1a2ac01e6b9e9730fa979a213269641caad5",
    "colab": {},
    "colab_type": "code",
    "id": "zBSSmXP4vcEc"
   },
   "outputs": [],
   "source": [
    "# TFIDF Vectors\n",
    "\n",
    "from sklearn.feature_extraction.text import TfidfVectorizer\n",
    "num_features = 50\n",
    "vectorizer = TfidfVectorizer(ngram_range=(1,1), \n",
    "                            max_features = num_features,\n",
    "                            max_df=1.0, min_df=0.0)\n",
    "count_vectors = vectorizer.fit_transform(list(data['text_clean_v6']))\n",
    "\n",
    "\n",
    "# reshape to pandas\n",
    "from scipy import sparse\n",
    "count_vectors_pd = pd.DataFrame(count_vectors.todense())\n",
    "count_vectors_pd.columns = vectorizer.get_feature_names()\n",
    "tfidf_features = vectorizer.get_feature_names()\n",
    "data = pd.concat([data.reset_index(drop=True),count_vectors_pd.reset_index(drop=True)], axis=1)\n",
    "  "
   ]
  },
  {
   "cell_type": "code",
   "execution_count": 45,
   "metadata": {
    "_kg_hide-output": true,
    "_uuid": "fbe96d37f3097b16e7571e185dbced88060b406a",
    "colab": {
     "base_uri": "https://localhost:8080/",
     "height": 34
    },
    "colab_type": "code",
    "executionInfo": {
     "elapsed": 5399,
     "status": "ok",
     "timestamp": 1547330996229,
     "user": {
      "displayName": "kjgh known",
      "photoUrl": "",
      "userId": "09371675389476978286"
     },
     "user_tz": -330
    },
    "id": "xtoO_xg47KyM",
    "outputId": "641706ec-d74f-4c57-95ba-0a26ba815604"
   },
   "outputs": [],
   "source": [
    "#!pip install afinn"
   ]
  },
  {
   "cell_type": "code",
   "execution_count": 46,
   "metadata": {
    "_kg_hide-output": true,
    "_uuid": "fefdd89fbdb5f1859c40bcaf1a5929bee9342b79",
    "colab": {
     "base_uri": "https://localhost:8080/",
     "height": 204
    },
    "colab_type": "code",
    "executionInfo": {
     "elapsed": 65408,
     "status": "ok",
     "timestamp": 1547331056731,
     "user": {
      "displayName": "kjgh known",
      "photoUrl": "",
      "userId": "09371675389476978286"
     },
     "user_tz": -330
    },
    "id": "5qh-wTWh61E1",
    "outputId": "821558c4-4860-45c0-a6e5-5d3abbe964eb"
   },
   "outputs": [
    {
     "data": {
      "text/plain": [
       "\"\\nfrom afinn import Afinn\\n\\ndef Afinn_apply(var):\\n    afinn = Afinn(emoticons=True)\\n    return afinn.score(var)\\n\\ndata['Afinn'] = data['text_clean_v6'].apply(Afinn_apply)\\ndata[['text_clean_v6', 'Afinn']].head()\\n\""
      ]
     },
     "execution_count": 46,
     "metadata": {},
     "output_type": "execute_result"
    }
   ],
   "source": [
    "'''\n",
    "from afinn import Afinn\n",
    "\n",
    "def Afinn_apply(var):\n",
    "    afinn = Afinn(emoticons=True)\n",
    "    return afinn.score(var)\n",
    "\n",
    "data['Afinn'] = data['text_clean_v6'].apply(Afinn_apply)\n",
    "data[['text_clean_v6', 'Afinn']].head()\n",
    "'''"
   ]
  },
  {
   "cell_type": "code",
   "execution_count": 47,
   "metadata": {
    "_uuid": "c73d0baad6bacae10b05aff549173ce474e9ed25",
    "colab": {
     "base_uri": "https://localhost:8080/",
     "height": 204
    },
    "colab_type": "code",
    "executionInfo": {
     "elapsed": 67529,
     "status": "ok",
     "timestamp": 1547331060477,
     "user": {
      "displayName": "kjgh known",
      "photoUrl": "",
      "userId": "09371675389476978286"
     },
     "user_tz": -330
    },
    "id": "MHuqr7PtKhjM",
    "outputId": "7f455495-162a-4827-96ab-11cfa9639721"
   },
   "outputs": [
    {
     "data": {
      "text/html": [
       "<div>\n",
       "<style scoped>\n",
       "    .dataframe tbody tr th:only-of-type {\n",
       "        vertical-align: middle;\n",
       "    }\n",
       "\n",
       "    .dataframe tbody tr th {\n",
       "        vertical-align: top;\n",
       "    }\n",
       "\n",
       "    .dataframe thead th {\n",
       "        text-align: right;\n",
       "    }\n",
       "</style>\n",
       "<table border=\"1\" class=\"dataframe\">\n",
       "  <thead>\n",
       "    <tr style=\"text-align: right;\">\n",
       "      <th></th>\n",
       "      <th>text_clean_v6</th>\n",
       "      <th>TextBlobPolarity</th>\n",
       "      <th>TextBlobSubjectivity</th>\n",
       "    </tr>\n",
       "  </thead>\n",
       "  <tbody>\n",
       "    <tr>\n",
       "      <th>0</th>\n",
       "      <td>Love my Echo!</td>\n",
       "      <td>0.625</td>\n",
       "      <td>0.6000</td>\n",
       "    </tr>\n",
       "    <tr>\n",
       "      <th>1</th>\n",
       "      <td>Loved it!</td>\n",
       "      <td>0.875</td>\n",
       "      <td>0.8000</td>\n",
       "    </tr>\n",
       "    <tr>\n",
       "      <th>2</th>\n",
       "      <td>Sometimes while playing a game, you can answer a question correctly but Alexa says you got it wrong and answers the same as you.  I like being able to turn lights on and off while away from home.</td>\n",
       "      <td>-0.100</td>\n",
       "      <td>0.5125</td>\n",
       "    </tr>\n",
       "    <tr>\n",
       "      <th>3</th>\n",
       "      <td>I have had a lot of fun with this thing. My 4 yr old learns about dinosaurs, i control the lights and play games like categories. Has nice sound when playing music as well.</td>\n",
       "      <td>0.350</td>\n",
       "      <td>0.4500</td>\n",
       "    </tr>\n",
       "    <tr>\n",
       "      <th>4</th>\n",
       "      <td>Music</td>\n",
       "      <td>0.000</td>\n",
       "      <td>0.0000</td>\n",
       "    </tr>\n",
       "  </tbody>\n",
       "</table>\n",
       "</div>"
      ],
      "text/plain": [
       "                                                                                                                                                                                         text_clean_v6          ...           TextBlobSubjectivity\n",
       "0  Love my Echo!                                                                                                                                                                                                ...           0.6000              \n",
       "1  Loved it!                                                                                                                                                                                                    ...           0.8000              \n",
       "2  Sometimes while playing a game, you can answer a question correctly but Alexa says you got it wrong and answers the same as you.  I like being able to turn lights on and off while away from home.          ...           0.5125              \n",
       "3  I have had a lot of fun with this thing. My 4 yr old learns about dinosaurs, i control the lights and play games like categories. Has nice sound when playing music as well.                                 ...           0.4500              \n",
       "4  Music                                                                                                                                                                                                        ...           0.0000              \n",
       "\n",
       "[5 rows x 3 columns]"
      ]
     },
     "execution_count": 47,
     "metadata": {},
     "output_type": "execute_result"
    }
   ],
   "source": [
    " from textblob import TextBlob\n",
    "\n",
    "def TextBlobPolarity(var):\n",
    "  testimonial = TextBlob(var)\n",
    "  return testimonial.sentiment.polarity\n",
    "\n",
    "def TextBlobSubjectivity(var):\n",
    "  testimonial = TextBlob(var)\n",
    "  return testimonial.sentiment.subjectivity\n",
    "\n",
    "data['TextBlobSubjectivity'] = data['text_clean_v6'].apply(TextBlobSubjectivity)\n",
    "data['TextBlobPolarity'] = data['text_clean_v6'].apply(TextBlobPolarity)\n",
    "data['TextBlobSubPol_Interaction'] = data['TextBlobSubjectivity']*data['TextBlobPolarity']\n",
    "data[['text_clean_v6', 'TextBlobPolarity', 'TextBlobSubjectivity']].head()"
   ]
  },
  {
   "cell_type": "code",
   "execution_count": 48,
   "metadata": {
    "_uuid": "0be8fe4433c068eebff956f1875cf198699bb5ad",
    "colab": {
     "base_uri": "https://localhost:8080/",
     "height": 270
    },
    "colab_type": "code",
    "executionInfo": {
     "elapsed": 59528,
     "status": "ok",
     "timestamp": 1547331127740,
     "user": {
      "displayName": "kjgh known",
      "photoUrl": "",
      "userId": "09371675389476978286"
     },
     "user_tz": -330
    },
    "id": "xmX_HClO6bBF",
    "outputId": "bbac01e5-bb2c-4718-ec36-3c8dfed22732"
   },
   "outputs": [
    {
     "data": {
      "text/html": [
       "<div>\n",
       "<style scoped>\n",
       "    .dataframe tbody tr th:only-of-type {\n",
       "        vertical-align: middle;\n",
       "    }\n",
       "\n",
       "    .dataframe tbody tr th {\n",
       "        vertical-align: top;\n",
       "    }\n",
       "\n",
       "    .dataframe thead th {\n",
       "        text-align: right;\n",
       "    }\n",
       "</style>\n",
       "<table border=\"1\" class=\"dataframe\">\n",
       "  <thead>\n",
       "    <tr style=\"text-align: right;\">\n",
       "      <th></th>\n",
       "      <th>response</th>\n",
       "      <th>char_cnt</th>\n",
       "      <th>word_cnt</th>\n",
       "      <th>sentence_cnt</th>\n",
       "      <th>avg_word_size</th>\n",
       "      <th>avg_char_per_sent</th>\n",
       "      <th>avg_word_per_sent</th>\n",
       "      <th>TextBlobSubPol_Interaction</th>\n",
       "      <th>TextBlobPolarity</th>\n",
       "      <th>TextBlobSubjectivity</th>\n",
       "      <th>noun_cnt</th>\n",
       "      <th>proper_noun_cnt</th>\n",
       "      <th>pronoun_cnt</th>\n",
       "      <th>wh_pronoun_cnt</th>\n",
       "      <th>pronoun_tot_cnt</th>\n",
       "      <th>adj_cnt</th>\n",
       "      <th>adverb_cnt</th>\n",
       "      <th>foreign_cnt</th>\n",
       "      <th>det_cnt</th>\n",
       "      <th>modal_cnt</th>\n",
       "      <th>verb_cnt</th>\n",
       "      <th>verb_past_cnt</th>\n",
       "      <th>verb_present_cnt</th>\n",
       "      <th>verb_tot_cnt</th>\n",
       "      <th>cc_cnt</th>\n",
       "      <th>in_cnt</th>\n",
       "      <th>ccin_cnt</th>\n",
       "      <th>alexa</th>\n",
       "      <th>alexa</th>\n",
       "      <th>all</th>\n",
       "      <th>all</th>\n",
       "      <th>amazon</th>\n",
       "      <th>amazon</th>\n",
       "      <th>an</th>\n",
       "      <th>an</th>\n",
       "      <th>and</th>\n",
       "      <th>and</th>\n",
       "      <th>are</th>\n",
       "      <th>are</th>\n",
       "      <th>as</th>\n",
       "      <th>...</th>\n",
       "      <th>we</th>\n",
       "      <th>when</th>\n",
       "      <th>when</th>\n",
       "      <th>with</th>\n",
       "      <th>with</th>\n",
       "      <th>works</th>\n",
       "      <th>works</th>\n",
       "      <th>you</th>\n",
       "      <th>you</th>\n",
       "      <th>all the</th>\n",
       "      <th>and it</th>\n",
       "      <th>easy to</th>\n",
       "      <th>echo dot</th>\n",
       "      <th>for my</th>\n",
       "      <th>for the</th>\n",
       "      <th>in the</th>\n",
       "      <th>it is</th>\n",
       "      <th>it to</th>\n",
       "      <th>it was</th>\n",
       "      <th>love it</th>\n",
       "      <th>love the</th>\n",
       "      <th>my echo</th>\n",
       "      <th>of the</th>\n",
       "      <th>set up</th>\n",
       "      <th>so far</th>\n",
       "      <th>the echo</th>\n",
       "      <th>this is</th>\n",
       "      <th>to my</th>\n",
       "      <th>to set</th>\n",
       "      <th>to use</th>\n",
       "      <th>use it</th>\n",
       "      <th>with the</th>\n",
       "      <th>works great</th>\n",
       "      <th>you can</th>\n",
       "      <th>neg_word_cnt</th>\n",
       "      <th>pos_word_cnt</th>\n",
       "      <th>neg_word_cnt_ratio1</th>\n",
       "      <th>neg_word_cnt_ratio2</th>\n",
       "      <th>pos_word_cnt_ratio1</th>\n",
       "      <th>pos_word_cnt_ratio2</th>\n",
       "    </tr>\n",
       "  </thead>\n",
       "  <tbody>\n",
       "    <tr>\n",
       "      <th>0</th>\n",
       "      <td>1</td>\n",
       "      <td>13</td>\n",
       "      <td>3</td>\n",
       "      <td>1</td>\n",
       "      <td>4.333333</td>\n",
       "      <td>13.000000</td>\n",
       "      <td>3.000000</td>\n",
       "      <td>0.37500</td>\n",
       "      <td>0.625</td>\n",
       "      <td>0.6000</td>\n",
       "      <td>1</td>\n",
       "      <td>0</td>\n",
       "      <td>1</td>\n",
       "      <td>0</td>\n",
       "      <td>1</td>\n",
       "      <td>0</td>\n",
       "      <td>0</td>\n",
       "      <td>0</td>\n",
       "      <td>0</td>\n",
       "      <td>0</td>\n",
       "      <td>1</td>\n",
       "      <td>0</td>\n",
       "      <td>0</td>\n",
       "      <td>1</td>\n",
       "      <td>0</td>\n",
       "      <td>0</td>\n",
       "      <td>0</td>\n",
       "      <td>0</td>\n",
       "      <td>0.000000</td>\n",
       "      <td>0</td>\n",
       "      <td>0.0</td>\n",
       "      <td>0</td>\n",
       "      <td>0.0</td>\n",
       "      <td>0</td>\n",
       "      <td>0.0</td>\n",
       "      <td>0</td>\n",
       "      <td>0.000000</td>\n",
       "      <td>0</td>\n",
       "      <td>0.0</td>\n",
       "      <td>0</td>\n",
       "      <td>...</td>\n",
       "      <td>0.0</td>\n",
       "      <td>0</td>\n",
       "      <td>0.000000</td>\n",
       "      <td>0</td>\n",
       "      <td>0.000000</td>\n",
       "      <td>0</td>\n",
       "      <td>0.0</td>\n",
       "      <td>0</td>\n",
       "      <td>0.000000</td>\n",
       "      <td>0</td>\n",
       "      <td>0</td>\n",
       "      <td>0</td>\n",
       "      <td>0</td>\n",
       "      <td>0</td>\n",
       "      <td>0</td>\n",
       "      <td>0</td>\n",
       "      <td>0</td>\n",
       "      <td>0</td>\n",
       "      <td>0</td>\n",
       "      <td>0</td>\n",
       "      <td>0</td>\n",
       "      <td>1</td>\n",
       "      <td>0</td>\n",
       "      <td>0</td>\n",
       "      <td>0</td>\n",
       "      <td>0</td>\n",
       "      <td>0</td>\n",
       "      <td>0</td>\n",
       "      <td>0</td>\n",
       "      <td>0</td>\n",
       "      <td>0</td>\n",
       "      <td>0</td>\n",
       "      <td>0</td>\n",
       "      <td>0</td>\n",
       "      <td>0</td>\n",
       "      <td>1</td>\n",
       "      <td>0.000000</td>\n",
       "      <td>0.0</td>\n",
       "      <td>0.333333</td>\n",
       "      <td>1.0</td>\n",
       "    </tr>\n",
       "    <tr>\n",
       "      <th>1</th>\n",
       "      <td>1</td>\n",
       "      <td>9</td>\n",
       "      <td>2</td>\n",
       "      <td>1</td>\n",
       "      <td>4.500000</td>\n",
       "      <td>9.000000</td>\n",
       "      <td>2.000000</td>\n",
       "      <td>0.70000</td>\n",
       "      <td>0.875</td>\n",
       "      <td>0.8000</td>\n",
       "      <td>0</td>\n",
       "      <td>0</td>\n",
       "      <td>1</td>\n",
       "      <td>0</td>\n",
       "      <td>1</td>\n",
       "      <td>0</td>\n",
       "      <td>0</td>\n",
       "      <td>0</td>\n",
       "      <td>0</td>\n",
       "      <td>0</td>\n",
       "      <td>0</td>\n",
       "      <td>0</td>\n",
       "      <td>1</td>\n",
       "      <td>1</td>\n",
       "      <td>0</td>\n",
       "      <td>0</td>\n",
       "      <td>0</td>\n",
       "      <td>0</td>\n",
       "      <td>0.000000</td>\n",
       "      <td>0</td>\n",
       "      <td>0.0</td>\n",
       "      <td>0</td>\n",
       "      <td>0.0</td>\n",
       "      <td>0</td>\n",
       "      <td>0.0</td>\n",
       "      <td>0</td>\n",
       "      <td>0.000000</td>\n",
       "      <td>0</td>\n",
       "      <td>0.0</td>\n",
       "      <td>0</td>\n",
       "      <td>...</td>\n",
       "      <td>0.0</td>\n",
       "      <td>0</td>\n",
       "      <td>0.000000</td>\n",
       "      <td>0</td>\n",
       "      <td>0.000000</td>\n",
       "      <td>0</td>\n",
       "      <td>0.0</td>\n",
       "      <td>0</td>\n",
       "      <td>0.000000</td>\n",
       "      <td>0</td>\n",
       "      <td>0</td>\n",
       "      <td>0</td>\n",
       "      <td>0</td>\n",
       "      <td>0</td>\n",
       "      <td>0</td>\n",
       "      <td>0</td>\n",
       "      <td>0</td>\n",
       "      <td>0</td>\n",
       "      <td>0</td>\n",
       "      <td>0</td>\n",
       "      <td>0</td>\n",
       "      <td>0</td>\n",
       "      <td>0</td>\n",
       "      <td>0</td>\n",
       "      <td>0</td>\n",
       "      <td>0</td>\n",
       "      <td>0</td>\n",
       "      <td>0</td>\n",
       "      <td>0</td>\n",
       "      <td>0</td>\n",
       "      <td>0</td>\n",
       "      <td>0</td>\n",
       "      <td>0</td>\n",
       "      <td>0</td>\n",
       "      <td>0</td>\n",
       "      <td>0</td>\n",
       "      <td>0.000000</td>\n",
       "      <td>0.0</td>\n",
       "      <td>0.000000</td>\n",
       "      <td>0.0</td>\n",
       "    </tr>\n",
       "    <tr>\n",
       "      <th>2</th>\n",
       "      <td>1</td>\n",
       "      <td>195</td>\n",
       "      <td>38</td>\n",
       "      <td>2</td>\n",
       "      <td>5.131579</td>\n",
       "      <td>97.500000</td>\n",
       "      <td>19.000000</td>\n",
       "      <td>-0.05125</td>\n",
       "      <td>-0.100</td>\n",
       "      <td>0.5125</td>\n",
       "      <td>5</td>\n",
       "      <td>1</td>\n",
       "      <td>5</td>\n",
       "      <td>0</td>\n",
       "      <td>5</td>\n",
       "      <td>3</td>\n",
       "      <td>3</td>\n",
       "      <td>0</td>\n",
       "      <td>0</td>\n",
       "      <td>1</td>\n",
       "      <td>2</td>\n",
       "      <td>4</td>\n",
       "      <td>1</td>\n",
       "      <td>7</td>\n",
       "      <td>3</td>\n",
       "      <td>7</td>\n",
       "      <td>10</td>\n",
       "      <td>1</td>\n",
       "      <td>0.217605</td>\n",
       "      <td>0</td>\n",
       "      <td>0.0</td>\n",
       "      <td>0</td>\n",
       "      <td>0.0</td>\n",
       "      <td>0</td>\n",
       "      <td>0.0</td>\n",
       "      <td>2</td>\n",
       "      <td>0.287917</td>\n",
       "      <td>0</td>\n",
       "      <td>0.0</td>\n",
       "      <td>1</td>\n",
       "      <td>...</td>\n",
       "      <td>0.0</td>\n",
       "      <td>0</td>\n",
       "      <td>0.000000</td>\n",
       "      <td>0</td>\n",
       "      <td>0.000000</td>\n",
       "      <td>0</td>\n",
       "      <td>0.0</td>\n",
       "      <td>3</td>\n",
       "      <td>0.746085</td>\n",
       "      <td>0</td>\n",
       "      <td>0</td>\n",
       "      <td>0</td>\n",
       "      <td>0</td>\n",
       "      <td>0</td>\n",
       "      <td>0</td>\n",
       "      <td>0</td>\n",
       "      <td>0</td>\n",
       "      <td>0</td>\n",
       "      <td>0</td>\n",
       "      <td>0</td>\n",
       "      <td>0</td>\n",
       "      <td>0</td>\n",
       "      <td>0</td>\n",
       "      <td>0</td>\n",
       "      <td>0</td>\n",
       "      <td>0</td>\n",
       "      <td>0</td>\n",
       "      <td>0</td>\n",
       "      <td>0</td>\n",
       "      <td>0</td>\n",
       "      <td>0</td>\n",
       "      <td>0</td>\n",
       "      <td>0</td>\n",
       "      <td>1</td>\n",
       "      <td>1</td>\n",
       "      <td>1</td>\n",
       "      <td>0.026316</td>\n",
       "      <td>0.5</td>\n",
       "      <td>0.026316</td>\n",
       "      <td>0.5</td>\n",
       "    </tr>\n",
       "    <tr>\n",
       "      <th>3</th>\n",
       "      <td>1</td>\n",
       "      <td>172</td>\n",
       "      <td>34</td>\n",
       "      <td>3</td>\n",
       "      <td>5.058824</td>\n",
       "      <td>57.333333</td>\n",
       "      <td>11.333333</td>\n",
       "      <td>0.15750</td>\n",
       "      <td>0.350</td>\n",
       "      <td>0.4500</td>\n",
       "      <td>12</td>\n",
       "      <td>1</td>\n",
       "      <td>2</td>\n",
       "      <td>0</td>\n",
       "      <td>2</td>\n",
       "      <td>2</td>\n",
       "      <td>3</td>\n",
       "      <td>0</td>\n",
       "      <td>0</td>\n",
       "      <td>0</td>\n",
       "      <td>1</td>\n",
       "      <td>3</td>\n",
       "      <td>1</td>\n",
       "      <td>5</td>\n",
       "      <td>1</td>\n",
       "      <td>4</td>\n",
       "      <td>5</td>\n",
       "      <td>0</td>\n",
       "      <td>0.000000</td>\n",
       "      <td>0</td>\n",
       "      <td>0.0</td>\n",
       "      <td>0</td>\n",
       "      <td>0.0</td>\n",
       "      <td>0</td>\n",
       "      <td>0.0</td>\n",
       "      <td>1</td>\n",
       "      <td>0.197581</td>\n",
       "      <td>0</td>\n",
       "      <td>0.0</td>\n",
       "      <td>1</td>\n",
       "      <td>...</td>\n",
       "      <td>0.0</td>\n",
       "      <td>1</td>\n",
       "      <td>0.373482</td>\n",
       "      <td>1</td>\n",
       "      <td>0.278209</td>\n",
       "      <td>0</td>\n",
       "      <td>0.0</td>\n",
       "      <td>0</td>\n",
       "      <td>0.000000</td>\n",
       "      <td>0</td>\n",
       "      <td>0</td>\n",
       "      <td>0</td>\n",
       "      <td>0</td>\n",
       "      <td>0</td>\n",
       "      <td>0</td>\n",
       "      <td>0</td>\n",
       "      <td>0</td>\n",
       "      <td>0</td>\n",
       "      <td>0</td>\n",
       "      <td>0</td>\n",
       "      <td>0</td>\n",
       "      <td>0</td>\n",
       "      <td>0</td>\n",
       "      <td>0</td>\n",
       "      <td>0</td>\n",
       "      <td>0</td>\n",
       "      <td>0</td>\n",
       "      <td>0</td>\n",
       "      <td>0</td>\n",
       "      <td>0</td>\n",
       "      <td>0</td>\n",
       "      <td>0</td>\n",
       "      <td>0</td>\n",
       "      <td>0</td>\n",
       "      <td>0</td>\n",
       "      <td>3</td>\n",
       "      <td>0.000000</td>\n",
       "      <td>0.0</td>\n",
       "      <td>0.088235</td>\n",
       "      <td>1.0</td>\n",
       "    </tr>\n",
       "    <tr>\n",
       "      <th>4</th>\n",
       "      <td>1</td>\n",
       "      <td>5</td>\n",
       "      <td>1</td>\n",
       "      <td>1</td>\n",
       "      <td>5.000000</td>\n",
       "      <td>5.000000</td>\n",
       "      <td>1.000000</td>\n",
       "      <td>0.00000</td>\n",
       "      <td>0.000</td>\n",
       "      <td>0.0000</td>\n",
       "      <td>0</td>\n",
       "      <td>0</td>\n",
       "      <td>0</td>\n",
       "      <td>0</td>\n",
       "      <td>0</td>\n",
       "      <td>1</td>\n",
       "      <td>0</td>\n",
       "      <td>0</td>\n",
       "      <td>0</td>\n",
       "      <td>0</td>\n",
       "      <td>0</td>\n",
       "      <td>0</td>\n",
       "      <td>0</td>\n",
       "      <td>0</td>\n",
       "      <td>0</td>\n",
       "      <td>0</td>\n",
       "      <td>0</td>\n",
       "      <td>0</td>\n",
       "      <td>0.000000</td>\n",
       "      <td>0</td>\n",
       "      <td>0.0</td>\n",
       "      <td>0</td>\n",
       "      <td>0.0</td>\n",
       "      <td>0</td>\n",
       "      <td>0.0</td>\n",
       "      <td>0</td>\n",
       "      <td>0.000000</td>\n",
       "      <td>0</td>\n",
       "      <td>0.0</td>\n",
       "      <td>0</td>\n",
       "      <td>...</td>\n",
       "      <td>0.0</td>\n",
       "      <td>0</td>\n",
       "      <td>0.000000</td>\n",
       "      <td>0</td>\n",
       "      <td>0.000000</td>\n",
       "      <td>0</td>\n",
       "      <td>0.0</td>\n",
       "      <td>0</td>\n",
       "      <td>0.000000</td>\n",
       "      <td>0</td>\n",
       "      <td>0</td>\n",
       "      <td>0</td>\n",
       "      <td>0</td>\n",
       "      <td>0</td>\n",
       "      <td>0</td>\n",
       "      <td>0</td>\n",
       "      <td>0</td>\n",
       "      <td>0</td>\n",
       "      <td>0</td>\n",
       "      <td>0</td>\n",
       "      <td>0</td>\n",
       "      <td>0</td>\n",
       "      <td>0</td>\n",
       "      <td>0</td>\n",
       "      <td>0</td>\n",
       "      <td>0</td>\n",
       "      <td>0</td>\n",
       "      <td>0</td>\n",
       "      <td>0</td>\n",
       "      <td>0</td>\n",
       "      <td>0</td>\n",
       "      <td>0</td>\n",
       "      <td>0</td>\n",
       "      <td>0</td>\n",
       "      <td>0</td>\n",
       "      <td>0</td>\n",
       "      <td>0.000000</td>\n",
       "      <td>0.0</td>\n",
       "      <td>0.000000</td>\n",
       "      <td>0.0</td>\n",
       "    </tr>\n",
       "  </tbody>\n",
       "</table>\n",
       "</div>"
      ],
      "text/plain": [
       "   response         ...           pos_word_cnt_ratio2\n",
       "0  1                ...           1.0                \n",
       "1  1                ...           0.0                \n",
       "2  1                ...           0.5                \n",
       "3  1                ...           1.0                \n",
       "4  1                ...           0.0                \n",
       "\n",
       "[5 rows x 258 columns]"
      ]
     },
     "execution_count": 48,
     "metadata": {},
     "output_type": "execute_result"
    }
   ],
   "source": [
    "# Prepare the Data\n",
    "\n",
    "data_temp = data[['response','char_cnt', 'word_cnt', 'sentence_cnt', 'avg_word_size','avg_char_per_sent',\n",
    "                  'avg_word_per_sent','TextBlobSubPol_Interaction',\n",
    "                 'TextBlobPolarity', 'TextBlobSubjectivity', \n",
    "                  'noun_cnt', 'proper_noun_cnt', \n",
    "                'pronoun_cnt','wh_pronoun_cnt','pronoun_tot_cnt',\n",
    "                'adj_cnt', 'adverb_cnt','foreign_cnt','det_cnt', 'modal_cnt',\n",
    "                'verb_cnt', 'verb_past_cnt', 'verb_present_cnt','verb_tot_cnt'\n",
    "                ,'cc_cnt', 'in_cnt', 'ccin_cnt'] \n",
    "                 + count_vector_features\n",
    "                 + tfidf_features\n",
    "                 + count_vector_2gram_features\n",
    "                 + new_features_2]\n",
    "data_temp = data_temp.dropna()\n",
    "data_temp.drop_duplicates(keep = 'first',inplace = True)\n",
    "data_temp.head()"
   ]
  },
  {
   "cell_type": "code",
   "execution_count": 49,
   "metadata": {
    "_uuid": "6c4eb7be132c4530c51bc9dd60b7070f2cd2ae6d",
    "colab": {
     "base_uri": "https://localhost:8080/",
     "height": 71
    },
    "colab_type": "code",
    "executionInfo": {
     "elapsed": 1303,
     "status": "ok",
     "timestamp": 1547331166472,
     "user": {
      "displayName": "kjgh known",
      "photoUrl": "",
      "userId": "09371675389476978286"
     },
     "user_tz": -330
    },
    "id": "yYVzvwI-HJna",
    "outputId": "c19705da-e8dd-4586-fa85-925d1f606683"
   },
   "outputs": [],
   "source": [
    "# Train Test Split\n",
    "\n",
    "X = data_temp.drop('response', axis = 1)\n",
    "y = data_temp['response'].astype('int')\n",
    "\n",
    "from sklearn.model_selection import train_test_split \n",
    "X_train, X_test, y_train, y_test = train_test_split(X, y, train_size = 0.7, random_state=20)"
   ]
  },
  {
   "cell_type": "code",
   "execution_count": 50,
   "metadata": {
    "_uuid": "5e38ef025a8157e73c57846bedf640204d408bee",
    "colab": {
     "base_uri": "https://localhost:8080/",
     "height": 204
    },
    "colab_type": "code",
    "executionInfo": {
     "elapsed": 66592,
     "status": "ok",
     "timestamp": 1547331386400,
     "user": {
      "displayName": "kjgh known",
      "photoUrl": "",
      "userId": "09371675389476978286"
     },
     "user_tz": -330
    },
    "id": "JTBlPhcmHkt2",
    "outputId": "2b220548-2ac7-448f-b5ff-542dcb58d072"
   },
   "outputs": [
    {
     "name": "stdout",
     "output_type": "stream",
     "text": [
      "Learning rate set to 0.081569\n",
      "0:\ttest: 0.6613855\tbest: 0.6613855 (0)\ttotal: 78ms\tremaining: 1m 17s\n",
      "200:\ttest: 0.8912582\tbest: 0.8936245 (71)\ttotal: 10s\tremaining: 39.8s\n",
      "400:\ttest: 0.8940597\tbest: 0.8962901 (269)\ttotal: 19.9s\tremaining: 29.8s\n",
      "600:\ttest: 0.8928902\tbest: 0.8962901 (269)\ttotal: 29.9s\tremaining: 19.9s\n",
      "800:\ttest: 0.8920198\tbest: 0.8962901 (269)\ttotal: 39.9s\tremaining: 9.92s\n",
      "999:\ttest: 0.8932710\tbest: 0.8962901 (269)\ttotal: 49.8s\tremaining: 0us\n",
      "\n",
      "bestTest = 0.8962900506\n",
      "bestIteration = 269\n",
      "\n",
      "Shrink model to first 270 iterations.\n"
     ]
    },
    {
     "data": {
      "text/plain": [
       "<catboost.core.CatBoostClassifier at 0x7f2471f31fd0>"
      ]
     },
     "execution_count": 50,
     "metadata": {},
     "output_type": "execute_result"
    }
   ],
   "source": [
    "from catboost import CatBoostClassifier, Pool\n",
    "\n",
    "train_pool = Pool(X_train, y_train, cat_features = np.where(X.dtypes == 'object')[0])\n",
    "test_pool = Pool(X_test, y_test, cat_features = np.where(X.dtypes == 'object')[0])\n",
    "model = CatBoostClassifier(random_state = 1, eval_metric='AUC', use_best_model = True, verbose = 200, class_weights = [1,2])\n",
    "model.fit(train_pool, eval_set = test_pool)"
   ]
  },
  {
   "cell_type": "code",
   "execution_count": 51,
   "metadata": {
    "_uuid": "f08b0abab7032e4ba8b70dcd08f64e495fed1046",
    "colab": {
     "base_uri": "https://localhost:8080/",
     "height": 359
    },
    "colab_type": "code",
    "executionInfo": {
     "elapsed": 75001,
     "status": "ok",
     "timestamp": 1547331249456,
     "user": {
      "displayName": "kjgh known",
      "photoUrl": "",
      "userId": "09371675389476978286"
     },
     "user_tz": -330
    },
    "id": "7fM5EeQOIYUJ",
    "outputId": "aa4024c6-aef9-49dd-8e48-30ee367273e4"
   },
   "outputs": [
    {
     "data": {
      "text/html": [
       "<div>\n",
       "<style scoped>\n",
       "    .dataframe tbody tr th:only-of-type {\n",
       "        vertical-align: middle;\n",
       "    }\n",
       "\n",
       "    .dataframe tbody tr th {\n",
       "        vertical-align: top;\n",
       "    }\n",
       "\n",
       "    .dataframe thead th {\n",
       "        text-align: right;\n",
       "    }\n",
       "</style>\n",
       "<table border=\"1\" class=\"dataframe\">\n",
       "  <thead>\n",
       "    <tr style=\"text-align: right;\">\n",
       "      <th></th>\n",
       "      <th>0</th>\n",
       "      <th>1</th>\n",
       "    </tr>\n",
       "  </thead>\n",
       "  <tbody>\n",
       "    <tr>\n",
       "      <th>6</th>\n",
       "      <td>TextBlobSubPol_Interaction</td>\n",
       "      <td>15.0143</td>\n",
       "    </tr>\n",
       "    <tr>\n",
       "      <th>7</th>\n",
       "      <td>TextBlobPolarity</td>\n",
       "      <td>7.78906</td>\n",
       "    </tr>\n",
       "    <tr>\n",
       "      <th>255</th>\n",
       "      <td>pos_word_cnt_ratio1</td>\n",
       "      <td>5.04876</td>\n",
       "    </tr>\n",
       "    <tr>\n",
       "      <th>254</th>\n",
       "      <td>neg_word_cnt_ratio2</td>\n",
       "      <td>3.30832</td>\n",
       "    </tr>\n",
       "    <tr>\n",
       "      <th>252</th>\n",
       "      <td>pos_word_cnt</td>\n",
       "      <td>3.2515</td>\n",
       "    </tr>\n",
       "    <tr>\n",
       "      <th>253</th>\n",
       "      <td>neg_word_cnt_ratio1</td>\n",
       "      <td>3.06163</td>\n",
       "    </tr>\n",
       "    <tr>\n",
       "      <th>8</th>\n",
       "      <td>TextBlobSubjectivity</td>\n",
       "      <td>2.25825</td>\n",
       "    </tr>\n",
       "    <tr>\n",
       "      <th>172</th>\n",
       "      <td>love</td>\n",
       "      <td>2.17374</td>\n",
       "    </tr>\n",
       "    <tr>\n",
       "      <th>251</th>\n",
       "      <td>neg_word_cnt</td>\n",
       "      <td>1.92211</td>\n",
       "    </tr>\n",
       "    <tr>\n",
       "      <th>73</th>\n",
       "      <td>love</td>\n",
       "      <td>1.7192</td>\n",
       "    </tr>\n",
       "  </tbody>\n",
       "</table>\n",
       "</div>"
      ],
      "text/plain": [
       "                              0        1\n",
       "6    TextBlobSubPol_Interaction  15.0143\n",
       "7    TextBlobPolarity            7.78906\n",
       "255  pos_word_cnt_ratio1         5.04876\n",
       "254  neg_word_cnt_ratio2         3.30832\n",
       "252  pos_word_cnt                3.2515 \n",
       "253  neg_word_cnt_ratio1         3.06163\n",
       "8    TextBlobSubjectivity        2.25825\n",
       "172  love                        2.17374\n",
       "251  neg_word_cnt                1.92211\n",
       "73   love                        1.7192 "
      ]
     },
     "execution_count": 51,
     "metadata": {},
     "output_type": "execute_result"
    }
   ],
   "source": [
    "#CAT FEATURE IMPORTANCE\n",
    "\n",
    "feature_importance = model.get_feature_importance(train_pool)\n",
    "feature_names = X_train.columns\n",
    "feature_imp = pd.DataFrame([feature_names, feature_importance])\n",
    "final = feature_imp.transpose()\n",
    "final.sort_values(by = 1, ascending = False, inplace = True)\n",
    "pd.set_option('display.max_colwidth', -1)\n",
    "final.head(10)"
   ]
  },
  {
   "cell_type": "code",
   "execution_count": 52,
   "metadata": {
    "_uuid": "e36f800240cb1079526bb7f5aa74b2852ef35128",
    "colab": {
     "base_uri": "https://localhost:8080/",
     "height": 459
    },
    "colab_type": "code",
    "executionInfo": {
     "elapsed": 1510,
     "status": "ok",
     "timestamp": 1547331279472,
     "user": {
      "displayName": "kjgh known",
      "photoUrl": "",
      "userId": "09371675389476978286"
     },
     "user_tz": -330
    },
    "id": "54l8QC1BU6lo",
    "outputId": "d2927d9e-0b8a-4ca9-dcd4-59db4f2d32c0"
   },
   "outputs": [
    {
     "name": "stdout",
     "output_type": "stream",
     "text": [
      "Predicted Class and Probabilities: \n",
      "\n",
      "[1 1 1 1 1]\n",
      "[[1.92601108e-03 9.98073989e-01]\n",
      " [1.02738052e-03 9.98972619e-01]\n",
      " [2.74187510e-04 9.99725812e-01]\n",
      " [1.52557353e-02 9.84744265e-01]\n",
      " [5.55967682e-03 9.94440323e-01]]\n",
      "\n",
      "Accuracy:  0.8931297709923665\n",
      "Precision:  0.957968476357268\n",
      "Recall:  0.9224283305227656\n",
      "F1:  0.9398625429553266\n",
      "Area under ROC Curve:  0.8962900505902192\n",
      "GINI:  0.7925801011804383\n",
      "\n",
      "True Negatives:  38\n",
      "True Positives:  547\n",
      "False Negatives:  46\n",
      "False Positives:  24\n",
      "\n",
      "Total Reviews:  655\n",
      "Reviews Predicted as Negative:  84\n",
      "Total Negative Reviews in Actuality:  62\n",
      "Negative Reviews that were Correctly Predicted:  38\n",
      "\n",
      "THIS IS DECENT! \n",
      "WE ARE ABLE TO CATCH NEGATIVE REVIEWS WITHOUT LOSING TOO MANY POSITIVE ONES\n",
      "SENTIMENT ANALYSIS HAS WORKED (SORT OF!)\n",
      "\n"
     ]
    }
   ],
   "source": [
    "# RESULTS\n",
    "probs = model.predict_proba(test_pool)\n",
    "pred = np.where(probs[:,1] > 0.90, 1, 0)\n",
    "\n",
    "print('Predicted Class and Probabilities: \\n')\n",
    "print(pred[:5]) # predicted class\n",
    "print(probs[:5]) # probability scores\n",
    "\n",
    "from sklearn.metrics import accuracy_score, precision_score, recall_score, f1_score, roc_auc_score, confusion_matrix, roc_curve, auc\n",
    "print('\\nAccuracy: ', str(accuracy_score(y_test, pred)))\n",
    "print('Precision: ', str(precision_score(y_test, pred)))\n",
    "print('Recall: ', str(recall_score(y_test, pred)))\n",
    "print('F1: ', str(f1_score(y_test, pred)))\n",
    "print('Area under ROC Curve: ', str(roc_auc_score(y_test, probs[:,1])))\n",
    "print('GINI: ', str(-1 + 2*roc_auc_score(y_test, probs[:,1])))\n",
    "\n",
    "tn, fp, fn, tp = confusion_matrix(y_test, pred).ravel()\n",
    "\n",
    "print('\\nTrue Negatives: ', str(tn))\n",
    "print('True Positives: ', str(tp))\n",
    "print('False Negatives: ', str(fn))\n",
    "print('False Positives: ', str(fp))\n",
    "\n",
    "print('\\nTotal Reviews: ', str(tn+fp+fn+tp))\n",
    "print('Reviews Predicted as Negative: ', str(fn+tn))\n",
    "print('Total Negative Reviews in Actuality: ', str(fp+tn))\n",
    "print('Negative Reviews that were Correctly Predicted: ', str(tn))\n",
    "\n",
    "print('''\n",
    "THIS IS DECENT! \n",
    "WE ARE ABLE TO CATCH NEGATIVE REVIEWS WITHOUT LOSING TOO MANY POSITIVE ONES\n",
    "SENTIMENT ANALYSIS HAS WORKED (SORT OF!)\n",
    "''')"
   ]
  },
  {
   "cell_type": "code",
   "execution_count": 53,
   "metadata": {
    "_uuid": "cd72fe1e095b302a74b5173f7b7ed3800922d10c"
   },
   "outputs": [],
   "source": []
  }
 ],
 "metadata": {
  "colab": {
   "collapsed_sections": [],
   "name": "amazon_reviews.ipynb",
   "provenance": [
    {
     "file_id": "1XLhHJK9hPO12dNHLzcl6me7fn7Eeoa3o",
     "timestamp": 1547189246318
    },
    {
     "file_id": "1dTrTb5dCMtPHqh2CxWU7glLL7ogyWNht",
     "timestamp": 1547123207266
    },
    {
     "file_id": "1NMIdc-KH0sDJyO4gIWADf5-uV05lW-P2",
     "timestamp": 1546837400467
    },
    {
     "file_id": "1ZeRfyvw7xzWesM7MYJ-cDhTVlRs4CCdX",
     "timestamp": 1546598850391
    }
   ],
   "version": "0.3.2"
  },
  "kernelspec": {
   "display_name": "Python 3",
   "language": "python",
   "name": "python3"
  },
  "language_info": {
   "codemirror_mode": {
    "name": "ipython",
    "version": 3
   },
   "file_extension": ".py",
   "mimetype": "text/x-python",
   "name": "python",
   "nbconvert_exporter": "python",
   "pygments_lexer": "ipython3",
   "version": "3.6.6"
  }
 },
 "nbformat": 4,
 "nbformat_minor": 1
}
