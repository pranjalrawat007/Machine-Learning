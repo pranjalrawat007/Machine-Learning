{
 "cells": [
  {
   "cell_type": "code",
   "execution_count": 1,
   "metadata": {
    "_uuid": "e8018483690eb2b708d915c95b6ae98b7781388c",
    "colab": {},
    "colab_type": "code",
    "id": "4MIOl-vrNAGz"
   },
   "outputs": [],
   "source": [
    "# PRELIMINARIES"
   ]
  },
  {
   "cell_type": "code",
   "execution_count": 2,
   "metadata": {
    "_uuid": "502543d959e9b6558b88e6ec5a010185a88dcf1d",
    "colab": {},
    "colab_type": "code",
    "id": "6puL81jF9Onn"
   },
   "outputs": [
    {
     "data": {
      "text/plain": [
       "'\\n\\nlink: https://www.kaggle.com/uciml/sms-spam-collection-dataset/home\\n\\ndataset description: The SMS Spam Collection is a set of SMS \\ntagged messages that have been collected for SMS Spam research.\\nIt contains one set of SMS messages in English of 5,574 messages,\\ntagged acording being ham (legitimate) or spam.\\n\\nThe files contain one message per line. \\nEach line is composed by two columns: \\nv1 contains the label (ham or spam) \\nand v2 contains the raw text.\\n\\n'"
      ]
     },
     "execution_count": 2,
     "metadata": {},
     "output_type": "execute_result"
    }
   ],
   "source": [
    "'''\n",
    "\n",
    "link: https://www.kaggle.com/uciml/sms-spam-collection-dataset/home\n",
    "\n",
    "dataset description: The SMS Spam Collection is a set of SMS \n",
    "tagged messages that have been collected for SMS Spam research.\n",
    "It contains one set of SMS messages in English of 5,574 messages,\n",
    "tagged acording being ham (legitimate) or spam.\n",
    "\n",
    "The files contain one message per line. \n",
    "Each line is composed by two columns: \n",
    "v1 contains the label (ham or spam) \n",
    "and v2 contains the raw text.\n",
    "\n",
    "'''"
   ]
  },
  {
   "cell_type": "code",
   "execution_count": 3,
   "metadata": {
    "_uuid": "201546e64640b4c6e241202a4abed27b4bff9857",
    "colab": {},
    "colab_type": "code",
    "id": "ZqBljI94z6u1"
   },
   "outputs": [],
   "source": [
    "import numpy as np, pandas as pd\n",
    "raw_data = pd.read_csv('../input/spam.csv', encoding = \"ISO-8859-1\")"
   ]
  },
  {
   "cell_type": "code",
   "execution_count": 4,
   "metadata": {
    "_uuid": "01c5f4e4b17e1bf9fa175295361f44ab60d8a3e2",
    "colab": {},
    "colab_type": "code",
    "id": "-lvOpK4U8-53"
   },
   "outputs": [],
   "source": [
    "raw_data['response'] = 0\n",
    "raw_data.loc[raw_data['v1'] == 'spam', 'response'] = 1\n",
    "data = raw_data[['response', 'v2']]\n",
    "data.columns = ['response', 'text']             "
   ]
  },
  {
   "cell_type": "code",
   "execution_count": 5,
   "metadata": {
    "_uuid": "a3b1678cb82877560e7818d8b5aa17f7e0edba2c",
    "colab": {},
    "colab_type": "code",
    "id": "cH6bIyqq_fdI"
   },
   "outputs": [],
   "source": [
    "# EXPLORATORY DATA ANALYSIS"
   ]
  },
  {
   "cell_type": "code",
   "execution_count": 6,
   "metadata": {
    "_uuid": "6730cac2b5be5f7f439f6bce770e8c6ebcdabc61",
    "colab": {
     "base_uri": "https://localhost:8080/",
     "height": 204
    },
    "colab_type": "code",
    "id": "Aj-Aqbed-wgW",
    "outputId": "ec9c26c0-8024-410f-a700-db8944f2d7f5"
   },
   "outputs": [
    {
     "data": {
      "text/html": [
       "<div>\n",
       "<style scoped>\n",
       "    .dataframe tbody tr th:only-of-type {\n",
       "        vertical-align: middle;\n",
       "    }\n",
       "\n",
       "    .dataframe tbody tr th {\n",
       "        vertical-align: top;\n",
       "    }\n",
       "\n",
       "    .dataframe thead th {\n",
       "        text-align: right;\n",
       "    }\n",
       "</style>\n",
       "<table border=\"1\" class=\"dataframe\">\n",
       "  <thead>\n",
       "    <tr style=\"text-align: right;\">\n",
       "      <th></th>\n",
       "      <th>response</th>\n",
       "      <th>text</th>\n",
       "    </tr>\n",
       "  </thead>\n",
       "  <tbody>\n",
       "    <tr>\n",
       "      <th>0</th>\n",
       "      <td>0</td>\n",
       "      <td>Go until jurong point, crazy.. Available only in bugis n great world la e buffet... Cine there got amore wat...</td>\n",
       "    </tr>\n",
       "    <tr>\n",
       "      <th>1</th>\n",
       "      <td>0</td>\n",
       "      <td>Ok lar... Joking wif u oni...</td>\n",
       "    </tr>\n",
       "    <tr>\n",
       "      <th>2</th>\n",
       "      <td>1</td>\n",
       "      <td>Free entry in 2 a wkly comp to win FA Cup final tkts 21st May 2005. Text FA to 87121 to receive entry question(std txt rate)T&amp;C's apply 08452810075over18's</td>\n",
       "    </tr>\n",
       "    <tr>\n",
       "      <th>3</th>\n",
       "      <td>0</td>\n",
       "      <td>U dun say so early hor... U c already then say...</td>\n",
       "    </tr>\n",
       "    <tr>\n",
       "      <th>4</th>\n",
       "      <td>0</td>\n",
       "      <td>Nah I don't think he goes to usf, he lives around here though</td>\n",
       "    </tr>\n",
       "  </tbody>\n",
       "</table>\n",
       "</div>"
      ],
      "text/plain": [
       "   response                                                                                                                                                         text\n",
       "0  0         Go until jurong point, crazy.. Available only in bugis n great world la e buffet... Cine there got amore wat...                                            \n",
       "1  0         Ok lar... Joking wif u oni...                                                                                                                              \n",
       "2  1         Free entry in 2 a wkly comp to win FA Cup final tkts 21st May 2005. Text FA to 87121 to receive entry question(std txt rate)T&C's apply 08452810075over18's\n",
       "3  0         U dun say so early hor... U c already then say...                                                                                                          \n",
       "4  0         Nah I don't think he goes to usf, he lives around here though                                                                                              "
      ]
     },
     "execution_count": 6,
     "metadata": {},
     "output_type": "execute_result"
    }
   ],
   "source": [
    "pd.set_option('display.max_colwidth', -1)\n",
    "data.head()"
   ]
  },
  {
   "cell_type": "code",
   "execution_count": 7,
   "metadata": {
    "_uuid": "42a62dd82e970efb9164027cba517eaf136c0c9b",
    "colab": {
     "base_uri": "https://localhost:8080/",
     "height": 68
    },
    "colab_type": "code",
    "id": "NmzIODVZ7y4u",
    "outputId": "62e9d95f-380e-4c80-b7dc-3f367d6c9332"
   },
   "outputs": [
    {
     "data": {
      "text/plain": [
       "0    4825\n",
       "1    747 \n",
       "Name: response, dtype: int64"
      ]
     },
     "execution_count": 7,
     "metadata": {},
     "output_type": "execute_result"
    }
   ],
   "source": [
    "# Event Rate - how many spam and how many ham? \n",
    "data.response.value_counts()"
   ]
  },
  {
   "cell_type": "code",
   "execution_count": 8,
   "metadata": {
    "_uuid": "1c652b5fc5a7435d3fc201899a247b919de94f6b",
    "colab": {
     "base_uri": "https://localhost:8080/",
     "height": 68
    },
    "colab_type": "code",
    "id": "P6Eb3_ad8bcu",
    "outputId": "b68599d5-1774-4d60-f1f4-0864ed4d22db"
   },
   "outputs": [
    {
     "data": {
      "text/plain": [
       "response    0\n",
       "text        0\n",
       "dtype: int64"
      ]
     },
     "execution_count": 8,
     "metadata": {},
     "output_type": "execute_result"
    }
   ],
   "source": [
    "# Check for Nulls\n",
    "data.isnull().sum()"
   ]
  },
  {
   "cell_type": "code",
   "execution_count": 9,
   "metadata": {
    "_uuid": "f177b94b4d7a3205dded2a8c746c99bdd500f1a3",
    "colab": {},
    "colab_type": "code",
    "id": "9yY8a2cPAKxx"
   },
   "outputs": [],
   "source": [
    "# Check Data Types"
   ]
  },
  {
   "cell_type": "code",
   "execution_count": 10,
   "metadata": {
    "_uuid": "d2933e9f0687a18bfb249ea89a91d2a518a7b089",
    "colab": {
     "base_uri": "https://localhost:8080/",
     "height": 68
    },
    "colab_type": "code",
    "id": "_hJxgW8qAMiq",
    "outputId": "2d4b0bb2-bd85-4a77-b3a8-8524c658aeaa"
   },
   "outputs": [
    {
     "data": {
      "text/plain": [
       "response    int64 \n",
       "text        object\n",
       "dtype: object"
      ]
     },
     "execution_count": 10,
     "metadata": {},
     "output_type": "execute_result"
    }
   ],
   "source": [
    "data['text'].astype('str')\n",
    "data.dtypes"
   ]
  },
  {
   "cell_type": "code",
   "execution_count": 11,
   "metadata": {
    "_uuid": "c220f792a7162d9cf3a94becf521b9147beeb5f4",
    "colab": {},
    "colab_type": "code",
    "id": "bX-LK1-p_TNx"
   },
   "outputs": [],
   "source": [
    "# FEATURE ENGINEERING"
   ]
  },
  {
   "cell_type": "code",
   "execution_count": 12,
   "metadata": {
    "_uuid": "d475ad9f32e27b5da8769f42e925858abb3b428d",
    "colab": {},
    "colab_type": "code",
    "id": "_S006BHr_oql"
   },
   "outputs": [
    {
     "name": "stderr",
     "output_type": "stream",
     "text": [
      "/opt/conda/lib/python3.6/site-packages/ipykernel_launcher.py:2: SettingWithCopyWarning: \n",
      "A value is trying to be set on a copy of a slice from a DataFrame.\n",
      "Try using .loc[row_indexer,col_indexer] = value instead\n",
      "\n",
      "See the caveats in the documentation: http://pandas.pydata.org/pandas-docs/stable/indexing.html#indexing-view-versus-copy\n",
      "  \n"
     ]
    }
   ],
   "source": [
    "# length of text\n",
    "data['text_len'] = data['text'].str.len()"
   ]
  },
  {
   "cell_type": "code",
   "execution_count": 13,
   "metadata": {
    "_uuid": "73426c86d36be1b94d416b343db09869dfd28711",
    "colab": {},
    "colab_type": "code",
    "id": "Kn--B3sEABiC"
   },
   "outputs": [
    {
     "name": "stderr",
     "output_type": "stream",
     "text": [
      "/opt/conda/lib/python3.6/site-packages/ipykernel_launcher.py:2: SettingWithCopyWarning: \n",
      "A value is trying to be set on a copy of a slice from a DataFrame.\n",
      "Try using .loc[row_indexer,col_indexer] = value instead\n",
      "\n",
      "See the caveats in the documentation: http://pandas.pydata.org/pandas-docs/stable/indexing.html#indexing-view-versus-copy\n",
      "  \n"
     ]
    }
   ],
   "source": [
    "# number of words\n",
    "data['text_tokens'] = data['text'].apply(lambda x: len(str(x).split(\" \")))"
   ]
  },
  {
   "cell_type": "code",
   "execution_count": 14,
   "metadata": {
    "_uuid": "2bb69b28dc8264df2cabf2a9215c910c05fa1191",
    "colab": {},
    "colab_type": "code",
    "id": "R-Yq5QJ0AdGt"
   },
   "outputs": [
    {
     "name": "stderr",
     "output_type": "stream",
     "text": [
      "/opt/conda/lib/python3.6/site-packages/ipykernel_launcher.py:6: SettingWithCopyWarning: \n",
      "A value is trying to be set on a copy of a slice from a DataFrame.\n",
      "Try using .loc[row_indexer,col_indexer] = value instead\n",
      "\n",
      "See the caveats in the documentation: http://pandas.pydata.org/pandas-docs/stable/indexing.html#indexing-view-versus-copy\n",
      "  \n"
     ]
    }
   ],
   "source": [
    "# average word length\n",
    "def avg_word(sentence):\n",
    "    words = sentence.split()\n",
    "    return (sum(len(word) for word in words)/len(words))\n",
    "\n",
    "data['text_avg_word_len'] = data['text'].apply(lambda x: avg_word(str(x)))"
   ]
  },
  {
   "cell_type": "code",
   "execution_count": 15,
   "metadata": {
    "_uuid": "59a9aa2fa9deababfd9eec2ac38fa86ae35666ac",
    "colab": {
     "base_uri": "https://localhost:8080/",
     "height": 51
    },
    "colab_type": "code",
    "id": "NMr4sPVIG_Fa",
    "outputId": "2a0cb5da-4f33-401d-97d3-2c4848035009"
   },
   "outputs": [],
   "source": [
    "# number of stop words/fillers (a, an, the...)\n",
    "from nltk.corpus import stopwords\n",
    "stop = stopwords.words('english')\n",
    "stop = stopwords.words('english')\n",
    "data['text_stop_words'] = data['text'].apply(lambda x: len([x for x in str(x).split() if str(x) in stop]))"
   ]
  },
  {
   "cell_type": "code",
   "execution_count": 16,
   "metadata": {
    "_uuid": "89c7c2d1a9930c3444634e37c53b3d36b9980d6c",
    "colab": {},
    "colab_type": "code",
    "id": "z29mHo9BLbqM"
   },
   "outputs": [],
   "source": [
    "# number of 'spamy'/suspicious words\n",
    "data['text_keywords'] = data['text'].apply(lambda x: len([x for x in x.split() if x.lower() in ('free', 'win', 'won', 'exclusive', 'enroll', 'discount', 'prize', 'million')]))"
   ]
  },
  {
   "cell_type": "code",
   "execution_count": 17,
   "metadata": {
    "_uuid": "174c0a8ae4354530f9806086ed558de517f0823a",
    "colab": {},
    "colab_type": "code",
    "id": "Omn8qmwGLUCm"
   },
   "outputs": [],
   "source": [
    "# number of numeric characters\n",
    "data['text_numerics'] = data['text'].apply(lambda x: len([x for x in x.split() if x.isdigit()]))"
   ]
  },
  {
   "cell_type": "code",
   "execution_count": 18,
   "metadata": {
    "_uuid": "01dbdc9c8e943795b91cdeeb2200adafc22317d5",
    "colab": {},
    "colab_type": "code",
    "id": "KXAe1tltN4AB"
   },
   "outputs": [],
   "source": [
    "# number of titled words\n",
    "data['text_titles'] = data['text'].apply(lambda x: len([x for x in x.split() if x.istitle()]))"
   ]
  },
  {
   "cell_type": "code",
   "execution_count": 19,
   "metadata": {
    "_uuid": "db068fe8ba7365b3ffa98e40ee18ade2470b9b36",
    "colab": {},
    "colab_type": "code",
    "id": "iNem1G48OjOd"
   },
   "outputs": [],
   "source": [
    "# TRAIN-TEST DATA SPLIT"
   ]
  },
  {
   "cell_type": "code",
   "execution_count": 20,
   "metadata": {
    "_uuid": "97ac262f4e25ee68c8a0487e491ff3d4bf989c7e",
    "colab": {
     "base_uri": "https://localhost:8080/",
     "height": 170
    },
    "colab_type": "code",
    "id": "yYVzvwI-HJna",
    "outputId": "80c2b562-3da5-4b9f-db5d-df8029f08bc0"
   },
   "outputs": [
    {
     "name": "stdout",
     "output_type": "stream",
     "text": [
      "response             int64  \n",
      "text_len             int64  \n",
      "text_tokens          int64  \n",
      "text_avg_word_len    float64\n",
      "text_stop_words      int64  \n",
      "text_keywords        int64  \n",
      "text_numerics        int64  \n",
      "text_titles          int64  \n",
      "dtype: object\n"
     ]
    }
   ],
   "source": [
    "data_clean = data.drop(['text'], axis = 1)\n",
    "data_clean = data_clean.dropna()\n",
    "print(data_clean.dtypes)\n",
    "y = data_clean['response'].astype('int')\n",
    "X = data_clean.drop('response', axis = 1)"
   ]
  },
  {
   "cell_type": "code",
   "execution_count": 21,
   "metadata": {
    "_uuid": "ec25c45f13eb4c7855cd0eb5885d44e0c8ca7e2d",
    "colab": {
     "base_uri": "https://localhost:8080/",
     "height": 71
    },
    "colab_type": "code",
    "id": "JTBlPhcmHkt2",
    "outputId": "3f79080d-ce44-46ad-b5be-97be890782de"
   },
   "outputs": [
    {
     "name": "stderr",
     "output_type": "stream",
     "text": [
      "/opt/conda/lib/python3.6/site-packages/sklearn/model_selection/_split.py:2179: FutureWarning: From version 0.21, test_size will always complement train_size unless both are specified.\n",
      "  FutureWarning)\n"
     ]
    }
   ],
   "source": [
    "from sklearn.model_selection import train_test_split\n",
    "X_train, X_test, y_train, y_test = train_test_split(X, y, train_size = 0.8, random_state=19)"
   ]
  },
  {
   "cell_type": "code",
   "execution_count": 22,
   "metadata": {
    "_uuid": "602cc3d42d1b54ff06bb56b3a501f670cfa64f41",
    "colab": {},
    "colab_type": "code",
    "id": "HQPGxcrNH2_F"
   },
   "outputs": [],
   "source": [
    "from catboost import Pool, CatBoostClassifier\n",
    "cat_feature_index = np.where(X.dtypes == 'object')[0]\n",
    "train_pool = Pool(X_train, y_train, cat_features = cat_feature_index)\n",
    "test_pool = Pool(X_test, y_test, cat_features = cat_feature_index)"
   ]
  },
  {
   "cell_type": "code",
   "execution_count": 23,
   "metadata": {
    "_uuid": "9e1209c117dc0b51105196797211b508ed9f4566",
    "colab": {
     "base_uri": "https://localhost:8080/",
     "height": 2856
    },
    "colab_type": "code",
    "id": "ZRIEpmGLH4T1",
    "outputId": "f201e9ed-2840-4b3d-9299-bd80ccc71c1a"
   },
   "outputs": [
    {
     "name": "stdout",
     "output_type": "stream",
     "text": [
      "0:\ttest: 0.9676975\tbest: 0.9676975 (0)\ttotal: 65.7ms\tremaining: 1m 5s\n",
      "1:\ttest: 0.9670406\tbest: 0.9676975 (0)\ttotal: 81.1ms\tremaining: 40.5s\n",
      "2:\ttest: 0.9662542\tbest: 0.9676975 (0)\ttotal: 97.3ms\tremaining: 32.4s\n",
      "3:\ttest: 0.9672648\tbest: 0.9676975 (0)\ttotal: 113ms\tremaining: 28.1s\n",
      "4:\ttest: 0.9723812\tbest: 0.9723812 (4)\ttotal: 128ms\tremaining: 25.4s\n",
      "5:\ttest: 0.9727191\tbest: 0.9727191 (5)\ttotal: 142ms\tremaining: 23.6s\n",
      "6:\ttest: 0.9766732\tbest: 0.9766732 (6)\ttotal: 157ms\tremaining: 22.3s\n",
      "7:\ttest: 0.9787419\tbest: 0.9787419 (7)\ttotal: 172ms\tremaining: 21.3s\n",
      "8:\ttest: 0.9797462\tbest: 0.9797462 (8)\ttotal: 187ms\tremaining: 20.6s\n",
      "9:\ttest: 0.9794809\tbest: 0.9797462 (8)\ttotal: 200ms\tremaining: 19.8s\n",
      "10:\ttest: 0.9798315\tbest: 0.9798315 (10)\ttotal: 215ms\tremaining: 19.4s\n",
      "11:\ttest: 0.9798662\tbest: 0.9798662 (11)\ttotal: 231ms\tremaining: 19s\n",
      "12:\ttest: 0.9801726\tbest: 0.9801726 (12)\ttotal: 245ms\tremaining: 18.6s\n",
      "13:\ttest: 0.9812179\tbest: 0.9812179 (13)\ttotal: 260ms\tremaining: 18.3s\n",
      "14:\ttest: 0.9811137\tbest: 0.9812179 (13)\ttotal: 278ms\tremaining: 18.2s\n",
      "15:\ttest: 0.9814232\tbest: 0.9814232 (15)\ttotal: 290ms\tremaining: 17.8s\n",
      "16:\ttest: 0.9815148\tbest: 0.9815148 (16)\ttotal: 305ms\tremaining: 17.7s\n",
      "17:\ttest: 0.9806905\tbest: 0.9815148 (16)\ttotal: 321ms\tremaining: 17.5s\n",
      "18:\ttest: 0.9808863\tbest: 0.9815148 (16)\ttotal: 335ms\tremaining: 17.3s\n",
      "19:\ttest: 0.9809369\tbest: 0.9815148 (16)\ttotal: 349ms\tremaining: 17.1s\n",
      "20:\ttest: 0.9809148\tbest: 0.9815148 (16)\ttotal: 364ms\tremaining: 17s\n",
      "21:\ttest: 0.9813380\tbest: 0.9815148 (16)\ttotal: 379ms\tremaining: 16.9s\n",
      "22:\ttest: 0.9812053\tbest: 0.9815148 (16)\ttotal: 394ms\tremaining: 16.7s\n",
      "23:\ttest: 0.9812811\tbest: 0.9815148 (16)\ttotal: 409ms\tremaining: 16.6s\n",
      "24:\ttest: 0.9814896\tbest: 0.9815148 (16)\ttotal: 423ms\tremaining: 16.5s\n",
      "25:\ttest: 0.9813885\tbest: 0.9815148 (16)\ttotal: 439ms\tremaining: 16.4s\n",
      "26:\ttest: 0.9808832\tbest: 0.9815148 (16)\ttotal: 451ms\tremaining: 16.2s\n",
      "27:\ttest: 0.9808516\tbest: 0.9815148 (16)\ttotal: 465ms\tremaining: 16.1s\n",
      "28:\ttest: 0.9809779\tbest: 0.9815148 (16)\ttotal: 479ms\tremaining: 16s\n",
      "29:\ttest: 0.9813032\tbest: 0.9815148 (16)\ttotal: 494ms\tremaining: 16s\n",
      "30:\ttest: 0.9814485\tbest: 0.9815148 (16)\ttotal: 507ms\tremaining: 15.9s\n",
      "31:\ttest: 0.9815811\tbest: 0.9815811 (31)\ttotal: 522ms\tremaining: 15.8s\n",
      "32:\ttest: 0.9812906\tbest: 0.9815811 (31)\ttotal: 537ms\tremaining: 15.7s\n",
      "33:\ttest: 0.9815243\tbest: 0.9815811 (31)\ttotal: 552ms\tremaining: 15.7s\n",
      "34:\ttest: 0.9814990\tbest: 0.9815811 (31)\ttotal: 567ms\tremaining: 15.6s\n",
      "35:\ttest: 0.9812401\tbest: 0.9815811 (31)\ttotal: 582ms\tremaining: 15.6s\n",
      "36:\ttest: 0.9812780\tbest: 0.9815811 (31)\ttotal: 596ms\tremaining: 15.5s\n",
      "37:\ttest: 0.9812969\tbest: 0.9815811 (31)\ttotal: 611ms\tremaining: 15.5s\n",
      "38:\ttest: 0.9813158\tbest: 0.9815811 (31)\ttotal: 623ms\tremaining: 15.3s\n",
      "39:\ttest: 0.9812464\tbest: 0.9815811 (31)\ttotal: 637ms\tremaining: 15.3s\n",
      "40:\ttest: 0.9812148\tbest: 0.9815811 (31)\ttotal: 651ms\tremaining: 15.2s\n",
      "41:\ttest: 0.9813916\tbest: 0.9815811 (31)\ttotal: 665ms\tremaining: 15.2s\n",
      "42:\ttest: 0.9814169\tbest: 0.9815811 (31)\ttotal: 678ms\tremaining: 15.1s\n",
      "43:\ttest: 0.9812464\tbest: 0.9815811 (31)\ttotal: 693ms\tremaining: 15.1s\n",
      "44:\ttest: 0.9813853\tbest: 0.9815811 (31)\ttotal: 707ms\tremaining: 15s\n",
      "45:\ttest: 0.9814674\tbest: 0.9815811 (31)\ttotal: 722ms\tremaining: 15s\n",
      "46:\ttest: 0.9814359\tbest: 0.9815811 (31)\ttotal: 736ms\tremaining: 14.9s\n",
      "47:\ttest: 0.9814611\tbest: 0.9815811 (31)\ttotal: 749ms\tremaining: 14.9s\n",
      "48:\ttest: 0.9814674\tbest: 0.9815811 (31)\ttotal: 761ms\tremaining: 14.8s\n",
      "49:\ttest: 0.9814864\tbest: 0.9815811 (31)\ttotal: 775ms\tremaining: 14.7s\n",
      "50:\ttest: 0.9816190\tbest: 0.9816190 (50)\ttotal: 789ms\tremaining: 14.7s\n",
      "51:\ttest: 0.9816443\tbest: 0.9816443 (51)\ttotal: 802ms\tremaining: 14.6s\n",
      "52:\ttest: 0.9817264\tbest: 0.9817264 (52)\ttotal: 812ms\tremaining: 14.5s\n",
      "53:\ttest: 0.9818591\tbest: 0.9818591 (53)\ttotal: 826ms\tremaining: 14.5s\n",
      "54:\ttest: 0.9818843\tbest: 0.9818843 (54)\ttotal: 839ms\tremaining: 14.4s\n",
      "55:\ttest: 0.9819222\tbest: 0.9819222 (55)\ttotal: 853ms\tremaining: 14.4s\n",
      "56:\ttest: 0.9819791\tbest: 0.9819791 (56)\ttotal: 867ms\tremaining: 14.3s\n",
      "57:\ttest: 0.9819664\tbest: 0.9819791 (56)\ttotal: 880ms\tremaining: 14.3s\n",
      "58:\ttest: 0.9820359\tbest: 0.9820359 (58)\ttotal: 894ms\tremaining: 14.3s\n",
      "59:\ttest: 0.9820233\tbest: 0.9820359 (58)\ttotal: 907ms\tremaining: 14.2s\n",
      "60:\ttest: 0.9820012\tbest: 0.9820359 (58)\ttotal: 919ms\tremaining: 14.1s\n",
      "61:\ttest: 0.9820265\tbest: 0.9820359 (58)\ttotal: 929ms\tremaining: 14.1s\n",
      "62:\ttest: 0.9823612\tbest: 0.9823612 (62)\ttotal: 943ms\tremaining: 14s\n",
      "63:\ttest: 0.9823612\tbest: 0.9823612 (62)\ttotal: 956ms\tremaining: 14s\n",
      "64:\ttest: 0.9823612\tbest: 0.9823612 (62)\ttotal: 968ms\tremaining: 13.9s\n",
      "65:\ttest: 0.9823612\tbest: 0.9823612 (62)\ttotal: 976ms\tremaining: 13.8s\n",
      "66:\ttest: 0.9823296\tbest: 0.9823612 (62)\ttotal: 991ms\tremaining: 13.8s\n",
      "67:\ttest: 0.9825065\tbest: 0.9825065 (67)\ttotal: 1s\tremaining: 13.8s\n",
      "68:\ttest: 0.9825191\tbest: 0.9825191 (68)\ttotal: 1.02s\tremaining: 13.7s\n",
      "69:\ttest: 0.9825634\tbest: 0.9825634 (69)\ttotal: 1.03s\tremaining: 13.7s\n",
      "70:\ttest: 0.9825760\tbest: 0.9825760 (70)\ttotal: 1.04s\tremaining: 13.6s\n",
      "71:\ttest: 0.9825886\tbest: 0.9825886 (71)\ttotal: 1.06s\tremaining: 13.6s\n",
      "72:\ttest: 0.9826392\tbest: 0.9826392 (72)\ttotal: 1.07s\tremaining: 13.6s\n",
      "73:\ttest: 0.9828476\tbest: 0.9828476 (73)\ttotal: 1.08s\tremaining: 13.6s\n",
      "74:\ttest: 0.9828602\tbest: 0.9828602 (74)\ttotal: 1.1s\tremaining: 13.5s\n",
      "75:\ttest: 0.9828286\tbest: 0.9828602 (74)\ttotal: 1.11s\tremaining: 13.5s\n",
      "76:\ttest: 0.9829171\tbest: 0.9829171 (76)\ttotal: 1.12s\tremaining: 13.4s\n",
      "77:\ttest: 0.9829423\tbest: 0.9829423 (77)\ttotal: 1.13s\tremaining: 13.4s\n",
      "78:\ttest: 0.9829613\tbest: 0.9829613 (78)\ttotal: 1.15s\tremaining: 13.4s\n",
      "79:\ttest: 0.9829992\tbest: 0.9829992 (79)\ttotal: 1.16s\tremaining: 13.3s\n",
      "80:\ttest: 0.9830308\tbest: 0.9830308 (80)\ttotal: 1.17s\tremaining: 13.3s\n",
      "81:\ttest: 0.9828792\tbest: 0.9830308 (80)\ttotal: 1.19s\tremaining: 13.3s\n",
      "82:\ttest: 0.9829613\tbest: 0.9830308 (80)\ttotal: 1.2s\tremaining: 13.3s\n",
      "83:\ttest: 0.9830402\tbest: 0.9830402 (83)\ttotal: 1.22s\tremaining: 13.3s\n",
      "84:\ttest: 0.9830718\tbest: 0.9830718 (84)\ttotal: 1.23s\tremaining: 13.2s\n",
      "85:\ttest: 0.9831034\tbest: 0.9831034 (85)\ttotal: 1.24s\tremaining: 13.2s\n",
      "86:\ttest: 0.9829834\tbest: 0.9831034 (85)\ttotal: 1.26s\tremaining: 13.2s\n",
      "87:\ttest: 0.9829960\tbest: 0.9831034 (85)\ttotal: 1.26s\tremaining: 13.1s\n",
      "88:\ttest: 0.9830718\tbest: 0.9831034 (85)\ttotal: 1.28s\tremaining: 13.1s\n",
      "89:\ttest: 0.9830971\tbest: 0.9831034 (85)\ttotal: 1.29s\tremaining: 13s\n",
      "90:\ttest: 0.9830339\tbest: 0.9831034 (85)\ttotal: 1.3s\tremaining: 13s\n",
      "91:\ttest: 0.9830150\tbest: 0.9831034 (85)\ttotal: 1.32s\tremaining: 13s\n",
      "92:\ttest: 0.9829960\tbest: 0.9831034 (85)\ttotal: 1.33s\tremaining: 13s\n",
      "93:\ttest: 0.9827813\tbest: 0.9831034 (85)\ttotal: 1.34s\tremaining: 12.9s\n",
      "94:\ttest: 0.9829202\tbest: 0.9831034 (85)\ttotal: 1.35s\tremaining: 12.9s\n",
      "95:\ttest: 0.9829013\tbest: 0.9831034 (85)\ttotal: 1.37s\tremaining: 12.9s\n",
      "96:\ttest: 0.9830781\tbest: 0.9831034 (85)\ttotal: 1.38s\tremaining: 12.9s\n",
      "97:\ttest: 0.9830908\tbest: 0.9831034 (85)\ttotal: 1.39s\tremaining: 12.8s\n",
      "98:\ttest: 0.9832108\tbest: 0.9832108 (98)\ttotal: 1.41s\tremaining: 12.8s\n",
      "99:\ttest: 0.9833182\tbest: 0.9833182 (99)\ttotal: 1.42s\tremaining: 12.8s\n",
      "100:\ttest: 0.9833245\tbest: 0.9833245 (100)\ttotal: 1.43s\tremaining: 12.8s\n",
      "101:\ttest: 0.9833371\tbest: 0.9833371 (101)\ttotal: 1.45s\tremaining: 12.7s\n",
      "102:\ttest: 0.9834950\tbest: 0.9834950 (102)\ttotal: 1.47s\tremaining: 12.8s\n",
      "103:\ttest: 0.9833813\tbest: 0.9834950 (102)\ttotal: 1.48s\tremaining: 12.7s\n",
      "104:\ttest: 0.9832487\tbest: 0.9834950 (102)\ttotal: 1.49s\tremaining: 12.7s\n",
      "105:\ttest: 0.9833498\tbest: 0.9834950 (102)\ttotal: 1.5s\tremaining: 12.7s\n",
      "106:\ttest: 0.9834950\tbest: 0.9834950 (102)\ttotal: 1.51s\tremaining: 12.6s\n",
      "107:\ttest: 0.9835708\tbest: 0.9835708 (107)\ttotal: 1.52s\tremaining: 12.6s\n",
      "108:\ttest: 0.9835519\tbest: 0.9835708 (107)\ttotal: 1.54s\tremaining: 12.6s\n",
      "109:\ttest: 0.9836024\tbest: 0.9836024 (109)\ttotal: 1.55s\tremaining: 12.5s\n",
      "110:\ttest: 0.9837414\tbest: 0.9837414 (110)\ttotal: 1.56s\tremaining: 12.5s\n",
      "111:\ttest: 0.9838551\tbest: 0.9838551 (111)\ttotal: 1.58s\tremaining: 12.5s\n",
      "112:\ttest: 0.9838551\tbest: 0.9838551 (111)\ttotal: 1.59s\tremaining: 12.5s\n",
      "113:\ttest: 0.9839246\tbest: 0.9839246 (113)\ttotal: 1.6s\tremaining: 12.4s\n",
      "114:\ttest: 0.9838172\tbest: 0.9839246 (113)\ttotal: 1.61s\tremaining: 12.4s\n",
      "115:\ttest: 0.9839372\tbest: 0.9839372 (115)\ttotal: 1.62s\tremaining: 12.4s\n",
      "116:\ttest: 0.9839688\tbest: 0.9839688 (116)\ttotal: 1.64s\tremaining: 12.3s\n",
      "117:\ttest: 0.9840635\tbest: 0.9840635 (117)\ttotal: 1.65s\tremaining: 12.3s\n",
      "118:\ttest: 0.9840888\tbest: 0.9840888 (118)\ttotal: 1.66s\tremaining: 12.3s\n",
      "119:\ttest: 0.9839435\tbest: 0.9840888 (118)\ttotal: 1.67s\tremaining: 12.3s\n",
      "120:\ttest: 0.9839498\tbest: 0.9840888 (118)\ttotal: 1.68s\tremaining: 12.2s\n",
      "121:\ttest: 0.9839625\tbest: 0.9840888 (118)\ttotal: 1.69s\tremaining: 12.2s\n",
      "122:\ttest: 0.9839814\tbest: 0.9840888 (118)\ttotal: 1.71s\tremaining: 12.2s\n",
      "123:\ttest: 0.9839751\tbest: 0.9840888 (118)\ttotal: 1.72s\tremaining: 12.1s\n",
      "124:\ttest: 0.9842025\tbest: 0.9842025 (124)\ttotal: 1.73s\tremaining: 12.1s\n",
      "125:\ttest: 0.9840572\tbest: 0.9842025 (124)\ttotal: 1.74s\tremaining: 12.1s\n",
      "126:\ttest: 0.9841077\tbest: 0.9842025 (124)\ttotal: 1.76s\tremaining: 12.1s\n",
      "127:\ttest: 0.9841330\tbest: 0.9842025 (124)\ttotal: 1.77s\tremaining: 12.1s\n",
      "128:\ttest: 0.9841772\tbest: 0.9842025 (124)\ttotal: 1.79s\tremaining: 12.1s\n",
      "129:\ttest: 0.9842025\tbest: 0.9842025 (124)\ttotal: 1.8s\tremaining: 12s\n",
      "130:\ttest: 0.9841709\tbest: 0.9842025 (124)\ttotal: 1.81s\tremaining: 12s\n",
      "131:\ttest: 0.9841835\tbest: 0.9842025 (124)\ttotal: 1.83s\tremaining: 12s\n",
      "132:\ttest: 0.9841835\tbest: 0.9842025 (124)\ttotal: 1.84s\tremaining: 12s\n",
      "133:\ttest: 0.9841456\tbest: 0.9842025 (124)\ttotal: 1.86s\tremaining: 12s\n",
      "134:\ttest: 0.9841330\tbest: 0.9842025 (124)\ttotal: 1.87s\tremaining: 12s\n",
      "135:\ttest: 0.9841267\tbest: 0.9842025 (124)\ttotal: 1.88s\tremaining: 12s\n",
      "136:\ttest: 0.9841898\tbest: 0.9842025 (124)\ttotal: 1.9s\tremaining: 11.9s\n",
      "137:\ttest: 0.9842593\tbest: 0.9842593 (137)\ttotal: 1.91s\tremaining: 11.9s\n",
      "138:\ttest: 0.9844046\tbest: 0.9844046 (138)\ttotal: 1.92s\tremaining: 11.9s\n",
      "139:\ttest: 0.9844236\tbest: 0.9844236 (139)\ttotal: 1.94s\tremaining: 11.9s\n",
      "140:\ttest: 0.9844615\tbest: 0.9844615 (140)\ttotal: 1.95s\tremaining: 11.9s\n",
      "141:\ttest: 0.9844994\tbest: 0.9844994 (141)\ttotal: 1.96s\tremaining: 11.9s\n",
      "142:\ttest: 0.9844425\tbest: 0.9844994 (141)\ttotal: 1.98s\tremaining: 11.8s\n",
      "143:\ttest: 0.9844299\tbest: 0.9844994 (141)\ttotal: 1.99s\tremaining: 11.8s\n",
      "144:\ttest: 0.9843667\tbest: 0.9844994 (141)\ttotal: 2s\tremaining: 11.8s\n",
      "145:\ttest: 0.9842530\tbest: 0.9844994 (141)\ttotal: 2.02s\tremaining: 11.8s\n",
      "146:\ttest: 0.9842972\tbest: 0.9844994 (141)\ttotal: 2.03s\tremaining: 11.8s\n",
      "147:\ttest: 0.9843099\tbest: 0.9844994 (141)\ttotal: 2.05s\tremaining: 11.8s\n",
      "148:\ttest: 0.9843288\tbest: 0.9844994 (141)\ttotal: 2.06s\tremaining: 11.8s\n",
      "149:\ttest: 0.9842972\tbest: 0.9844994 (141)\ttotal: 2.07s\tremaining: 11.8s\n",
      "150:\ttest: 0.9843035\tbest: 0.9844994 (141)\ttotal: 2.09s\tremaining: 11.7s\n",
      "151:\ttest: 0.9842593\tbest: 0.9844994 (141)\ttotal: 2.1s\tremaining: 11.7s\n",
      "152:\ttest: 0.9842341\tbest: 0.9844994 (141)\ttotal: 2.12s\tremaining: 11.7s\n",
      "153:\ttest: 0.9842593\tbest: 0.9844994 (141)\ttotal: 2.13s\tremaining: 11.7s\n",
      "154:\ttest: 0.9844425\tbest: 0.9844994 (141)\ttotal: 2.14s\tremaining: 11.7s\n",
      "155:\ttest: 0.9844425\tbest: 0.9844994 (141)\ttotal: 2.15s\tremaining: 11.7s\n",
      "156:\ttest: 0.9843478\tbest: 0.9844994 (141)\ttotal: 2.17s\tremaining: 11.6s\n",
      "157:\ttest: 0.9843099\tbest: 0.9844994 (141)\ttotal: 2.18s\tremaining: 11.6s\n",
      "158:\ttest: 0.9843541\tbest: 0.9844994 (141)\ttotal: 2.19s\tremaining: 11.6s\n",
      "159:\ttest: 0.9842404\tbest: 0.9844994 (141)\ttotal: 2.21s\tremaining: 11.6s\n",
      "160:\ttest: 0.9841709\tbest: 0.9844994 (141)\ttotal: 2.22s\tremaining: 11.6s\n",
      "161:\ttest: 0.9842151\tbest: 0.9844994 (141)\ttotal: 2.23s\tremaining: 11.6s\n",
      "162:\ttest: 0.9841898\tbest: 0.9844994 (141)\ttotal: 2.25s\tremaining: 11.5s\n",
      "163:\ttest: 0.9842467\tbest: 0.9844994 (141)\ttotal: 2.26s\tremaining: 11.5s\n",
      "164:\ttest: 0.9842277\tbest: 0.9844994 (141)\ttotal: 2.27s\tremaining: 11.5s\n",
      "165:\ttest: 0.9842467\tbest: 0.9844994 (141)\ttotal: 2.29s\tremaining: 11.5s\n",
      "166:\ttest: 0.9842341\tbest: 0.9844994 (141)\ttotal: 2.3s\tremaining: 11.5s\n",
      "167:\ttest: 0.9842404\tbest: 0.9844994 (141)\ttotal: 2.31s\tremaining: 11.5s\n",
      "168:\ttest: 0.9841835\tbest: 0.9844994 (141)\ttotal: 2.33s\tremaining: 11.4s\n",
      "169:\ttest: 0.9841267\tbest: 0.9844994 (141)\ttotal: 2.34s\tremaining: 11.4s\n",
      "170:\ttest: 0.9841330\tbest: 0.9844994 (141)\ttotal: 2.35s\tremaining: 11.4s\n",
      "171:\ttest: 0.9841898\tbest: 0.9844994 (141)\ttotal: 2.36s\tremaining: 11.4s\n",
      "172:\ttest: 0.9841898\tbest: 0.9844994 (141)\ttotal: 2.38s\tremaining: 11.4s\n",
      "173:\ttest: 0.9839498\tbest: 0.9844994 (141)\ttotal: 2.39s\tremaining: 11.3s\n",
      "174:\ttest: 0.9840383\tbest: 0.9844994 (141)\ttotal: 2.4s\tremaining: 11.3s\n",
      "175:\ttest: 0.9839561\tbest: 0.9844994 (141)\ttotal: 2.42s\tremaining: 11.3s\n",
      "176:\ttest: 0.9839877\tbest: 0.9844994 (141)\ttotal: 2.43s\tremaining: 11.3s\n",
      "177:\ttest: 0.9838614\tbest: 0.9844994 (141)\ttotal: 2.44s\tremaining: 11.3s\n",
      "178:\ttest: 0.9841077\tbest: 0.9844994 (141)\ttotal: 2.46s\tremaining: 11.3s\n",
      "179:\ttest: 0.9840635\tbest: 0.9844994 (141)\ttotal: 2.47s\tremaining: 11.3s\n",
      "180:\ttest: 0.9839940\tbest: 0.9844994 (141)\ttotal: 2.48s\tremaining: 11.2s\n",
      "181:\ttest: 0.9840446\tbest: 0.9844994 (141)\ttotal: 2.5s\tremaining: 11.2s\n",
      "182:\ttest: 0.9837730\tbest: 0.9844994 (141)\ttotal: 2.51s\tremaining: 11.2s\n",
      "183:\ttest: 0.9837982\tbest: 0.9844994 (141)\ttotal: 2.52s\tremaining: 11.2s\n",
      "184:\ttest: 0.9837856\tbest: 0.9844994 (141)\ttotal: 2.54s\tremaining: 11.2s\n",
      "185:\ttest: 0.9837540\tbest: 0.9844994 (141)\ttotal: 2.55s\tremaining: 11.2s\n",
      "186:\ttest: 0.9838551\tbest: 0.9844994 (141)\ttotal: 2.56s\tremaining: 11.1s\n",
      "187:\ttest: 0.9839435\tbest: 0.9844994 (141)\ttotal: 2.58s\tremaining: 11.1s\n",
      "188:\ttest: 0.9839625\tbest: 0.9844994 (141)\ttotal: 2.59s\tremaining: 11.1s\n",
      "189:\ttest: 0.9838930\tbest: 0.9844994 (141)\ttotal: 2.6s\tremaining: 11.1s\n",
      "190:\ttest: 0.9839182\tbest: 0.9844994 (141)\ttotal: 2.62s\tremaining: 11.1s\n",
      "191:\ttest: 0.9839877\tbest: 0.9844994 (141)\ttotal: 2.63s\tremaining: 11.1s\n",
      "Stopped by overfitting detector  (50 iterations wait)\n",
      "\n",
      "bestTest = 0.9844993557\n",
      "bestIteration = 141\n",
      "\n",
      "Shrink model to first 142 iterations.\n"
     ]
    },
    {
     "data": {
      "text/plain": [
       "<catboost.core.CatBoostClassifier at 0x7fe01e0b55f8>"
      ]
     },
     "execution_count": 23,
     "metadata": {},
     "output_type": "execute_result"
    }
   ],
   "source": [
    "from catboost import Pool, CatBoostClassifier\n",
    "\n",
    "cat_model = CatBoostClassifier(\n",
    "    depth = 6,\n",
    "    random_seed = 3, \n",
    "    learning_rate = 0.1, \n",
    "    eval_metric = 'AUC',\n",
    "    #iterations = 500,\n",
    "    verbose = True,\n",
    "    loss_function= 'Logloss',\n",
    "    od_type='Iter', # overfitting detector - by iterations\n",
    "    od_wait=50 # prevent overfitting by ending training after 1 rounds without best value\n",
    "     )\n",
    "\n",
    "cat_model.fit(\n",
    "    train_pool,\n",
    "    eval_set = test_pool, \n",
    "    use_best_model = True\n",
    "    )"
   ]
  },
  {
   "cell_type": "code",
   "execution_count": 24,
   "metadata": {
    "_uuid": "004f57ee795760a5d270061a48f5d7951bcd057d",
    "colab": {
     "base_uri": "https://localhost:8080/",
     "height": 266
    },
    "colab_type": "code",
    "id": "7fM5EeQOIYUJ",
    "outputId": "fe234232-2caf-4230-d380-96791813ea32"
   },
   "outputs": [
    {
     "data": {
      "text/html": [
       "<div>\n",
       "<style scoped>\n",
       "    .dataframe tbody tr th:only-of-type {\n",
       "        vertical-align: middle;\n",
       "    }\n",
       "\n",
       "    .dataframe tbody tr th {\n",
       "        vertical-align: top;\n",
       "    }\n",
       "\n",
       "    .dataframe thead th {\n",
       "        text-align: right;\n",
       "    }\n",
       "</style>\n",
       "<table border=\"1\" class=\"dataframe\">\n",
       "  <thead>\n",
       "    <tr style=\"text-align: right;\">\n",
       "      <th></th>\n",
       "      <th>0</th>\n",
       "      <th>1</th>\n",
       "    </tr>\n",
       "  </thead>\n",
       "  <tbody>\n",
       "    <tr>\n",
       "      <th>2</th>\n",
       "      <td>text_avg_word_len</td>\n",
       "      <td>34.6084</td>\n",
       "    </tr>\n",
       "    <tr>\n",
       "      <th>0</th>\n",
       "      <td>text_len</td>\n",
       "      <td>19.3112</td>\n",
       "    </tr>\n",
       "    <tr>\n",
       "      <th>5</th>\n",
       "      <td>text_numerics</td>\n",
       "      <td>16.4251</td>\n",
       "    </tr>\n",
       "    <tr>\n",
       "      <th>1</th>\n",
       "      <td>text_tokens</td>\n",
       "      <td>12.9016</td>\n",
       "    </tr>\n",
       "    <tr>\n",
       "      <th>4</th>\n",
       "      <td>text_keywords</td>\n",
       "      <td>7.45372</td>\n",
       "    </tr>\n",
       "    <tr>\n",
       "      <th>3</th>\n",
       "      <td>text_stop_words</td>\n",
       "      <td>5.48134</td>\n",
       "    </tr>\n",
       "    <tr>\n",
       "      <th>6</th>\n",
       "      <td>text_titles</td>\n",
       "      <td>3.81869</td>\n",
       "    </tr>\n",
       "  </tbody>\n",
       "</table>\n",
       "</div>"
      ],
      "text/plain": [
       "                   0        1\n",
       "2  text_avg_word_len  34.6084\n",
       "0  text_len           19.3112\n",
       "5  text_numerics      16.4251\n",
       "1  text_tokens        12.9016\n",
       "4  text_keywords      7.45372\n",
       "3  text_stop_words    5.48134\n",
       "6  text_titles        3.81869"
      ]
     },
     "execution_count": 24,
     "metadata": {},
     "output_type": "execute_result"
    }
   ],
   "source": [
    "#CAT FEATURE IMPORTANCE\n",
    "\n",
    "feature_importance = cat_model.get_feature_importance(train_pool)\n",
    "feature_names = X_train.columns\n",
    "feature_imp = pd.DataFrame([feature_names, feature_importance])\n",
    "final = feature_imp.transpose()\n",
    "final.sort_values(by = 1, ascending = False, inplace = True)\n",
    "pd.set_option('display.max_colwidth', -1)\n",
    "final.head(10)"
   ]
  },
  {
   "cell_type": "code",
   "execution_count": 25,
   "metadata": {
    "_uuid": "52a500de3e1c32009b1a2730a1cf327591d9b261",
    "colab": {
     "base_uri": "https://localhost:8080/",
     "height": 612
    },
    "colab_type": "code",
    "id": "KOJeCyg2Il5w",
    "outputId": "c6c29973-30c0-4dc1-bab5-790dd86e74be"
   },
   "outputs": [
    {
     "name": "stdout",
     "output_type": "stream",
     "text": [
      "[0 0 0 1 0]\n",
      "[[0.91190116 0.08809884]\n",
      " [0.95829433 0.04170567]\n",
      " [0.99117778 0.00882222]\n",
      " [0.00241838 0.99758162]\n",
      " [0.99780588 0.00219412]]\n",
      "CAT MODEL EVALUATION\n",
      "count    5572.000000\n",
      "mean     0.134063   \n",
      "std      0.340751   \n",
      "min      0.000000   \n",
      "25%      0.000000   \n",
      "50%      0.000000   \n",
      "75%      0.000000   \n",
      "max      1.000000   \n",
      "Name: response, dtype: float64\n",
      "\n",
      "Accuracy:  0.9623318385650225\n",
      "Precision:  0.9562043795620438\n",
      "Recall:  0.7844311377245509\n",
      "F1:  0.8618421052631579\n",
      "Area under ROC Curve:  0.9844993557189419\n",
      "GINI:  0.9689987114378837\n",
      "True Negatives:  942\n",
      "True Positives:  131\n",
      "False Negatives:  36\n",
      "False Positives:  6\n",
      "\n",
      "Total SMS:  1115\n",
      "No. of SMS the Model Declares as Spam:  137\n",
      "No. of SMS that were actually SPAM:  167\n",
      "No. of Spam SMS caught by Model:  131\n",
      "\n",
      "Proportion of SMS Declared as Spam:  0.12286995515695068\n",
      "Proportion of Spam SMS Caught by Model:  0.7844311377245509\n"
     ]
    }
   ],
   "source": [
    "# CAT MODEL EVALUATION\n",
    "\n",
    "# CAT PREDICTIONS\n",
    "cat_predictions_probs = cat_model.predict_proba(test_pool)\n",
    "cat_predictions = np.where(cat_predictions_probs[:,1] > 0.5, 1, 0)\n",
    "print(cat_predictions[:5]) # predicted class\n",
    "print(cat_predictions_probs[:5]) # probability scores\n",
    "\n",
    "print('CAT MODEL EVALUATION')\n",
    "print(y.describe())\n",
    "from sklearn.metrics import accuracy_score, precision_score, recall_score, f1_score, roc_auc_score, confusion_matrix, roc_curve, auc\n",
    "print('\\nAccuracy: ', str(accuracy_score(y_test, cat_predictions)))\n",
    "print('Precision: ', str(precision_score(y_test, cat_predictions)))\n",
    "print('Recall: ', str(recall_score(y_test, cat_predictions)))\n",
    "print('F1: ', str(f1_score(y_test, cat_predictions)))\n",
    "print('Area under ROC Curve: ', str(roc_auc_score(y_test, cat_predictions_probs[:,1])))\n",
    "print('GINI: ', str(-1 + 2*roc_auc_score(y_test, cat_predictions_probs[:,1])))\n",
    "\n",
    "tn, fp, fn, tp = confusion_matrix(y_test, cat_predictions).ravel()\n",
    "\n",
    "print('True Negatives: ', str(tn))\n",
    "print('True Positives: ', str(tp))\n",
    "print('False Negatives: ', str(fn))\n",
    "print('False Positives: ', str(fp))\n",
    "\n",
    "print('\\nTotal SMS: ', str(tn+fp+fn+tp))\n",
    "print('No. of SMS the Model Declares as Spam: ', str(fp+tp))\n",
    "print('No. of SMS that were actually SPAM: ', str(tp+fn))\n",
    "print('No. of Spam SMS caught by Model: ', str(tp))\n",
    "\n",
    "print('\\nProportion of SMS Declared as Spam: ', str((fp+tp)/(tn+fp+fn+tp)))\n",
    "print('Proportion of Spam SMS Caught by Model: ', str(tp/(tp+fn)))"
   ]
  }
 ],
 "metadata": {
  "colab": {
   "name": "SMSclassification.ipynb",
   "provenance": [],
   "version": "0.3.2"
  },
  "kernelspec": {
   "display_name": "Python 3",
   "language": "python",
   "name": "python3"
  },
  "language_info": {
   "codemirror_mode": {
    "name": "ipython",
    "version": 3
   },
   "file_extension": ".py",
   "mimetype": "text/x-python",
   "name": "python",
   "nbconvert_exporter": "python",
   "pygments_lexer": "ipython3",
   "version": "3.6.6"
  }
 },
 "nbformat": 4,
 "nbformat_minor": 1
}
