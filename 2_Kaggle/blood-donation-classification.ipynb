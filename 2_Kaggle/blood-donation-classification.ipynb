{
 "cells": [
  {
   "cell_type": "code",
   "execution_count": 1,
   "metadata": {
    "_uuid": "a9ba8dd4067b92fd905a6dc257d2f8934c249016"
   },
   "outputs": [],
   "source": [
    "import pandas as pd, numpy as np\n",
    "train = pd.read_csv('../input/training.csv')\n",
    "test = pd.read_csv('../input/testing.csv')"
   ]
  },
  {
   "cell_type": "code",
   "execution_count": 2,
   "metadata": {
    "_uuid": "81ec470ed65d3b7007376fcda117aac9797e0c21"
   },
   "outputs": [],
   "source": [
    "test['Made Donation in March 2007'] = 'NaN'\n",
    "data = train.append(test)\n",
    "\n",
    "# feature engineering\n",
    "\n",
    "data['Months Donating'] = data['Months since First Donation'] - data['Months since Last Donation']\n",
    "\n",
    "data['Donations per Months Donating'] = data[\"\"\"Total Volume Donated (c.c.)\"\"\"]/data['Months Donating']\n",
    "data['Donations per Months Donating'] = data['Donations per Months Donating'].replace(np.inf, 999)\n",
    "\n",
    "data['Donations per Months since First Donation'] = data[\"\"\"Total Volume Donated (c.c.)\"\"\"]/data['Months since First Donation']\n",
    "\n",
    "data['Donation Counts per Months Donating'] = data['Number of Donations']/data['Months Donating']\n",
    "data['Donation Counts per Months Donating'] = data['Donation Counts per Months Donating'].replace(np.inf, 999)\n",
    "\n",
    "data['Donation Counts per Months since First Donating'] = data['Number of Donations']/data['Months since First Donation']\n",
    "data['Donation Counts per Months since First Donating'] = data['Donation Counts per Months since First Donating'].replace(np.inf, 999)\n",
    "\n",
    "data['Donation Volume per Donation'] = (data[\"\"\"Total Volume Donated (c.c.)\"\"\"]/data['Number of Donations']).replace(np.inf, 999)\n",
    "data['Unknown per Donation'] = (data[\"Unnamed: 0\"]/data['Number of Donations']).replace(np.inf, 999)"
   ]
  },
  {
   "cell_type": "code",
   "execution_count": 3,
   "metadata": {
    "_uuid": "6d1560d05f26f825e0f9f6ad32952a049c202c03"
   },
   "outputs": [],
   "source": [
    "test = data[data['Made Donation in March 2007'] == 'NaN']\n",
    "test.drop([\"Made Donation in March 2007\"], axis = 1)\n",
    "train = data[data['Made Donation in March 2007'] != 'NaN']"
   ]
  },
  {
   "cell_type": "code",
   "execution_count": 4,
   "metadata": {
    "_uuid": "3ae758a5de409b35e371f61a5331168c9c4c08fd"
   },
   "outputs": [
    {
     "name": "stderr",
     "output_type": "stream",
     "text": [
      "/opt/conda/lib/python3.6/site-packages/sklearn/model_selection/_split.py:2179: FutureWarning: From version 0.21, test_size will always complement train_size unless both are specified.\n",
      "  FutureWarning)\n"
     ]
    }
   ],
   "source": [
    "X = train.drop(['Made Donation in March 2007'], axis = 1)\n",
    "y = train['Made Donation in March 2007']\n",
    "\n",
    "from sklearn.model_selection import train_test_split\n",
    "X_train, X_test, y_train, y_test = train_test_split(X, y, train_size = 0.8, random_state=42)"
   ]
  },
  {
   "cell_type": "code",
   "execution_count": 5,
   "metadata": {
    "_uuid": "a85e1ff253d1272a557cfc3c82217fd7caae1b8d"
   },
   "outputs": [
    {
     "name": "stdout",
     "output_type": "stream",
     "text": [
      "Learning rate set to 0.071919\n",
      "0:\ttest: 0.7401902\tbest: 0.7401902 (0)\ttotal: 73.4ms\tremaining: 1m 13s\n",
      "100:\ttest: 0.7923107\tbest: 0.8030123 (43)\ttotal: 909ms\tremaining: 8.09s\n",
      "200:\ttest: 0.7695204\tbest: 0.8030123 (43)\ttotal: 1.53s\tremaining: 6.07s\n",
      "300:\ttest: 0.7643678\tbest: 0.8030123 (43)\ttotal: 2.22s\tremaining: 5.16s\n",
      "400:\ttest: 0.7623860\tbest: 0.8030123 (43)\ttotal: 2.9s\tremaining: 4.33s\n",
      "500:\ttest: 0.7639715\tbest: 0.8030123 (43)\ttotal: 3.59s\tremaining: 3.58s\n",
      "600:\ttest: 0.7604043\tbest: 0.8030123 (43)\ttotal: 4.27s\tremaining: 2.84s\n",
      "700:\ttest: 0.7643678\tbest: 0.8030123 (43)\ttotal: 4.95s\tremaining: 2.11s\n",
      "800:\ttest: 0.7683314\tbest: 0.8030123 (43)\ttotal: 5.61s\tremaining: 1.39s\n",
      "900:\ttest: 0.7671423\tbest: 0.8030123 (43)\ttotal: 6.29s\tremaining: 691ms\n",
      "999:\ttest: 0.7631788\tbest: 0.8030123 (43)\ttotal: 6.97s\tremaining: 0us\n",
      "\n",
      "bestTest = 0.803012287\n",
      "bestIteration = 43\n",
      "\n",
      "Shrink model to first 44 iterations.\n"
     ]
    },
    {
     "data": {
      "text/plain": [
       "<catboost.core.CatBoostClassifier at 0x7f544c8535c0>"
      ]
     },
     "execution_count": 5,
     "metadata": {},
     "output_type": "execute_result"
    }
   ],
   "source": [
    "from catboost import Pool, CatBoostClassifier\n",
    "\n",
    "train_pool = Pool(X_train, y_train, cat_features = [])\n",
    "test_pool = Pool(X_test, y_test, cat_features = [])\n",
    "\n",
    "model = CatBoostClassifier(\n",
    "    depth = 4,\n",
    "    random_seed = 42, \n",
    "    eval_metric = 'AUC',\n",
    "    iterations = 1000,\n",
    "    class_weights = [1, 3],\n",
    "    verbose = True,\n",
    "    loss_function= 'Logloss'\n",
    "     )\n",
    "\n",
    "model.fit(\n",
    "    train_pool, \n",
    "    cat_features = None,\n",
    "    eval_set = test_pool, \n",
    "    use_best_model = True,\n",
    "    verbose = 100\n",
    "    )"
   ]
  },
  {
   "cell_type": "code",
   "execution_count": 6,
   "metadata": {
    "_uuid": "d82c0a970efcf732e143578ad7b7305e9100ded4"
   },
   "outputs": [
    {
     "data": {
      "text/plain": [
       "'\\nfrom xgboost import XGBClassifier\\nmodel = XGBClassifier()\\nmodel.fit(X_train, y_train)\\n'"
      ]
     },
     "execution_count": 6,
     "metadata": {},
     "output_type": "execute_result"
    }
   ],
   "source": [
    "'''\n",
    "from xgboost import XGBClassifier\n",
    "model = XGBClassifier()\n",
    "model.fit(X_train, y_train)\n",
    "'''"
   ]
  },
  {
   "cell_type": "code",
   "execution_count": 7,
   "metadata": {
    "_uuid": "b16a78870b50ddd2a6d391be082b36c9d977ba3e"
   },
   "outputs": [],
   "source": [
    "# predictions\n",
    "predictions = model.predict(X_test).astype('int')\n",
    "predictions_probs = model.predict_proba(X_test)\n",
    "y_test = y_test.astype('int')"
   ]
  },
  {
   "cell_type": "code",
   "execution_count": 8,
   "metadata": {
    "_uuid": "c2434ca930bdc4db71c18e2180854c7a29c521d0"
   },
   "outputs": [
    {
     "name": "stdout",
     "output_type": "stream",
     "text": [
      "Accuracy:  0.7155172413793104\n",
      "Precision:  0.45454545454545453\n",
      "Recall:  0.6896551724137931\n",
      "F1:  0.547945205479452\n",
      "Area under ROC Curve:  0.8030122869599683\n",
      "GINI:  0.6060245739199366\n",
      "True Negatives:  63\n",
      "True Positives:  20\n",
      "False Negatives:  9\n",
      "False Positives:  24\n"
     ]
    }
   ],
   "source": [
    "# MODEL EVALUATION\n",
    "\n",
    "from sklearn.metrics import accuracy_score, precision_score, recall_score, f1_score, roc_auc_score, confusion_matrix, roc_curve, auc\n",
    "print('Accuracy: ', str(accuracy_score(y_test, predictions)))\n",
    "print('Precision: ', str(precision_score(y_test, predictions)))\n",
    "print('Recall: ', str(recall_score(y_test, predictions)))\n",
    "print('F1: ', str(f1_score(y_test, predictions)))\n",
    "print('Area under ROC Curve: ', str(roc_auc_score(y_test, predictions_probs[:,1])))\n",
    "print('GINI: ', str(-1 + 2*roc_auc_score(y_test, predictions_probs[:,1])))\n",
    "\n",
    "tn, fp, fn, tp = confusion_matrix(y_test, predictions).ravel()\n",
    "\n",
    "print('True Negatives: ', str(tn))\n",
    "print('True Positives: ', str(tp))\n",
    "print('False Negatives: ', str(fn))\n",
    "print('False Positives: ', str(fp))"
   ]
  },
  {
   "cell_type": "code",
   "execution_count": 9,
   "metadata": {
    "_uuid": "e125d903e4b9e19688bd89672ec464064c1b2e15"
   },
   "outputs": [
    {
     "data": {
      "text/html": [
       "<div>\n",
       "<style scoped>\n",
       "    .dataframe tbody tr th:only-of-type {\n",
       "        vertical-align: middle;\n",
       "    }\n",
       "\n",
       "    .dataframe tbody tr th {\n",
       "        vertical-align: top;\n",
       "    }\n",
       "\n",
       "    .dataframe thead th {\n",
       "        text-align: right;\n",
       "    }\n",
       "</style>\n",
       "<table border=\"1\" class=\"dataframe\">\n",
       "  <thead>\n",
       "    <tr style=\"text-align: right;\">\n",
       "      <th></th>\n",
       "      <th>0</th>\n",
       "      <th>1</th>\n",
       "    </tr>\n",
       "  </thead>\n",
       "  <tbody>\n",
       "    <tr>\n",
       "      <th>7</th>\n",
       "      <td>Donations per Months since First Donation</td>\n",
       "      <td>19.2149</td>\n",
       "    </tr>\n",
       "    <tr>\n",
       "      <th>9</th>\n",
       "      <td>Donation Counts per Months since First Donating</td>\n",
       "      <td>17.0881</td>\n",
       "    </tr>\n",
       "    <tr>\n",
       "      <th>1</th>\n",
       "      <td>Months since Last Donation</td>\n",
       "      <td>16.8029</td>\n",
       "    </tr>\n",
       "    <tr>\n",
       "      <th>6</th>\n",
       "      <td>Donations per Months Donating</td>\n",
       "      <td>8.45441</td>\n",
       "    </tr>\n",
       "    <tr>\n",
       "      <th>0</th>\n",
       "      <td>Unnamed: 0</td>\n",
       "      <td>8.01891</td>\n",
       "    </tr>\n",
       "    <tr>\n",
       "      <th>11</th>\n",
       "      <td>Unknown per Donation</td>\n",
       "      <td>6.70678</td>\n",
       "    </tr>\n",
       "    <tr>\n",
       "      <th>5</th>\n",
       "      <td>Months Donating</td>\n",
       "      <td>6.20775</td>\n",
       "    </tr>\n",
       "    <tr>\n",
       "      <th>2</th>\n",
       "      <td>Number of Donations</td>\n",
       "      <td>4.97183</td>\n",
       "    </tr>\n",
       "    <tr>\n",
       "      <th>4</th>\n",
       "      <td>Months since First Donation</td>\n",
       "      <td>4.88837</td>\n",
       "    </tr>\n",
       "    <tr>\n",
       "      <th>3</th>\n",
       "      <td>Total Volume Donated (c.c.)</td>\n",
       "      <td>4.60293</td>\n",
       "    </tr>\n",
       "    <tr>\n",
       "      <th>8</th>\n",
       "      <td>Donation Counts per Months Donating</td>\n",
       "      <td>3.04314</td>\n",
       "    </tr>\n",
       "    <tr>\n",
       "      <th>10</th>\n",
       "      <td>Donation Volume per Donation</td>\n",
       "      <td>0</td>\n",
       "    </tr>\n",
       "  </tbody>\n",
       "</table>\n",
       "</div>"
      ],
      "text/plain": [
       "                                                  0        1\n",
       "7   Donations per Months since First Donation        19.2149\n",
       "9   Donation Counts per Months since First Donating  17.0881\n",
       "1   Months since Last Donation                       16.8029\n",
       "6   Donations per Months Donating                    8.45441\n",
       "0   Unnamed: 0                                       8.01891\n",
       "11  Unknown per Donation                             6.70678\n",
       "5   Months Donating                                  6.20775\n",
       "2   Number of Donations                              4.97183\n",
       "4   Months since First Donation                      4.88837\n",
       "3   Total Volume Donated (c.c.)                      4.60293\n",
       "8   Donation Counts per Months Donating              3.04314\n",
       "10  Donation Volume per Donation                     0      "
      ]
     },
     "execution_count": 9,
     "metadata": {},
     "output_type": "execute_result"
    }
   ],
   "source": [
    "feature_importance = model.get_feature_importance(train_pool)\n",
    "feature_names = X_train.columns\n",
    "feature_imp = pd.DataFrame([feature_names, feature_importance])\n",
    "final = feature_imp.transpose()\n",
    "final.sort_values(by = 1, ascending = False, inplace = True)\n",
    "pd.set_option('display.max_colwidth', -1)\n",
    "final.head(500)"
   ]
  },
  {
   "cell_type": "code",
   "execution_count": 10,
   "metadata": {
    "_uuid": "96b2b4c09a62e90750fbb7f8be4b475d8b21bc3d"
   },
   "outputs": [],
   "source": []
  }
 ],
 "metadata": {
  "kernelspec": {
   "display_name": "Python 3",
   "language": "python",
   "name": "python3"
  },
  "language_info": {
   "codemirror_mode": {
    "name": "ipython",
    "version": 3
   },
   "file_extension": ".py",
   "mimetype": "text/x-python",
   "name": "python",
   "nbconvert_exporter": "python",
   "pygments_lexer": "ipython3",
   "version": "3.6.6"
  },
  "projectdetails": {
   "creator_id": "ppranja",
   "notebook_id": "6f2d6639-c5ff-44c6-b9f3-5e8bbe9e59c7",
   "notebook_name": "blood1.ipynb",
   "prod_sys": "",
   "project_desc": "Learning",
   "project_id": "4f1b91ca-01ac-4281-a4d7-e8eaa66190fb",
   "project_name": "Basics",
   "project_status": null,
   "status": "new"
  }
 },
 "nbformat": 4,
 "nbformat_minor": 1
}
