{
 "cells": [
  {
   "cell_type": "code",
   "execution_count": 1,
   "metadata": {
    "_uuid": "fb29acc491e3a063f79c542d302befe74e00488e"
   },
   "outputs": [
    {
     "name": "stdout",
     "output_type": "stream",
     "text": [
      "\n",
      "\n",
      "Ask a home buyer to describe their dream house, \n",
      "and they probably won't begin with the height\n",
      "of the basement ceiling or the proximity to\n",
      "an east-west railroad. But this playground competition's dataset \n",
      "proves that much more influences price negotiations than \n",
      "the number of bedrooms or a white-picket fence.\n",
      "\n",
      "With 79 explanatory variables describing (almost) every aspect of residential homes in Ames, Iowa, this competition challenges you to predict the final price of each home.\n",
      "\n",
      "It is your job to predict the sales price for each house. \n",
      "For each Id in the test set, you must predict the value of the SalePrice variable. \n",
      "\n",
      "Metric: \n",
      "Submissions are evaluated on Root-Mean-Squared-Error (RMSE)\n",
      "between the logarithm of the predicted value and the logarithm\n",
      "of the observed sales price. \n",
      "\n",
      "(Taking logs means that errors in predicting expensive houses \n",
      "and cheap houses will affect the result equally.)\n",
      "\n",
      "\n"
     ]
    }
   ],
   "source": [
    "print('''\n",
    "\n",
    "Ask a home buyer to describe their dream house, \n",
    "and they probably won't begin with the height\n",
    "of the basement ceiling or the proximity to\n",
    "an east-west railroad. But this playground competition's dataset \n",
    "proves that much more influences price negotiations than \n",
    "the number of bedrooms or a white-picket fence.\n",
    "\n",
    "With 79 explanatory variables describing (almost) every aspect of residential homes in Ames, Iowa, this competition challenges you to predict the final price of each home.\n",
    "\n",
    "It is your job to predict the sales price for each house. \n",
    "For each Id in the test set, you must predict the value of the SalePrice variable. \n",
    "\n",
    "Metric: \n",
    "Submissions are evaluated on Root-Mean-Squared-Error (RMSE)\n",
    "between the logarithm of the predicted value and the logarithm\n",
    "of the observed sales price. \n",
    "\n",
    "(Taking logs means that errors in predicting expensive houses \n",
    "and cheap houses will affect the result equally.)\n",
    "\n",
    "''')"
   ]
  },
  {
   "cell_type": "code",
   "execution_count": 2,
   "metadata": {
    "_uuid": "cf182e0e89af90faf470fa90c78910244db42916"
   },
   "outputs": [
    {
     "name": "stderr",
     "output_type": "stream",
     "text": [
      "/opt/conda/lib/python3.6/site-packages/pandas/core/frame.py:6211: FutureWarning: Sorting because non-concatenation axis is not aligned. A future version\n",
      "of pandas will change to not sort by default.\n",
      "\n",
      "To accept the future behavior, pass 'sort=False'.\n",
      "\n",
      "To retain the current behavior and silence the warning, pass 'sort=True'.\n",
      "\n",
      "  sort=sort)\n"
     ]
    }
   ],
   "source": [
    "import pandas as pd\n",
    "# import the training and holdout data\n",
    "train = pd.read_csv('../input/train.csv')\n",
    "test = pd.read_csv('../input/test.csv')\n",
    "data = train.append(test)"
   ]
  },
  {
   "cell_type": "code",
   "execution_count": 3,
   "metadata": {
    "_uuid": "69f661eb1336aa03cc2fe89c70aebed6afca7741"
   },
   "outputs": [],
   "source": [
    "import numpy as np\n",
    "logtransform = ['SalePrice']\n",
    "for i in logtransform: \n",
    "    data[i] = np.log(np.array(data[i]))"
   ]
  },
  {
   "cell_type": "code",
   "execution_count": 4,
   "metadata": {
    "_uuid": "4e74eeb03fe124afb178f5687c561a74c6403be6"
   },
   "outputs": [
    {
     "name": "stderr",
     "output_type": "stream",
     "text": [
      "/opt/conda/lib/python3.6/site-packages/sklearn/model_selection/_split.py:2179: FutureWarning: From version 0.21, test_size will always complement train_size unless both are specified.\n",
      "  FutureWarning)\n"
     ]
    }
   ],
   "source": [
    "# CATBOOST FEATURE PREP\n",
    "\n",
    "data = data[data['SalePrice'].notna()]\n",
    "data.fillna(-999, inplace = True)\n",
    "X = data.drop(['SalePrice', 'Id'], axis =1)\n",
    "y = data['SalePrice']\n",
    "cat_features = np.where(X.dtypes == 'object')[0]\n",
    "\n",
    "# TRAIN TEST SPLIT\n",
    "\n",
    "from sklearn.model_selection import train_test_split\n",
    "X_train, X_test, y_train, y_test = train_test_split(X, y, train_size = 0.8, random_state=42)\n",
    "from catboost import Pool, CatBoostRegressor, cv\n",
    "\n",
    "train_pool = Pool(X_train, y_train, cat_features = cat_features)\n",
    "test_pool = Pool(X_test, y_test, cat_features = cat_features)"
   ]
  },
  {
   "cell_type": "code",
   "execution_count": 5,
   "metadata": {
    "_uuid": "98e3f96b8271af19c86d19693cb01e9ce66d82b3"
   },
   "outputs": [
    {
     "name": "stderr",
     "output_type": "stream",
     "text": [
      "/opt/conda/lib/python3.6/site-packages/sklearn/model_selection/_split.py:2179: FutureWarning: From version 0.21, test_size will always complement train_size unless both are specified.\n",
      "  FutureWarning)\n"
     ]
    }
   ],
   "source": [
    "# TRAIN TEST SPLIT\n",
    "\n",
    "from sklearn.model_selection import train_test_split\n",
    "X_train, X_test, y_train, y_test = train_test_split(X, y, train_size = 0.7, random_state=42)"
   ]
  },
  {
   "cell_type": "code",
   "execution_count": 6,
   "metadata": {
    "_uuid": "7d52fb1a4dae6be4bd4d92199a2383a5d61d6939"
   },
   "outputs": [
    {
     "name": "stdout",
     "output_type": "stream",
     "text": [
      "0:\tlearn: 12.0224990\ttest: 11.9908746\tbest: 11.9908746 (0)\ttotal: 126ms\tremaining: 3m 9s\n",
      "300:\tlearn: 7.5951035\ttest: 7.5549990\tbest: 7.5549990 (300)\ttotal: 6.94s\tremaining: 27.6s\n",
      "600:\tlearn: 3.1237248\ttest: 3.0858741\tbest: 3.0858741 (600)\ttotal: 8.11s\tremaining: 12.1s\n",
      "900:\tlearn: 0.1279841\ttest: 0.1538737\tbest: 0.1538737 (900)\ttotal: 14.2s\tremaining: 9.46s\n",
      "1200:\tlearn: 0.0842793\ttest: 0.1403735\tbest: 0.1403211 (1199)\ttotal: 27.3s\tremaining: 6.8s\n",
      "1499:\tlearn: 0.0605608\ttest: 0.1370624\tbest: 0.1365999 (1469)\ttotal: 41.1s\tremaining: 0us\n",
      "\n",
      "bestTest = 0.1365999165\n",
      "bestIteration = 1469\n",
      "\n",
      "Shrink model to first 1470 iterations.\n"
     ]
    },
    {
     "data": {
      "text/plain": [
       "<catboost.core.CatBoostRegressor at 0x7f2bf21b4a90>"
      ]
     },
     "execution_count": 6,
     "metadata": {},
     "output_type": "execute_result"
    }
   ],
   "source": [
    "from catboost import Pool, CatBoostRegressor\n",
    "# more on MAE - https://heartbeat.fritz.ai/5-regression-loss-functions-all-machine-learners-should-know-4fb140e9d4b0\n",
    "cat_model = CatBoostRegressor(\n",
    "    loss_function='MAE',\n",
    "    random_seed = 15,\n",
    "    eval_metric = 'RMSE',\n",
    "    verbose = 300, \n",
    "    max_ctr_complexity=15, \n",
    "    iterations = 1500\n",
    "     )\n",
    "\n",
    "cat_model.fit(\n",
    "    train_pool,\n",
    "    eval_set = test_pool, \n",
    "    use_best_model = True\n",
    "    )"
   ]
  },
  {
   "cell_type": "code",
   "execution_count": 7,
   "metadata": {
    "_uuid": "ddff092f40da3aba694495c98480b9df74ca5db3"
   },
   "outputs": [
    {
     "name": "stdout",
     "output_type": "stream",
     "text": [
      "\n",
      "RMSE has been minimised to 0.1345 and R-Square of Test and Train datasets is above 0.90. \n",
      "what worked - > \n",
      "1. using Catboost to allow handling of multiple categorical features\n",
      "2. allowing Catboost to explore more permutations of categorical features\n",
      "3. using MAE instead of RMSE/R2 in Loss function. MAE helps model ignore influence of outliers. \n",
      "All in all, House Prices are easy to predict if we are given such rich data.\n",
      "\n"
     ]
    }
   ],
   "source": [
    "print('''\n",
    "RMSE has been minimised to 0.1345 and R-Square of Test and Train datasets is above 0.90. \n",
    "what worked - > \n",
    "1. using Catboost to allow handling of multiple categorical features\n",
    "2. allowing Catboost to explore more permutations of categorical features\n",
    "3. using MAE instead of RMSE/R2 in Loss function. MAE helps model ignore influence of outliers. \n",
    "All in all, House Prices are easy to predict if we are given such rich data.\n",
    "''')"
   ]
  },
  {
   "cell_type": "code",
   "execution_count": 8,
   "metadata": {
    "_uuid": "c742d0cc1dbd331b878869e347bd73b91880283b"
   },
   "outputs": [],
   "source": []
  }
 ],
 "metadata": {
  "kernelspec": {
   "display_name": "Python 3",
   "language": "python",
   "name": "python3"
  },
  "language_info": {
   "codemirror_mode": {
    "name": "ipython",
    "version": 3
   },
   "file_extension": ".py",
   "mimetype": "text/x-python",
   "name": "python",
   "nbconvert_exporter": "python",
   "pygments_lexer": "ipython3",
   "version": "3.6.6"
  },
  "projectdetails": {
   "creator_id": "ppranja",
   "notebook_id": "e67156a1-358d-40ac-860a-2d66a96f41fc",
   "notebook_name": "HousPrc2-Copy1.ipynb",
   "prod_sys": "",
   "project_desc": "Learning",
   "project_id": "4f1b91ca-01ac-4281-a4d7-e8eaa66190fb",
   "project_name": "Basics",
   "project_status": null,
   "status": "new"
  }
 },
 "nbformat": 4,
 "nbformat_minor": 1
}
